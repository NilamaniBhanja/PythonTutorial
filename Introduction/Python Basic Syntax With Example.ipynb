{
 "cells": [
  {
   "cell_type": "markdown",
   "id": "e524189e",
   "metadata": {},
   "source": [
    "# Indentation in Python"
   ]
  },
  {
   "cell_type": "code",
   "execution_count": 1,
   "id": "a4ada33c",
   "metadata": {},
   "outputs": [
    {
     "name": "stdout",
     "output_type": "stream",
     "text": [
      "Hello World!\n"
     ]
    }
   ],
   "source": [
    "print(\"Hello World!\")"
   ]
  },
  {
   "cell_type": "code",
   "execution_count": 2,
   "id": "cc5a5fcf",
   "metadata": {},
   "outputs": [
    {
     "name": "stdout",
     "output_type": "stream",
     "text": [
      "True\n"
     ]
    }
   ],
   "source": [
    "if True:\n",
    "    print(\"True\")\n",
    "else:\n",
    "    print(\"False\")"
   ]
  },
  {
   "cell_type": "code",
   "execution_count": 3,
   "id": "fdfecbb5",
   "metadata": {},
   "outputs": [
    {
     "ename": "IndentationError",
     "evalue": "expected an indented block (<ipython-input-3-1c0550ff8db5>, line 2)",
     "output_type": "error",
     "traceback": [
      "\u001b[1;36m  File \u001b[1;32m\"<ipython-input-3-1c0550ff8db5>\"\u001b[1;36m, line \u001b[1;32m2\u001b[0m\n\u001b[1;33m    print(\"True\")\u001b[0m\n\u001b[1;37m    ^\u001b[0m\n\u001b[1;31mIndentationError\u001b[0m\u001b[1;31m:\u001b[0m expected an indented block\n"
     ]
    }
   ],
   "source": [
    "if True:\n",
    "print(\"True\")\n",
    "else:\n",
    "print(\"False\")"
   ]
  },
  {
   "cell_type": "markdown",
   "id": "e8912d2e",
   "metadata": {},
   "source": [
    "# Quotation in Python or String declarion"
   ]
  },
  {
   "cell_type": "code",
   "execution_count": 4,
   "id": "670e7093",
   "metadata": {},
   "outputs": [
    {
     "name": "stdout",
     "output_type": "stream",
     "text": [
      "word\n"
     ]
    }
   ],
   "source": [
    "word = 'word'\n",
    "print(word)"
   ]
  },
  {
   "cell_type": "code",
   "execution_count": 5,
   "id": "71ffed5e",
   "metadata": {},
   "outputs": [
    {
     "name": "stdout",
     "output_type": "stream",
     "text": [
      "This is a sentence\n"
     ]
    }
   ],
   "source": [
    "sentence = \"This is a sentence\"\n",
    "print(sentence)"
   ]
  },
  {
   "cell_type": "code",
   "execution_count": 6,
   "id": "c44ba72e",
   "metadata": {},
   "outputs": [
    {
     "name": "stdout",
     "output_type": "stream",
     "text": [
      "This a paragraph\n",
      "        support multi line\n"
     ]
    }
   ],
   "source": [
    "paragraph = \"\"\"This a paragraph\n",
    "        support multi line\"\"\"\n",
    "print(paragraph)"
   ]
  },
  {
   "cell_type": "markdown",
   "id": "516ea9e0",
   "metadata": {},
   "source": [
    "# Comments in Python"
   ]
  },
  {
   "cell_type": "code",
   "execution_count": 7,
   "id": "f7527d39",
   "metadata": {},
   "outputs": [],
   "source": [
    "#First Comment in Python"
   ]
  },
  {
   "cell_type": "code",
   "execution_count": 8,
   "id": "9f530f42",
   "metadata": {},
   "outputs": [
    {
     "ename": "NameError",
     "evalue": "name 'First' is not defined",
     "output_type": "error",
     "traceback": [
      "\u001b[1;31m---------------------------------------------------------------------------\u001b[0m",
      "\u001b[1;31mNameError\u001b[0m                                 Traceback (most recent call last)",
      "\u001b[1;32m<ipython-input-8-2d4349f9ed5e>\u001b[0m in \u001b[0;36m<module>\u001b[1;34m\u001b[0m\n\u001b[1;32m----> 1\u001b[1;33m \u001b[0mFirst\u001b[0m \u001b[1;31m# Comment in Python\u001b[0m\u001b[1;33m\u001b[0m\u001b[1;33m\u001b[0m\u001b[0m\n\u001b[0m",
      "\u001b[1;31mNameError\u001b[0m: name 'First' is not defined"
     ]
    }
   ],
   "source": [
    "First # Comment in Python"
   ]
  },
  {
   "cell_type": "markdown",
   "id": "745433f1",
   "metadata": {},
   "source": [
    "# Multiline Comment in Python"
   ]
  },
  {
   "cell_type": "code",
   "execution_count": null,
   "id": "1f2d0c92",
   "metadata": {},
   "outputs": [],
   "source": [
    "\"\"\"\n",
    "This multi line\n",
    "comments\n",
    "\"\"\"\n",
    "print(\"Hello World\")"
   ]
  },
  {
   "cell_type": "markdown",
   "id": "a0d2bbdf",
   "metadata": {},
   "source": [
    "# Using Blank Line"
   ]
  },
  {
   "cell_type": "code",
   "execution_count": 9,
   "id": "990f2fe5",
   "metadata": {},
   "outputs": [
    {
     "name": "stdout",
     "output_type": "stream",
     "text": [
      "Hello World\n"
     ]
    }
   ],
   "source": [
    "\n",
    "\n",
    "#The above line is complete and Python will ignore this line at execution time.\n",
    "print(\"Hello World\")"
   ]
  },
  {
   "cell_type": "markdown",
   "id": "1594b77b",
   "metadata": {},
   "source": [
    "# Multiple Statements"
   ]
  },
  {
   "cell_type": "code",
   "execution_count": 10,
   "id": "4b452ae2",
   "metadata": {},
   "outputs": [
    {
     "name": "stdout",
     "output_type": "stream",
     "text": [
      "95\n"
     ]
    }
   ],
   "source": [
    "sum = 10 + 23 + 9 \\\n",
    " + 53\n",
    "\n",
    "print(sum)"
   ]
  },
  {
   "cell_type": "code",
   "execution_count": 11,
   "id": "f096181e",
   "metadata": {},
   "outputs": [
    {
     "name": "stdout",
     "output_type": "stream",
     "text": [
      "95\n"
     ]
    }
   ],
   "source": [
    "sum = (10 + 23 + 9 \n",
    " + 53)\n",
    "\n",
    "print(sum)"
   ]
  },
  {
   "cell_type": "markdown",
   "id": "12a272bc",
   "metadata": {},
   "source": [
    "# Multiple statements on a single line"
   ]
  },
  {
   "cell_type": "code",
   "execution_count": 12,
   "id": "c944bd31",
   "metadata": {},
   "outputs": [
    {
     "name": "stdout",
     "output_type": "stream",
     "text": [
      "Hello Lipsa\n",
      "Welcome to InfoSyntax\n"
     ]
    }
   ],
   "source": [
    "print(\"Hello Lipsa\"); print(\"Welcome to InfoSyntax\");"
   ]
  },
  {
   "cell_type": "markdown",
   "id": "c2e6b158",
   "metadata": {},
   "source": [
    "# Python Variables"
   ]
  },
  {
   "cell_type": "code",
   "execution_count": 13,
   "id": "95b4aa1f",
   "metadata": {},
   "outputs": [
    {
     "name": "stdout",
     "output_type": "stream",
     "text": [
      "10\n",
      "Lipsa\n"
     ]
    }
   ],
   "source": [
    "# variables are created when you assign a value to it. Python has no command for declaring a variable.\n",
    "a=10\n",
    "name=\"Lipsa\"\n",
    "print(a)\n",
    "print(name)"
   ]
  },
  {
   "cell_type": "markdown",
   "id": "627da919",
   "metadata": {},
   "source": [
    "# Python User Input"
   ]
  },
  {
   "cell_type": "code",
   "execution_count": 14,
   "id": "2be75ac1",
   "metadata": {},
   "outputs": [
    {
     "name": "stdout",
     "output_type": "stream",
     "text": [
      "What is your name ?Lipsa\n",
      "My name is  Lipsa\n"
     ]
    }
   ],
   "source": [
    "name = input(\"What is your name ?\")\n",
    "print('My name is ', name)"
   ]
  }
 ],
 "metadata": {
  "kernelspec": {
   "display_name": "Python 3",
   "language": "python",
   "name": "python3"
  },
  "language_info": {
   "codemirror_mode": {
    "name": "ipython",
    "version": 3
   },
   "file_extension": ".py",
   "mimetype": "text/x-python",
   "name": "python",
   "nbconvert_exporter": "python",
   "pygments_lexer": "ipython3",
   "version": "3.8.8"
  }
 },
 "nbformat": 4,
 "nbformat_minor": 5
}
