{
 "cells": [
  {
   "cell_type": "markdown",
   "id": "bf75e190",
   "metadata": {
    "papermill": {
     "duration": 0.025655,
     "end_time": "2021-09-22T13:53:03.582617",
     "exception": false,
     "start_time": "2021-09-22T13:53:03.556962",
     "status": "completed"
    },
    "tags": []
   },
   "source": [
    "Module programming refers to the process breaking a large, unwieldy programming task into seperate, smaller, more managable sub task or modules. individual modules can be coded together like building blocks to create a larger application."
   ]
  },
  {
   "cell_type": "markdown",
   "id": "63409719",
   "metadata": {
    "papermill": {
     "duration": 0.023847,
     "end_time": "2021-09-22T13:53:03.631309",
     "exception": false,
     "start_time": "2021-09-22T13:53:03.607462",
     "status": "completed"
    },
    "tags": []
   },
   "source": [
    "## Advantage of Module"
   ]
  },
  {
   "cell_type": "markdown",
   "id": "f80d369b",
   "metadata": {
    "papermill": {
     "duration": 0.023638,
     "end_time": "2021-09-22T13:53:03.679788",
     "exception": false,
     "start_time": "2021-09-22T13:53:03.656150",
     "status": "completed"
    },
    "tags": []
   },
   "source": [
    "<ul>\n",
    "    <li>Simplicity</li>\n",
    "    <li>Maintainability</li>\n",
    "    <li>Reusability</li>\n",
    "    <li>Scoping</li>\n",
    "</ul>    "
   ]
  },
  {
   "cell_type": "markdown",
   "id": "ec70758f",
   "metadata": {
    "papermill": {
     "duration": 0.023848,
     "end_time": "2021-09-22T13:53:03.727850",
     "exception": false,
     "start_time": "2021-09-22T13:53:03.704002",
     "status": "completed"
    },
    "tags": []
   },
   "source": [
    "We use modules to break down large programs into small manageable and organized files. Furthermore, modules provide reusability of code.\n",
    "\n",
    "We can define our most used functions in a module and import it, instead of copying their definitions into different programs."
   ]
  },
  {
   "cell_type": "markdown",
   "id": "343a0ec4",
   "metadata": {
    "papermill": {
     "duration": 0.023594,
     "end_time": "2021-09-22T13:53:03.777040",
     "exception": false,
     "start_time": "2021-09-22T13:53:03.753446",
     "status": "completed"
    },
    "tags": []
   },
   "source": [
    "<b>Example - </b> <br/>\n",
    "I have created TestModule.py file and kept in same directory. <br/>\n",
    "The below code written in TestModule.py file.<br/><br/>\n",
    "\n",
    "lst = [\"Hello\", \"World\"]<br/>\n",
    "def greet(name):<br/>\n",
    "\t&nbsp;\t&nbsp;\t&nbsp;\t&nbsp; print(\"Hello \", name)<br/>\n",
    "<br/>\n",
    "class Test:<br/>\n",
    "&nbsp;\t&nbsp;\t&nbsp;\t&nbsp;     pass<br/>\n",
    "<br/>\n",
    "def Add(num1, numb2):<br/>\n",
    "&nbsp;\t&nbsp;\t&nbsp;\t&nbsp;     return num1 + numb2<br/>"
   ]
  },
  {
   "cell_type": "markdown",
   "id": "7212ce2d",
   "metadata": {
    "papermill": {
     "duration": 0.025189,
     "end_time": "2021-09-22T13:53:03.827572",
     "exception": false,
     "start_time": "2021-09-22T13:53:03.802383",
     "status": "completed"
    },
    "tags": []
   },
   "source": [
    "### How to import modules in Python?"
   ]
  },
  {
   "cell_type": "markdown",
   "id": "0cdd587f",
   "metadata": {
    "papermill": {
     "duration": 0.023743,
     "end_time": "2021-09-22T13:53:03.875686",
     "exception": false,
     "start_time": "2021-09-22T13:53:03.851943",
     "status": "completed"
    },
    "tags": []
   },
   "source": [
    "We can import the definitions inside a module to another module or the interactive interpreter in Python."
   ]
  },
  {
   "cell_type": "code",
   "execution_count": 1,
   "id": "cb39acea",
   "metadata": {
    "execution": {
     "iopub.execute_input": "2021-09-22T13:53:03.927766Z",
     "iopub.status.busy": "2021-09-22T13:53:03.926638Z",
     "iopub.status.idle": "2021-09-22T13:53:03.999451Z",
     "shell.execute_reply": "2021-09-22T13:53:03.998384Z"
    },
    "papermill": {
     "duration": 0.100045,
     "end_time": "2021-09-22T13:53:03.999764",
     "exception": true,
     "start_time": "2021-09-22T13:53:03.899719",
     "status": "failed"
    },
    "tags": []
   },
   "outputs": [
    {
     "ename": "ModuleNotFoundError",
     "evalue": "No module named 'TestModule'",
     "output_type": "error",
     "traceback": [
      "\u001b[0;31m---------------------------------------------------------------------------\u001b[0m",
      "\u001b[0;31mModuleNotFoundError\u001b[0m                       Traceback (most recent call last)",
      "\u001b[0;32m/tmp/ipykernel_20/1110275010.py\u001b[0m in \u001b[0;36m<module>\u001b[0;34m\u001b[0m\n\u001b[0;32m----> 1\u001b[0;31m \u001b[0;32mimport\u001b[0m \u001b[0mTestModule\u001b[0m\u001b[0;34m\u001b[0m\u001b[0;34m\u001b[0m\u001b[0m\n\u001b[0m\u001b[1;32m      2\u001b[0m \u001b[0;34m\u001b[0m\u001b[0m\n\u001b[1;32m      3\u001b[0m \u001b[0mprint\u001b[0m\u001b[0;34m(\u001b[0m\u001b[0mTestModule\u001b[0m\u001b[0;34m.\u001b[0m\u001b[0mlst\u001b[0m\u001b[0;34m)\u001b[0m\u001b[0;34m\u001b[0m\u001b[0;34m\u001b[0m\u001b[0m\n\u001b[1;32m      4\u001b[0m \u001b[0mTestModule\u001b[0m\u001b[0;34m.\u001b[0m\u001b[0mgreet\u001b[0m\u001b[0;34m(\u001b[0m\u001b[0;34m\"Lipsa\"\u001b[0m\u001b[0;34m)\u001b[0m\u001b[0;34m\u001b[0m\u001b[0;34m\u001b[0m\u001b[0m\n\u001b[1;32m      5\u001b[0m \u001b[0mprint\u001b[0m\u001b[0;34m(\u001b[0m\u001b[0mTestModule\u001b[0m\u001b[0;34m.\u001b[0m\u001b[0mAdd\u001b[0m\u001b[0;34m(\u001b[0m\u001b[0;36m30\u001b[0m\u001b[0;34m,\u001b[0m\u001b[0;36m90\u001b[0m\u001b[0;34m)\u001b[0m\u001b[0;34m)\u001b[0m\u001b[0;34m\u001b[0m\u001b[0;34m\u001b[0m\u001b[0m\n",
      "\u001b[0;31mModuleNotFoundError\u001b[0m: No module named 'TestModule'"
     ]
    }
   ],
   "source": [
    "import TestModule\n",
    "\n",
    "print(TestModule.lst)\n",
    "TestModule.greet(\"Lipsa\")\n",
    "print(TestModule.Add(30,90))\n",
    "\n",
    "print(TestModule.Test())"
   ]
  },
  {
   "cell_type": "markdown",
   "id": "64cf5da3",
   "metadata": {
    "papermill": {
     "duration": null,
     "end_time": null,
     "exception": null,
     "start_time": null,
     "status": "pending"
    },
    "tags": []
   },
   "source": [
    "<b>Import Module</b> - The directory from which the input script was runn or the current directory if the interpreter is being run interactively."
   ]
  },
  {
   "cell_type": "code",
   "execution_count": null,
   "id": "0a54c164",
   "metadata": {
    "papermill": {
     "duration": null,
     "end_time": null,
     "exception": null,
     "start_time": null,
     "status": "pending"
    },
    "tags": []
   },
   "outputs": [],
   "source": [
    "import TestModule\n",
    "TestModule.__file__"
   ]
  },
  {
   "cell_type": "markdown",
   "id": "82afb6ad",
   "metadata": {
    "papermill": {
     "duration": null,
     "end_time": null,
     "exception": null,
     "start_time": null,
     "status": "pending"
    },
    "tags": []
   },
   "source": [
    "### Import with renaming"
   ]
  },
  {
   "cell_type": "markdown",
   "id": "23a99733",
   "metadata": {
    "papermill": {
     "duration": null,
     "end_time": null,
     "exception": null,
     "start_time": null,
     "status": "pending"
    },
    "tags": []
   },
   "source": [
    "We have renamed the module name as very small name. This can save us typing time in some cases.<br/>\n"
   ]
  },
  {
   "cell_type": "code",
   "execution_count": null,
   "id": "6e2b8242",
   "metadata": {
    "papermill": {
     "duration": null,
     "end_time": null,
     "exception": null,
     "start_time": null,
     "status": "pending"
    },
    "tags": []
   },
   "outputs": [],
   "source": [
    "import TestModule as tm\n",
    "\n",
    "print(tm.lst)"
   ]
  },
  {
   "cell_type": "markdown",
   "id": "02fa22b8",
   "metadata": {
    "papermill": {
     "duration": null,
     "end_time": null,
     "exception": null,
     "start_time": null,
     "status": "pending"
    },
    "tags": []
   },
   "source": [
    "### Importing multiple module in one import statement"
   ]
  },
  {
   "cell_type": "markdown",
   "id": "d6d40c99",
   "metadata": {
    "papermill": {
     "duration": null,
     "end_time": null,
     "exception": null,
     "start_time": null,
     "status": "pending"
    },
    "tags": []
   },
   "source": [
    "We can import multiple module in one import statement.\n",
    "\n",
    "\n",
    "<b>import &lt;module_name1&gt;[,&lt;module_name2&gt;..... ]</b>"
   ]
  },
  {
   "cell_type": "code",
   "execution_count": null,
   "id": "5a9d8b28",
   "metadata": {
    "papermill": {
     "duration": null,
     "end_time": null,
     "exception": null,
     "start_time": null,
     "status": "pending"
    },
    "tags": []
   },
   "outputs": [],
   "source": [
    "#Multiple module import\n",
    "import TestModule, math\n",
    "\n",
    "print(TestModule.lst)\n",
    "\n",
    "print(math.pi)"
   ]
  },
  {
   "cell_type": "code",
   "execution_count": null,
   "id": "42cc8118",
   "metadata": {
    "papermill": {
     "duration": null,
     "end_time": null,
     "exception": null,
     "start_time": null,
     "status": "pending"
    },
    "tags": []
   },
   "outputs": [],
   "source": [
    "#Multiple module import with rename\n",
    "import TestModule as tm, math as m\n",
    "\n",
    "print(tm.lst)\n",
    "\n",
    "print(m.pi)"
   ]
  },
  {
   "cell_type": "markdown",
   "id": "35e4bfa7",
   "metadata": {
    "papermill": {
     "duration": null,
     "end_time": null,
     "exception": null,
     "start_time": null,
     "status": "pending"
    },
    "tags": []
   },
   "source": [
    "### Python from...import statement"
   ]
  },
  {
   "cell_type": "markdown",
   "id": "4fae465c",
   "metadata": {
    "papermill": {
     "duration": null,
     "end_time": null,
     "exception": null,
     "start_time": null,
     "status": "pending"
    },
    "tags": []
   },
   "source": [
    "We can import specific names from a module without importing the module as a whole. This is the alternate from of te import statement allows individual\n",
    "objects from the module to be importd directly into the caller symbol table."
   ]
  },
  {
   "cell_type": "code",
   "execution_count": null,
   "id": "de168284",
   "metadata": {
    "papermill": {
     "duration": null,
     "end_time": null,
     "exception": null,
     "start_time": null,
     "status": "pending"
    },
    "tags": []
   },
   "outputs": [],
   "source": [
    "from TestModule import lst, greet\n",
    "\n",
    "#Diectly access every object from module\n",
    "print(lst)\n",
    "greet('Neil')"
   ]
  },
  {
   "cell_type": "markdown",
   "id": "7f384b14",
   "metadata": {
    "papermill": {
     "duration": null,
     "end_time": null,
     "exception": null,
     "start_time": null,
     "status": "pending"
    },
    "tags": []
   },
   "source": [
    "<b> from &lt; module_name &gt; import * </b><br/>\n",
    "import everything from module."
   ]
  },
  {
   "cell_type": "markdown",
   "id": "493700bf",
   "metadata": {
    "papermill": {
     "duration": null,
     "end_time": null,
     "exception": null,
     "start_time": null,
     "status": "pending"
    },
    "tags": []
   },
   "source": [
    "It is also possible to import individual objects but enter them into the local symbol table alternate names.<br/>\n",
    "\n",
    "<b> import &lt; module_name1 &gt; import &lt;name1&gt; as &lt; alt_name1&gt; [, &lt;name2&gt; as &lt; alt_name2&gt; ....] </b>"
   ]
  },
  {
   "cell_type": "code",
   "execution_count": null,
   "id": "adfa06b1",
   "metadata": {
    "papermill": {
     "duration": null,
     "end_time": null,
     "exception": null,
     "start_time": null,
     "status": "pending"
    },
    "tags": []
   },
   "outputs": [],
   "source": [
    "from TestModule import lst as myList, greet as welcome\n",
    "\n",
    "#Diectly access every object with renaming from module\n",
    "print(myList)\n",
    "welcome('Neil')"
   ]
  },
  {
   "cell_type": "markdown",
   "id": "b9bd874e",
   "metadata": {
    "papermill": {
     "duration": null,
     "end_time": null,
     "exception": null,
     "start_time": null,
     "status": "pending"
    },
    "tags": []
   },
   "source": [
    "### dir() built-in Function"
   ]
  },
  {
   "cell_type": "markdown",
   "id": "70ea281c",
   "metadata": {
    "papermill": {
     "duration": null,
     "end_time": null,
     "exception": null,
     "start_time": null,
     "status": "pending"
    },
    "tags": []
   },
   "source": [
    "dir() is the built-in function in python. It returns a list of defined names in a namespace without arguments, it produces a alphabetically stored list of names in the current local symbol table."
   ]
  },
  {
   "cell_type": "code",
   "execution_count": null,
   "id": "f9275a74",
   "metadata": {
    "papermill": {
     "duration": null,
     "end_time": null,
     "exception": null,
     "start_time": null,
     "status": "pending"
    },
    "tags": []
   },
   "outputs": [],
   "source": [
    "import TestModule\n",
    "\n",
    "dir(TestModule)"
   ]
  },
  {
   "cell_type": "markdown",
   "id": "9fd91e08",
   "metadata": {
    "papermill": {
     "duration": null,
     "end_time": null,
     "exception": null,
     "start_time": null,
     "status": "pending"
    },
    "tags": []
   },
   "source": [
    "All the names defined in our current namespace can be found out using the dir() function without any arguments."
   ]
  },
  {
   "cell_type": "code",
   "execution_count": null,
   "id": "6ab48a68",
   "metadata": {
    "papermill": {
     "duration": null,
     "end_time": null,
     "exception": null,
     "start_time": null,
     "status": "pending"
    },
    "tags": []
   },
   "outputs": [],
   "source": [
    "from TestModule import *\n",
    "dir()"
   ]
  },
  {
   "cell_type": "markdown",
   "id": "f263b648",
   "metadata": {
    "papermill": {
     "duration": null,
     "end_time": null,
     "exception": null,
     "start_time": null,
     "status": "pending"
    },
    "tags": []
   },
   "source": [
    "### Reloading a module"
   ]
  },
  {
   "cell_type": "markdown",
   "id": "263df81a",
   "metadata": {
    "papermill": {
     "duration": null,
     "end_time": null,
     "exception": null,
     "start_time": null,
     "status": "pending"
    },
    "tags": []
   },
   "source": [
    "The Python interpreter imports a module only once during a session. This makes things more efficient. "
   ]
  },
  {
   "cell_type": "markdown",
   "id": "450fd4a2",
   "metadata": {
    "papermill": {
     "duration": null,
     "end_time": null,
     "exception": null,
     "start_time": null,
     "status": "pending"
    },
    "tags": []
   },
   "source": [
    "If you made a change to a module and need to reload it, you need to either restar the interpreter or use a function called reload() from module."
   ]
  },
  {
   "cell_type": "markdown",
   "id": "85d9b620",
   "metadata": {
    "papermill": {
     "duration": null,
     "end_time": null,
     "exception": null,
     "start_time": null,
     "status": "pending"
    },
    "tags": []
   },
   "source": [
    "I have created new module ReloadModule.py and writen only one print statement. <br/>\n",
    "print(\"Loaded the Module.\")"
   ]
  },
  {
   "cell_type": "code",
   "execution_count": null,
   "id": "929f4455",
   "metadata": {
    "papermill": {
     "duration": null,
     "end_time": null,
     "exception": null,
     "start_time": null,
     "status": "pending"
    },
    "tags": []
   },
   "outputs": [],
   "source": [
    "import ReloadModule"
   ]
  },
  {
   "cell_type": "code",
   "execution_count": null,
   "id": "58c4a30a",
   "metadata": {
    "papermill": {
     "duration": null,
     "end_time": null,
     "exception": null,
     "start_time": null,
     "status": "pending"
    },
    "tags": []
   },
   "outputs": [],
   "source": [
    "import ReloadModule"
   ]
  },
  {
   "cell_type": "markdown",
   "id": "a54242d2",
   "metadata": {
    "papermill": {
     "duration": null,
     "end_time": null,
     "exception": null,
     "start_time": null,
     "status": "pending"
    },
    "tags": []
   },
   "source": [
    "The above code import not reload the module in this session."
   ]
  },
  {
   "cell_type": "code",
   "execution_count": null,
   "id": "0ea53b2e",
   "metadata": {
    "papermill": {
     "duration": null,
     "end_time": null,
     "exception": null,
     "start_time": null,
     "status": "pending"
    },
    "tags": []
   },
   "outputs": [],
   "source": [
    "#Reload the module by using reload function.\n",
    "import importlib\n",
    "\n",
    "importlib.reload(ReloadModule)"
   ]
  },
  {
   "cell_type": "markdown",
   "id": "02e4089e",
   "metadata": {
    "papermill": {
     "duration": null,
     "end_time": null,
     "exception": null,
     "start_time": null,
     "status": "pending"
    },
    "tags": []
   },
   "source": [
    "## Executing a module as a script"
   ]
  },
  {
   "cell_type": "markdown",
   "id": "aee9085c",
   "metadata": {
    "papermill": {
     "duration": null,
     "end_time": null,
     "exception": null,
     "start_time": null,
     "status": "pending"
    },
    "tags": []
   },
   "source": [
    "any.py file that contains a module as essentially also a python script and there is not any reason it can't be executed like one.\n",
    "\n",
    "When a .py file is imported as a module python sets the special variable __name__ to the name of the module. However, if a file is run as a standardalone script, __name__ is set to the string '__name__' using this fact, You can discern which is the case at run time and alter behaviour accordingly."
   ]
  },
  {
   "cell_type": "markdown",
   "id": "060a4e83",
   "metadata": {
    "papermill": {
     "duration": null,
     "end_time": null,
     "exception": null,
     "start_time": null,
     "status": "pending"
    },
    "tags": []
   },
   "source": [
    "I have created new ScriptModule.py file and writen the below code."
   ]
  },
  {
   "cell_type": "code",
   "execution_count": null,
   "id": "754859d1",
   "metadata": {
    "papermill": {
     "duration": null,
     "end_time": null,
     "exception": null,
     "start_time": null,
     "status": "pending"
    },
    "tags": []
   },
   "outputs": [],
   "source": [
    "lst = [\"Hello\", \"World\"]\n",
    "def greet(name):\n",
    "    print(\"Hello \", name)\n",
    "\n",
    "class Test:\n",
    "    pass\n",
    "\n",
    "def Add(num1, numb2):\n",
    "    return num1 + numb2\n",
    "\n",
    "if __name__ == \"__main__\":\n",
    "    print('Executeing as standalone script')\n",
    "    print(lst)\n",
    "    greet('Ethan')\n",
    "    # receive parameter from command line\n",
    "    import sys\n",
    "    result = Add(int(sys.argv[1]),int(sys.argv[2]))\n",
    "    print(result)"
   ]
  },
  {
   "cell_type": "markdown",
   "id": "01f0cc89",
   "metadata": {
    "papermill": {
     "duration": null,
     "end_time": null,
     "exception": null,
     "start_time": null,
     "status": "pending"
    },
    "tags": []
   },
   "source": [
    "Execute the below code in command line<br/>\n",
    "python ScriptModule.py 10 40<br/>\n",
    "Executeing as standalone script<br/>\n",
    "['Hello', 'World']<br/>\n",
    "Hello  Ethan<br/>\n",
    "50<br/>"
   ]
  },
  {
   "cell_type": "markdown",
   "id": "f7a85079",
   "metadata": {
    "papermill": {
     "duration": null,
     "end_time": null,
     "exception": null,
     "start_time": null,
     "status": "pending"
    },
    "tags": []
   },
   "source": [
    "If you run as a script, you get output. <br/>\n",
    "python ScriptModule.py 10 40"
   ]
  },
  {
   "cell_type": "markdown",
   "id": "240b4f57",
   "metadata": {
    "papermill": {
     "duration": null,
     "end_time": null,
     "exception": null,
     "start_time": null,
     "status": "pending"
    },
    "tags": []
   },
   "source": [
    "If you import as a module, it will not not return all the output automatically."
   ]
  },
  {
   "cell_type": "code",
   "execution_count": null,
   "id": "39945734",
   "metadata": {
    "papermill": {
     "duration": null,
     "end_time": null,
     "exception": null,
     "start_time": null,
     "status": "pending"
    },
    "tags": []
   },
   "outputs": [],
   "source": [
    "import ScriptModule\n",
    "print(ScriptModule.lst)"
   ]
  },
  {
   "cell_type": "code",
   "execution_count": null,
   "id": "3b428b45",
   "metadata": {
    "papermill": {
     "duration": null,
     "end_time": null,
     "exception": null,
     "start_time": null,
     "status": "pending"
    },
    "tags": []
   },
   "outputs": [],
   "source": []
  }
 ],
 "metadata": {
  "kernelspec": {
   "display_name": "Python 3",
   "language": "python",
   "name": "python3"
  },
  "language_info": {
   "codemirror_mode": {
    "name": "ipython",
    "version": 3
   },
   "file_extension": ".py",
   "mimetype": "text/x-python",
   "name": "python",
   "nbconvert_exporter": "python",
   "pygments_lexer": "ipython3",
   "version": "3.7.10"
  },
  "papermill": {
   "default_parameters": {},
   "duration": 9.635064,
   "end_time": "2021-09-22T13:53:04.634332",
   "environment_variables": {},
   "exception": true,
   "input_path": "__notebook__.ipynb",
   "output_path": "__notebook__.ipynb",
   "parameters": {},
   "start_time": "2021-09-22T13:52:54.999268",
   "version": "2.3.3"
  }
 },
 "nbformat": 4,
 "nbformat_minor": 5
}
