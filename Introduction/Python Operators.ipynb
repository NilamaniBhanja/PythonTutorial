{
 "cells": [
  {
   "cell_type": "markdown",
   "id": "c21218f4",
   "metadata": {},
   "source": [
    "# Python Operators"
   ]
  },
  {
   "cell_type": "markdown",
   "id": "340d25b0",
   "metadata": {},
   "source": [
    "# Arithmetic Operators"
   ]
  },
  {
   "cell_type": "code",
   "execution_count": 1,
   "id": "6723e86d",
   "metadata": {},
   "outputs": [
    {
     "name": "stdout",
     "output_type": "stream",
     "text": [
      "Addition :  59\n",
      "Subtraction :  13\n",
      "Multiplication :  828\n",
      "Division :  1.565217391304348\n",
      "Division(floor) :  1\n",
      "Modulo :  13\n",
      "Power : 623673825204293256669089197883129856\n"
     ]
    }
   ],
   "source": [
    "x = 36\n",
    "y = 23\n",
    " \n",
    "# Addition of numbers\n",
    "add = x + y\n",
    "print('Addition : ', add)\n",
    "\n",
    " \n",
    "# Subtraction of numbers\n",
    "sub = x - y\n",
    "print('Subtraction : ', sub)\n",
    "\n",
    "# Multiplication of number\n",
    "mul = x * y\n",
    "print('Multiplication : ', mul)\n",
    " \n",
    "# Division(float) of number\n",
    "div1 = x / y\n",
    "print('Division : ', div1) \n",
    "\n",
    "# Division(floor) of number\n",
    "div2 = x // y\n",
    "print('Division(floor) : ', div2)\n",
    "\n",
    "# Modulo of both number\n",
    "mod = x % y\n",
    "print('Modulo : ', mod)\n",
    " \n",
    "# Power\n",
    "pw = x ** y\n",
    "print('Power :', pw) "
   ]
  },
  {
   "cell_type": "markdown",
   "id": "728b5fbb",
   "metadata": {},
   "source": [
    "# Comparison  Operators"
   ]
  },
  {
   "cell_type": "code",
   "execution_count": 2,
   "id": "185aefb2",
   "metadata": {},
   "outputs": [
    {
     "name": "stdout",
     "output_type": "stream",
     "text": [
      "x =  45 y =  98\n",
      "x > y  False\n",
      "x < y  True\n",
      "x == y  False\n",
      "x != y  True\n",
      "x >= y  False\n",
      "x <= y  True\n"
     ]
    }
   ],
   "source": [
    "x = 45\n",
    "y = 98\n",
    "print('x = ', x, 'y = ', y)\n",
    "\n",
    "# x > y is False\n",
    "print('x > y ', x > y)\n",
    " \n",
    "# x < y is True\n",
    "print('x < y ', x < y)\n",
    " \n",
    "# x == y is False\n",
    "print('x == y ', x == y)\n",
    " \n",
    "# x != y is True\n",
    "print('x != y ', x != y)\n",
    " \n",
    "# x >= y is False\n",
    "print('x >= y ', x >= y)\n",
    " \n",
    "# x <= y is True\n",
    "print('x <= y ', x <= y)"
   ]
  },
  {
   "cell_type": "markdown",
   "id": "1ea2051a",
   "metadata": {},
   "source": [
    "# Logical Operators"
   ]
  },
  {
   "cell_type": "code",
   "execution_count": 3,
   "id": "1eec7dd0",
   "metadata": {},
   "outputs": [
    {
     "name": "stdout",
     "output_type": "stream",
     "text": [
      "x and y is False\n",
      "x or y is True\n",
      "not x is False\n"
     ]
    }
   ],
   "source": [
    "x = True\n",
    "y = False\n",
    "\n",
    "print('x and y is',x and y)\n",
    "print('x or y is',x or y)\n",
    "print('not x is',not x)"
   ]
  },
  {
   "cell_type": "markdown",
   "id": "314bd408",
   "metadata": {},
   "source": [
    "# Bitwise Operators"
   ]
  },
  {
   "cell_type": "code",
   "execution_count": 4,
   "id": "839c9c4d",
   "metadata": {},
   "outputs": [
    {
     "name": "stdout",
     "output_type": "stream",
     "text": [
      "x =  20 y =  16\n",
      "x & y :  16\n",
      "x | y :  20\n",
      "~x :  -21\n",
      "x ^ y :  4\n",
      "x >> 3 :  2\n",
      "x << 3 :  160\n"
     ]
    }
   ],
   "source": [
    "x = 20\n",
    "y = 16\n",
    "print('x = ', x, 'y = ', y)\n",
    "\n",
    "# Print bitwise AND operation\n",
    "print('x & y : ', x & y)\n",
    " \n",
    "# Print bitwise OR operation\n",
    "print('x | y : ', x | y)\n",
    " \n",
    "# Print bitwise NOT operation\n",
    "print('~x : ', ~x)\n",
    " \n",
    "# print bitwise XOR operation\n",
    "print('x ^ y : ', x ^ y)\n",
    " \n",
    "# print bitwise right shift operation\n",
    "print('x >> 3 : ', x >> 3)\n",
    " \n",
    "# print bitwise left shift operation\n",
    "print('x << 3 : ', x << 3)"
   ]
  },
  {
   "cell_type": "markdown",
   "id": "097b7924",
   "metadata": {},
   "source": [
    "# Identity Python Operators"
   ]
  },
  {
   "cell_type": "code",
   "execution_count": 5,
   "id": "545d8c42",
   "metadata": {},
   "outputs": [
    {
     "name": "stdout",
     "output_type": "stream",
     "text": [
      "False\n",
      "True\n"
     ]
    }
   ],
   "source": [
    "x = 10\n",
    "y = x\n",
    " \n",
    "print(x is not y)\n",
    "print(x is y)"
   ]
  },
  {
   "cell_type": "markdown",
   "id": "b1e9837d",
   "metadata": {},
   "source": [
    "# Membership Python Operators"
   ]
  },
  {
   "cell_type": "code",
   "execution_count": 6,
   "id": "f9f2d688",
   "metadata": {},
   "outputs": [
    {
     "name": "stdout",
     "output_type": "stream",
     "text": [
      "x is present in given list\n",
      "y is NOT present in given list\n"
     ]
    }
   ],
   "source": [
    "x = 3\n",
    "y = 50\n",
    "list = [1, 2, 3, 4, 5]\n",
    "\n",
    "if (x in list):\n",
    "    print(\"x is present in given list\")\n",
    "else:\n",
    "    print(\"x is NOT present in given list\")\n",
    "\n",
    "if (y not in list):\n",
    "    print(\"y is NOT present in given list\")\n",
    "else:\n",
    "    print(\"y is present in given list\")"
   ]
  },
  {
   "cell_type": "code",
   "execution_count": null,
   "id": "8b52dba8",
   "metadata": {},
   "outputs": [],
   "source": []
  }
 ],
 "metadata": {
  "kernelspec": {
   "display_name": "Python 3",
   "language": "python",
   "name": "python3"
  },
  "language_info": {
   "codemirror_mode": {
    "name": "ipython",
    "version": 3
   },
   "file_extension": ".py",
   "mimetype": "text/x-python",
   "name": "python",
   "nbconvert_exporter": "python",
   "pygments_lexer": "ipython3",
   "version": "3.8.8"
  }
 },
 "nbformat": 4,
 "nbformat_minor": 5
}
