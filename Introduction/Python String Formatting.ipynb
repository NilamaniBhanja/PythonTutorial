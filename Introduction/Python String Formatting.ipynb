{
 "cells": [
  {
   "cell_type": "markdown",
   "id": "399c1a28",
   "metadata": {},
   "source": [
    "# String Formatting placeholders"
   ]
  },
  {
   "cell_type": "code",
   "execution_count": 1,
   "id": "f6892824",
   "metadata": {},
   "outputs": [
    {
     "name": "stdout",
     "output_type": "stream",
     "text": [
      "I'm going to inject some text here, and more text here.\n"
     ]
    }
   ],
   "source": [
    "print(\"I'm going to inject %s text here, and %s text here.\" %('some', 'more'))"
   ]
  },
  {
   "cell_type": "code",
   "execution_count": 2,
   "id": "99b278ec",
   "metadata": {},
   "outputs": [
    {
     "name": "stdout",
     "output_type": "stream",
     "text": [
      "I am going to this \tbig City.\n",
      "I am going to  'this \\tbig City'.\n"
     ]
    }
   ],
   "source": [
    "print('I am going to %s.' %'this \\tbig City')\n",
    "print('I am going to  %r.' %'this \\tbig City')"
   ]
  },
  {
   "cell_type": "markdown",
   "id": "32083145",
   "metadata": {},
   "source": [
    "# String Formatting with the format() method"
   ]
  },
  {
   "cell_type": "code",
   "execution_count": 3,
   "id": "517839ae",
   "metadata": {},
   "outputs": [
    {
     "name": "stdout",
     "output_type": "stream",
     "text": [
      "Neil Dreams Dzire\n"
     ]
    }
   ],
   "source": [
    "print('{2} {1} {0}'.format('Dzire', 'Dreams', 'Neil'))"
   ]
  },
  {
   "cell_type": "code",
   "execution_count": 4,
   "id": "0e051825",
   "metadata": {},
   "outputs": [
    {
     "name": "stdout",
     "output_type": "stream",
     "text": [
      "Hello World.\n",
      "Hello World.\n"
     ]
    }
   ],
   "source": [
    "print('Hello %s.' %('World'))\n",
    "\n",
    "\n",
    "print('Hello {p}.'.format(p='World'))"
   ]
  },
  {
   "cell_type": "markdown",
   "id": "1932284b",
   "metadata": {},
   "source": [
    "# Formatted string literals (F-String)"
   ]
  },
  {
   "cell_type": "code",
   "execution_count": 5,
   "id": "f3c74548",
   "metadata": {},
   "outputs": [
    {
     "name": "stdout",
     "output_type": "stream",
     "text": [
      "Live for Dreams.\n"
     ]
    }
   ],
   "source": [
    "name = 'Dreams'\n",
    "print(f\"Live for {name}.\")\n",
    "\n"
   ]
  },
  {
   "cell_type": "code",
   "execution_count": 6,
   "id": "fc22e542",
   "metadata": {},
   "outputs": [
    {
     "name": "stdout",
     "output_type": "stream",
     "text": [
      "Decimal number is:    23.4569\n"
     ]
    }
   ],
   "source": [
    "num = 23.45687\n",
    "\n",
    "print(f'Decimal number is: {num:{10}.{6}}')"
   ]
  },
  {
   "cell_type": "markdown",
   "id": "eb117964",
   "metadata": {},
   "source": [
    "# string.ascii_letter"
   ]
  },
  {
   "cell_type": "code",
   "execution_count": 7,
   "id": "09af152f",
   "metadata": {},
   "outputs": [],
   "source": [
    "import string"
   ]
  },
  {
   "cell_type": "code",
   "execution_count": 8,
   "id": "1f7b621a",
   "metadata": {},
   "outputs": [
    {
     "name": "stdout",
     "output_type": "stream",
     "text": [
      "abcdefghijklmnopqrstuvwxyzABCDEFGHIJKLMNOPQRSTUVWXYZ\n"
     ]
    }
   ],
   "source": [
    "result = string.ascii_letters\n",
    "print(result)"
   ]
  },
  {
   "cell_type": "code",
   "execution_count": 9,
   "id": "c434098c",
   "metadata": {},
   "outputs": [
    {
     "name": "stdout",
     "output_type": "stream",
     "text": [
      "abcdefghijklmnopqrstuvwxyz\n"
     ]
    }
   ],
   "source": [
    "result = string.ascii_lowercase\n",
    "print(result)"
   ]
  },
  {
   "cell_type": "code",
   "execution_count": 10,
   "id": "ccbfca14",
   "metadata": {},
   "outputs": [
    {
     "name": "stdout",
     "output_type": "stream",
     "text": [
      "ABCDEFGHIJKLMNOPQRSTUVWXYZ\n"
     ]
    }
   ],
   "source": [
    "result = string.ascii_uppercase\n",
    "print(result)"
   ]
  },
  {
   "cell_type": "code",
   "execution_count": 11,
   "id": "4465bf2a",
   "metadata": {},
   "outputs": [
    {
     "name": "stdout",
     "output_type": "stream",
     "text": [
      "0123456789\n"
     ]
    }
   ],
   "source": [
    "result = string.digits\n",
    "print(result)"
   ]
  },
  {
   "cell_type": "code",
   "execution_count": 12,
   "id": "fd56d813",
   "metadata": {},
   "outputs": [
    {
     "name": "stdout",
     "output_type": "stream",
     "text": [
      "0123456789abcdefABCDEF\n"
     ]
    }
   ],
   "source": [
    "result = string.hexdigits \n",
    "print(result)"
   ]
  },
  {
   "cell_type": "code",
   "execution_count": 13,
   "id": "09525565",
   "metadata": {},
   "outputs": [],
   "source": [
    "string1 = \"Hello World\""
   ]
  },
  {
   "cell_type": "code",
   "execution_count": 14,
   "id": "c65111ef",
   "metadata": {},
   "outputs": [
    {
     "name": "stdout",
     "output_type": "stream",
     "text": [
      "False\n"
     ]
    }
   ],
   "source": [
    "result = string1.startswith('World')\n",
    "print(result)"
   ]
  },
  {
   "cell_type": "code",
   "execution_count": 15,
   "id": "9df4735e",
   "metadata": {},
   "outputs": [
    {
     "name": "stdout",
     "output_type": "stream",
     "text": [
      "True\n"
     ]
    }
   ],
   "source": [
    "result = string1.startswith('Hello')\n",
    "print(result)"
   ]
  },
  {
   "cell_type": "code",
   "execution_count": 16,
   "id": "cd4e78a3",
   "metadata": {},
   "outputs": [
    {
     "name": "stdout",
     "output_type": "stream",
     "text": [
      "True\n"
     ]
    }
   ],
   "source": [
    "result = string1.startswith('H')\n",
    "print(result)"
   ]
  },
  {
   "cell_type": "code",
   "execution_count": 17,
   "id": "aec10e42",
   "metadata": {},
   "outputs": [
    {
     "name": "stdout",
     "output_type": "stream",
     "text": [
      "True\n"
     ]
    }
   ],
   "source": [
    "result = string1.endswith('World')\n",
    "print(result)"
   ]
  },
  {
   "cell_type": "code",
   "execution_count": 18,
   "id": "ea8169a8",
   "metadata": {},
   "outputs": [
    {
     "name": "stdout",
     "output_type": "stream",
     "text": [
      "False\n"
     ]
    }
   ],
   "source": [
    "result = string1.endswith('India')\n",
    "print(result)"
   ]
  },
  {
   "cell_type": "code",
   "execution_count": 19,
   "id": "6c5522d5",
   "metadata": {},
   "outputs": [
    {
     "name": "stdout",
     "output_type": "stream",
     "text": [
      "False\n"
     ]
    }
   ],
   "source": [
    "result = string1.isdigit()\n",
    "print(result)"
   ]
  },
  {
   "cell_type": "code",
   "execution_count": 20,
   "id": "e51af63e",
   "metadata": {},
   "outputs": [],
   "source": [
    "string2 = '129423'"
   ]
  },
  {
   "cell_type": "code",
   "execution_count": 21,
   "id": "a347cb0a",
   "metadata": {},
   "outputs": [
    {
     "name": "stdout",
     "output_type": "stream",
     "text": [
      "True\n"
     ]
    }
   ],
   "source": [
    "result = string2.isdigit()\n",
    "print(result)"
   ]
  },
  {
   "cell_type": "code",
   "execution_count": 22,
   "id": "d908cb18",
   "metadata": {},
   "outputs": [
    {
     "name": "stdout",
     "output_type": "stream",
     "text": [
      "False\n"
     ]
    }
   ],
   "source": [
    "result = string1.isalpha()\n",
    "print(result)"
   ]
  },
  {
   "cell_type": "code",
   "execution_count": 23,
   "id": "cfaf95b4",
   "metadata": {},
   "outputs": [
    {
     "name": "stdout",
     "output_type": "stream",
     "text": [
      "False\n"
     ]
    }
   ],
   "source": [
    "result = string2.isalpha()\n",
    "print(result)"
   ]
  },
  {
   "cell_type": "code",
   "execution_count": 24,
   "id": "d237323e",
   "metadata": {},
   "outputs": [],
   "source": [
    "string3 ='asddSASd'"
   ]
  },
  {
   "cell_type": "code",
   "execution_count": 25,
   "id": "dc8a1e01",
   "metadata": {},
   "outputs": [
    {
     "name": "stdout",
     "output_type": "stream",
     "text": [
      "True\n"
     ]
    }
   ],
   "source": [
    "result = string3.isalpha()\n",
    "print(result)"
   ]
  },
  {
   "cell_type": "code",
   "execution_count": 26,
   "id": "b60437a0",
   "metadata": {},
   "outputs": [],
   "source": [
    "string1 = \"I like chicken biryani\""
   ]
  },
  {
   "cell_type": "code",
   "execution_count": 27,
   "id": "ca255a6f",
   "metadata": {},
   "outputs": [
    {
     "name": "stdout",
     "output_type": "stream",
     "text": [
      "I like chicken curry\n"
     ]
    }
   ],
   "source": [
    "result = string1.replace(\"biryani\", \"curry\")\n",
    "print(result)"
   ]
  },
  {
   "cell_type": "code",
   "execution_count": 28,
   "id": "0a464f64",
   "metadata": {},
   "outputs": [
    {
     "data": {
      "text/plain": [
       "20"
      ]
     },
     "execution_count": 28,
     "metadata": {},
     "output_type": "execute_result"
    }
   ],
   "source": [
    "len(result)"
   ]
  },
  {
   "cell_type": "code",
   "execution_count": 29,
   "id": "9231a4e5",
   "metadata": {},
   "outputs": [
    {
     "name": "stdout",
     "output_type": "stream",
     "text": [
      "12\n"
     ]
    }
   ],
   "source": [
    "result = string1.rindex(\"e\")\n",
    "print(result)"
   ]
  },
  {
   "cell_type": "code",
   "execution_count": 30,
   "id": "ecb78c00",
   "metadata": {},
   "outputs": [
    {
     "name": "stdout",
     "output_type": "stream",
     "text": [
      "y\n"
     ]
    }
   ],
   "source": [
    "result = max(string1)\n",
    "print(result)"
   ]
  },
  {
   "cell_type": "code",
   "execution_count": 31,
   "id": "635a2e32",
   "metadata": {},
   "outputs": [
    {
     "name": "stdout",
     "output_type": "stream",
     "text": [
      "A\n"
     ]
    }
   ],
   "source": [
    "result = min(string3)\n",
    "print(result)"
   ]
  },
  {
   "cell_type": "code",
   "execution_count": 32,
   "id": "abfde805",
   "metadata": {},
   "outputs": [
    {
     "name": "stdout",
     "output_type": "stream",
     "text": [
      "Old String:  Old is Gold\n",
      "Capitalized String: Old is gold\n"
     ]
    }
   ],
   "source": [
    "string = \"Old is Gold\"\n",
    "cap_string = string.capitalize()\n",
    "\n",
    "print('Old String: ', string)\n",
    "print('Capitalized String:', cap_string)"
   ]
  },
  {
   "cell_type": "code",
   "execution_count": 33,
   "id": "ae988b4d",
   "metadata": {},
   "outputs": [
    {
     "name": "stdout",
     "output_type": "stream",
     "text": [
      "7\n"
     ]
    }
   ],
   "source": [
    "message = 'I love to write program'\n",
    "print(message.find('to'))"
   ]
  },
  {
   "cell_type": "code",
   "execution_count": 34,
   "id": "aa2dd151",
   "metadata": {},
   "outputs": [
    {
     "name": "stdout",
     "output_type": "stream",
     "text": [
      "-1\n"
     ]
    }
   ],
   "source": [
    "message = 'I love to write program'\n",
    "# string.find(value, start, end)\n",
    "print(message.find('to', 2, 6))"
   ]
  },
  {
   "cell_type": "code",
   "execution_count": 35,
   "id": "c72537e6",
   "metadata": {},
   "outputs": [
    {
     "name": "stdout",
     "output_type": "stream",
     "text": [
      "3\n"
     ]
    }
   ],
   "source": [
    "message = 'I love to write program'\n",
    "print(message.count('o'))"
   ]
  },
  {
   "cell_type": "code",
   "execution_count": 36,
   "id": "9ab2e690",
   "metadata": {},
   "outputs": [
    {
     "name": "stdout",
     "output_type": "stream",
     "text": [
      "i love to write program\n"
     ]
    }
   ],
   "source": [
    "message = 'I love to write program'\n",
    "print(message.lower())"
   ]
  },
  {
   "cell_type": "code",
   "execution_count": 37,
   "id": "49656f1f",
   "metadata": {},
   "outputs": [
    {
     "name": "stdout",
     "output_type": "stream",
     "text": [
      "['If', 'you’re', 'anything', 'like', 'us,', 'you’ve', 'no', 'doubt', 'found', 'yourself', 'in', 'this', 'familiar', 'scenario.']\n"
     ]
    }
   ],
   "source": [
    "message = 'If you’re anything like us, you’ve no doubt found yourself in this familiar scenario.'\n",
    "print(message.split())"
   ]
  },
  {
   "cell_type": "code",
   "execution_count": 38,
   "id": "c4b76959",
   "metadata": {},
   "outputs": [
    {
     "name": "stdout",
     "output_type": "stream",
     "text": [
      "Sky             is beautiful.\n"
     ]
    }
   ],
   "source": [
    "string = \"Sky\"\n",
    "\n",
    "result = string.ljust(15)\n",
    "\n",
    "print(result, \"is beautiful.\")"
   ]
  },
  {
   "cell_type": "code",
   "execution_count": 39,
   "id": "1fd2113b",
   "metadata": {},
   "outputs": [
    {
     "name": "stdout",
     "output_type": "stream",
     "text": [
      "      Sky       is beautiful.\n"
     ]
    }
   ],
   "source": [
    "string = \"Sky\"\n",
    "\n",
    "result = string.center(15)\n",
    "\n",
    "print(result, \"is beautiful.\")"
   ]
  },
  {
   "cell_type": "code",
   "execution_count": 40,
   "id": "d090d4d6",
   "metadata": {},
   "outputs": [
    {
     "name": "stdout",
     "output_type": "stream",
     "text": [
      "            Sky is beautiful.\n"
     ]
    }
   ],
   "source": [
    "string = \"Sky\"\n",
    "\n",
    "result = string.rjust(15)\n",
    "\n",
    "print(result, \"is beautiful.\")"
   ]
  }
 ],
 "metadata": {
  "kernelspec": {
   "display_name": "Python 3",
   "language": "python",
   "name": "python3"
  },
  "language_info": {
   "codemirror_mode": {
    "name": "ipython",
    "version": 3
   },
   "file_extension": ".py",
   "mimetype": "text/x-python",
   "name": "python",
   "nbconvert_exporter": "python",
   "pygments_lexer": "ipython3",
   "version": "3.8.8"
  }
 },
 "nbformat": 4,
 "nbformat_minor": 5
}
