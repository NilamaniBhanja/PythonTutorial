{
 "cells": [
  {
   "cell_type": "markdown",
   "id": "b5a6bf62",
   "metadata": {},
   "source": [
    "# Python Variables and Data Types"
   ]
  },
  {
   "cell_type": "code",
   "execution_count": 1,
   "id": "28750137",
   "metadata": {},
   "outputs": [],
   "source": [
    "counter = 10 #an integer assignment\n",
    "\n",
    "mile = 10.05 #a floating point\n",
    "\n",
    "name = \"Chepi\" #a string."
   ]
  },
  {
   "cell_type": "code",
   "execution_count": 2,
   "id": "5692818f",
   "metadata": {},
   "outputs": [
    {
     "data": {
      "text/plain": [
       "'Chepi'"
      ]
     },
     "execution_count": 2,
     "metadata": {},
     "output_type": "execute_result"
    }
   ],
   "source": [
    "name"
   ]
  },
  {
   "cell_type": "code",
   "execution_count": 3,
   "id": "11ab0849",
   "metadata": {},
   "outputs": [
    {
     "data": {
      "text/plain": [
       "10.05"
      ]
     },
     "execution_count": 3,
     "metadata": {},
     "output_type": "execute_result"
    }
   ],
   "source": [
    "mile"
   ]
  },
  {
   "cell_type": "code",
   "execution_count": 4,
   "id": "816d63c0",
   "metadata": {},
   "outputs": [
    {
     "data": {
      "text/plain": [
       "10"
      ]
     },
     "execution_count": 4,
     "metadata": {},
     "output_type": "execute_result"
    }
   ],
   "source": [
    "counter"
   ]
  },
  {
   "cell_type": "code",
   "execution_count": 5,
   "id": "372a4dcc",
   "metadata": {},
   "outputs": [
    {
     "name": "stdout",
     "output_type": "stream",
     "text": [
      "100 100 100\n"
     ]
    }
   ],
   "source": [
    "a = b = c = 100 #same value assign to all the variable;\n",
    "\n",
    "print(a, b, c)"
   ]
  },
  {
   "cell_type": "code",
   "execution_count": 6,
   "id": "d107629f",
   "metadata": {},
   "outputs": [
    {
     "name": "stdout",
     "output_type": "stream",
     "text": [
      "7 10 Chepi\n"
     ]
    }
   ],
   "source": [
    "a = 7; b = 10 ; c = \"Chepi\"; #different value assign to different variable with single line\n",
    "\n",
    "print(a, b, c)"
   ]
  },
  {
   "cell_type": "code",
   "execution_count": 7,
   "id": "93b98550",
   "metadata": {},
   "outputs": [
    {
     "name": "stdout",
     "output_type": "stream",
     "text": [
      "7 10 Chepi\n"
     ]
    }
   ],
   "source": [
    "a, b, c = 7, 10, \"Chepi\" #different value assign to different variable with single line\n",
    "\n",
    "print(a, b, c)"
   ]
  },
  {
   "cell_type": "markdown",
   "id": "0f534b4e",
   "metadata": {},
   "source": [
    "# Rules for Python Variable name"
   ]
  },
  {
   "cell_type": "code",
   "execution_count": 8,
   "id": "009b2f08",
   "metadata": {},
   "outputs": [
    {
     "ename": "SyntaxError",
     "evalue": "invalid syntax (<ipython-input-8-6c5c993764bf>, line 3)",
     "output_type": "error",
     "traceback": [
      "\u001b[1;36m  File \u001b[1;32m\"<ipython-input-8-6c5c993764bf>\"\u001b[1;36m, line \u001b[1;32m3\u001b[0m\n\u001b[1;33m    1var = 'India'\u001b[0m\n\u001b[1;37m     ^\u001b[0m\n\u001b[1;31mSyntaxError\u001b[0m\u001b[1;31m:\u001b[0m invalid syntax\n"
     ]
    }
   ],
   "source": [
    "#A variable name can not start with a number\n",
    "\n",
    "1var = 'India'"
   ]
  },
  {
   "cell_type": "code",
   "execution_count": 9,
   "id": "07f92a8f",
   "metadata": {},
   "outputs": [
    {
     "name": "stdout",
     "output_type": "stream",
     "text": [
      "India\n"
     ]
    }
   ],
   "source": [
    "var = 'India'\n",
    "print(var)"
   ]
  },
  {
   "cell_type": "code",
   "execution_count": 10,
   "id": "b60ea65d",
   "metadata": {},
   "outputs": [
    {
     "ename": "SyntaxError",
     "evalue": "invalid syntax (<ipython-input-10-3b86bf19d65e>, line 2)",
     "output_type": "error",
     "traceback": [
      "\u001b[1;36m  File \u001b[1;32m\"<ipython-input-10-3b86bf19d65e>\"\u001b[1;36m, line \u001b[1;32m2\u001b[0m\n\u001b[1;33m    First Name = 'Muzafer'\u001b[0m\n\u001b[1;37m          ^\u001b[0m\n\u001b[1;31mSyntaxError\u001b[0m\u001b[1;31m:\u001b[0m invalid syntax\n"
     ]
    }
   ],
   "source": [
    "#There can be no spaces in the name, use _ instead of space.\n",
    "First Name = 'Muzafer'"
   ]
  },
  {
   "cell_type": "code",
   "execution_count": 11,
   "id": "24467c9b",
   "metadata": {},
   "outputs": [
    {
     "name": "stdout",
     "output_type": "stream",
     "text": [
      "Muzafer\n"
     ]
    }
   ],
   "source": [
    "First_Name = 'Muzafer'\n",
    "print(First_Name)"
   ]
  },
  {
   "cell_type": "code",
   "execution_count": 12,
   "id": "31751d27",
   "metadata": {},
   "outputs": [
    {
     "ename": "SyntaxError",
     "evalue": "invalid syntax (<ipython-input-12-00f13e1050eb>, line 3)",
     "output_type": "error",
     "traceback": [
      "\u001b[1;36m  File \u001b[1;32m\"<ipython-input-12-00f13e1050eb>\"\u001b[1;36m, line \u001b[1;32m3\u001b[0m\n\u001b[1;33m    @username = 'Lipsha'\u001b[0m\n\u001b[1;37m              ^\u001b[0m\n\u001b[1;31mSyntaxError\u001b[0m\u001b[1;31m:\u001b[0m invalid syntax\n"
     ]
    }
   ],
   "source": [
    "#Can't use any of these symbols :'\",<>/}]()!@#$%^&*-~\n",
    "\n",
    "@username = 'Lipsha'"
   ]
  },
  {
   "cell_type": "code",
   "execution_count": 13,
   "id": "29ca0c01",
   "metadata": {},
   "outputs": [
    {
     "name": "stdout",
     "output_type": "stream",
     "text": [
      "Lipsha\n"
     ]
    }
   ],
   "source": [
    "username = 'Lipsha'\n",
    "print(username)"
   ]
  },
  {
   "cell_type": "code",
   "execution_count": null,
   "id": "b27f51a3",
   "metadata": {},
   "outputs": [],
   "source": []
  }
 ],
 "metadata": {
  "kernelspec": {
   "display_name": "Python 3",
   "language": "python",
   "name": "python3"
  },
  "language_info": {
   "codemirror_mode": {
    "name": "ipython",
    "version": 3
   },
   "file_extension": ".py",
   "mimetype": "text/x-python",
   "name": "python",
   "nbconvert_exporter": "python",
   "pygments_lexer": "ipython3",
   "version": "3.8.8"
  }
 },
 "nbformat": 4,
 "nbformat_minor": 5
}
