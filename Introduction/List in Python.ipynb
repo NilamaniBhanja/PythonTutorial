{
 "cells": [
  {
   "cell_type": "markdown",
   "id": "4337076f",
   "metadata": {
    "papermill": {
     "duration": 0.023807,
     "end_time": "2021-09-06T15:32:31.428614",
     "exception": false,
     "start_time": "2021-09-06T15:32:31.404807",
     "status": "completed"
    },
    "tags": []
   },
   "source": [
    "# List"
   ]
  },
  {
   "cell_type": "markdown",
   "id": "0170cc50",
   "metadata": {
    "papermill": {
     "duration": 0.022234,
     "end_time": "2021-09-06T15:32:31.474990",
     "exception": false,
     "start_time": "2021-09-06T15:32:31.452756",
     "status": "completed"
    },
    "tags": []
   },
   "source": [
    "# List Creation"
   ]
  },
  {
   "cell_type": "code",
   "execution_count": 1,
   "id": "fa604bab",
   "metadata": {
    "execution": {
     "iopub.execute_input": "2021-09-06T15:32:31.534846Z",
     "iopub.status.busy": "2021-09-06T15:32:31.533841Z",
     "iopub.status.idle": "2021-09-06T15:32:31.544025Z",
     "shell.execute_reply": "2021-09-06T15:32:31.544605Z"
    },
    "papermill": {
     "duration": 0.047501,
     "end_time": "2021-09-06T15:32:31.545003",
     "exception": false,
     "start_time": "2021-09-06T15:32:31.497502",
     "status": "completed"
    },
    "tags": []
   },
   "outputs": [
    {
     "name": "stdout",
     "output_type": "stream",
     "text": [
      "[]\n"
     ]
    }
   ],
   "source": [
    "# empty list\n",
    "list1 = []  #Intial blank list\n",
    "print(list1)"
   ]
  },
  {
   "cell_type": "code",
   "execution_count": 2,
   "id": "ea246d18",
   "metadata": {
    "execution": {
     "iopub.execute_input": "2021-09-06T15:32:31.612668Z",
     "iopub.status.busy": "2021-09-06T15:32:31.611987Z",
     "iopub.status.idle": "2021-09-06T15:32:31.616584Z",
     "shell.execute_reply": "2021-09-06T15:32:31.615432Z"
    },
    "papermill": {
     "duration": 0.041999,
     "end_time": "2021-09-06T15:32:31.616752",
     "exception": false,
     "start_time": "2021-09-06T15:32:31.574753",
     "status": "completed"
    },
    "tags": []
   },
   "outputs": [
    {
     "name": "stdout",
     "output_type": "stream",
     "text": [
      "[1, 2, 3, 4, 5]\n"
     ]
    }
   ],
   "source": [
    "# list of integers\n",
    "list2 = [1,2,3,4,5]\n",
    "print(list2)"
   ]
  },
  {
   "cell_type": "code",
   "execution_count": 3,
   "id": "233182ae",
   "metadata": {
    "execution": {
     "iopub.execute_input": "2021-09-06T15:32:31.670582Z",
     "iopub.status.busy": "2021-09-06T15:32:31.669621Z",
     "iopub.status.idle": "2021-09-06T15:32:31.677146Z",
     "shell.execute_reply": "2021-09-06T15:32:31.676299Z"
    },
    "papermill": {
     "duration": 0.036913,
     "end_time": "2021-09-06T15:32:31.677358",
     "exception": false,
     "start_time": "2021-09-06T15:32:31.640445",
     "status": "completed"
    },
    "tags": []
   },
   "outputs": [
    {
     "name": "stdout",
     "output_type": "stream",
     "text": [
      "[1, 4.5, 'Paris']\n"
     ]
    }
   ],
   "source": [
    "# list with mixed data types\n",
    "list3 = [1, 4.5, \"Paris\"]\n",
    "print(list3)"
   ]
  },
  {
   "cell_type": "code",
   "execution_count": 4,
   "id": "e7c881f2",
   "metadata": {
    "execution": {
     "iopub.execute_input": "2021-09-06T15:32:31.730936Z",
     "iopub.status.busy": "2021-09-06T15:32:31.730310Z",
     "iopub.status.idle": "2021-09-06T15:32:31.733286Z",
     "shell.execute_reply": "2021-09-06T15:32:31.732754Z"
    },
    "papermill": {
     "duration": 0.031045,
     "end_time": "2021-09-06T15:32:31.733432",
     "exception": false,
     "start_time": "2021-09-06T15:32:31.702387",
     "status": "completed"
    },
    "tags": []
   },
   "outputs": [
    {
     "name": "stdout",
     "output_type": "stream",
     "text": [
      "[[1, 2, 3], ['Tokyo', 'London', 'Dubai']]\n"
     ]
    }
   ],
   "source": [
    "# list of list\n",
    "list4 = [[1,2,3],['Tokyo', 'London', 'Dubai']]\n",
    "print(list4)"
   ]
  },
  {
   "cell_type": "markdown",
   "id": "f4d1ea73",
   "metadata": {},
   "source": [
    "# Access Elements List in Python"
   ]
  },
  {
   "cell_type": "markdown",
   "id": "1435342d",
   "metadata": {},
   "source": [
    "# Index base Access"
   ]
  },
  {
   "cell_type": "code",
   "execution_count": 5,
   "id": "57a2fe03",
   "metadata": {},
   "outputs": [],
   "source": [
    "myList = [ 98, 42, 78, 43, 12, 87 ]"
   ]
  },
  {
   "cell_type": "code",
   "execution_count": 6,
   "id": "add8ad94",
   "metadata": {},
   "outputs": [
    {
     "name": "stdout",
     "output_type": "stream",
     "text": [
      "98\n"
     ]
    }
   ],
   "source": [
    "print(myList[0])"
   ]
  },
  {
   "cell_type": "code",
   "execution_count": 7,
   "id": "0151e288",
   "metadata": {},
   "outputs": [
    {
     "name": "stdout",
     "output_type": "stream",
     "text": [
      "87\n"
     ]
    }
   ],
   "source": [
    "print(myList[5])"
   ]
  },
  {
   "cell_type": "code",
   "execution_count": 8,
   "id": "a89654d7",
   "metadata": {},
   "outputs": [
    {
     "name": "stdout",
     "output_type": "stream",
     "text": [
      "87\n"
     ]
    }
   ],
   "source": [
    "print(myList[-1])"
   ]
  },
  {
   "cell_type": "code",
   "execution_count": 9,
   "id": "896511f8",
   "metadata": {},
   "outputs": [
    {
     "name": "stdout",
     "output_type": "stream",
     "text": [
      "98\n"
     ]
    }
   ],
   "source": [
    "print(myList[-6])"
   ]
  },
  {
   "cell_type": "code",
   "execution_count": 10,
   "id": "bf1fd8f0",
   "metadata": {},
   "outputs": [
    {
     "ename": "IndexError",
     "evalue": "list index out of range",
     "output_type": "error",
     "traceback": [
      "\u001b[1;31m---------------------------------------------------------------------------\u001b[0m",
      "\u001b[1;31mIndexError\u001b[0m                                Traceback (most recent call last)",
      "\u001b[1;32m<ipython-input-10-448577a2d667>\u001b[0m in \u001b[0;36m<module>\u001b[1;34m\u001b[0m\n\u001b[1;32m----> 1\u001b[1;33m \u001b[0mprint\u001b[0m\u001b[1;33m(\u001b[0m\u001b[0mmyList\u001b[0m\u001b[1;33m[\u001b[0m\u001b[1;36m8\u001b[0m\u001b[1;33m]\u001b[0m\u001b[1;33m)\u001b[0m\u001b[1;33m\u001b[0m\u001b[1;33m\u001b[0m\u001b[0m\n\u001b[0m",
      "\u001b[1;31mIndexError\u001b[0m: list index out of range"
     ]
    }
   ],
   "source": [
    "print(myList[8])"
   ]
  },
  {
   "cell_type": "markdown",
   "id": "2ce02988",
   "metadata": {},
   "source": [
    "# Python List Slicing"
   ]
  },
  {
   "cell_type": "code",
   "execution_count": 11,
   "id": "d8844d3e",
   "metadata": {},
   "outputs": [
    {
     "name": "stdout",
     "output_type": "stream",
     "text": [
      "[78, 43, 12]\n",
      "[78, 43, 12, 87]\n",
      "[98, 42, 78, 43]\n",
      "[42, 43]\n"
     ]
    }
   ],
   "source": [
    "myList = [ 98, 42, 78, 43, 12, 87 ]\n",
    "\n",
    "#Positive index Slicing\n",
    "print(myList[2:5])\n",
    "print(myList[2:])\n",
    "print(myList[:4])\n",
    "\n",
    "\n",
    "print(myList[1:5:2])"
   ]
  },
  {
   "cell_type": "code",
   "execution_count": 12,
   "id": "e7de3788",
   "metadata": {},
   "outputs": [
    {
     "name": "stdout",
     "output_type": "stream",
     "text": [
      "[42, 78, 43]\n",
      "[12, 87]\n",
      "[98, 42]\n",
      "[98, 78, 12]\n"
     ]
    }
   ],
   "source": [
    "myList = [ 98, 42, 78, 43, 12, 87 ]\n",
    "#Negative index Slicing\n",
    "print(myList[-5:-2])\n",
    "print(myList[-2:])\n",
    "print(myList[:-4])\n",
    "\n",
    "print(myList[-6:-1:2])"
   ]
  },
  {
   "cell_type": "markdown",
   "id": "f15ee766",
   "metadata": {},
   "source": [
    "# Multi-dimensional lists in Python"
   ]
  },
  {
   "cell_type": "code",
   "execution_count": 13,
   "id": "4d77c678",
   "metadata": {},
   "outputs": [
    {
     "name": "stdout",
     "output_type": "stream",
     "text": [
      "[[2, 4, 6], [3, 5, 7], [10, 20, 30]]\n",
      "[10, 20, 30]\n",
      "20\n",
      "[2, 4, 6]\n",
      "4\n"
     ]
    }
   ],
   "source": [
    "myList = [[2, 4, 6], [3, 5, 7], [10,20,30]]\n",
    "\n",
    "print(myList)\n",
    "print(myList[2])\n",
    "print(myList[2][1])\n",
    "print(myList[-3])\n",
    "print(myList[-3][-2])"
   ]
  },
  {
   "cell_type": "markdown",
   "id": "e0a6fe4b",
   "metadata": {},
   "source": [
    "# Adding Elements to a List in Python"
   ]
  },
  {
   "cell_type": "markdown",
   "id": "18d89029",
   "metadata": {
    "papermill": {
     "duration": 0.027787,
     "end_time": "2021-09-06T15:32:32.134445",
     "exception": false,
     "start_time": "2021-09-06T15:32:32.106658",
     "status": "completed"
    },
    "tags": []
   },
   "source": [
    "# List Append "
   ]
  },
  {
   "cell_type": "code",
   "execution_count": 14,
   "id": "8a73d537",
   "metadata": {
    "execution": {
     "iopub.execute_input": "2021-09-06T15:32:32.191769Z",
     "iopub.status.busy": "2021-09-06T15:32:32.191145Z",
     "iopub.status.idle": "2021-09-06T15:32:32.194511Z",
     "shell.execute_reply": "2021-09-06T15:32:32.193861Z"
    },
    "papermill": {
     "duration": 0.03374,
     "end_time": "2021-09-06T15:32:32.194650",
     "exception": false,
     "start_time": "2021-09-06T15:32:32.160910",
     "status": "completed"
    },
    "tags": []
   },
   "outputs": [],
   "source": [
    "lst = [2,4,6,8,10]"
   ]
  },
  {
   "cell_type": "code",
   "execution_count": 15,
   "id": "a21e1af4",
   "metadata": {
    "execution": {
     "iopub.execute_input": "2021-09-06T15:32:32.250387Z",
     "iopub.status.busy": "2021-09-06T15:32:32.249668Z",
     "iopub.status.idle": "2021-09-06T15:32:32.252498Z",
     "shell.execute_reply": "2021-09-06T15:32:32.252926Z"
    },
    "papermill": {
     "duration": 0.032868,
     "end_time": "2021-09-06T15:32:32.253116",
     "exception": false,
     "start_time": "2021-09-06T15:32:32.220248",
     "status": "completed"
    },
    "tags": []
   },
   "outputs": [],
   "source": [
    "lst.append(12)"
   ]
  },
  {
   "cell_type": "code",
   "execution_count": 16,
   "id": "6687041b",
   "metadata": {
    "execution": {
     "iopub.execute_input": "2021-09-06T15:32:32.309432Z",
     "iopub.status.busy": "2021-09-06T15:32:32.308743Z",
     "iopub.status.idle": "2021-09-06T15:32:32.313175Z",
     "shell.execute_reply": "2021-09-06T15:32:32.312633Z"
    },
    "papermill": {
     "duration": 0.034428,
     "end_time": "2021-09-06T15:32:32.313323",
     "exception": false,
     "start_time": "2021-09-06T15:32:32.278895",
     "status": "completed"
    },
    "tags": []
   },
   "outputs": [
    {
     "name": "stdout",
     "output_type": "stream",
     "text": [
      "[2, 4, 6, 8, 10, 12]\n"
     ]
    }
   ],
   "source": [
    "print(lst)"
   ]
  },
  {
   "cell_type": "code",
   "execution_count": 17,
   "id": "b13ac66a",
   "metadata": {},
   "outputs": [
    {
     "name": "stdout",
     "output_type": "stream",
     "text": [
      "[2, 4, 6, 8, 10]\n",
      "['Hello', 'World']\n",
      "[2, 4, 6, 8, 10, ['Hello', 'World']]\n",
      "['Hello', 'World']\n"
     ]
    }
   ],
   "source": [
    "List1 = [2,4,6,8,10]\n",
    "List2 = [\"Hello\", \"World\"]\n",
    "\n",
    "#Before Append\n",
    "print(List1)\n",
    "print(List2)\n",
    "\n",
    "#Append the list\n",
    "List1.append(List2)\n",
    "\n",
    "#After Append\n",
    "print(List1)\n",
    "print(List2)"
   ]
  },
  {
   "cell_type": "markdown",
   "id": "29f74d94",
   "metadata": {
    "papermill": {
     "duration": 0.025712,
     "end_time": "2021-09-06T15:32:32.365130",
     "exception": false,
     "start_time": "2021-09-06T15:32:32.339418",
     "status": "completed"
    },
    "tags": []
   },
   "source": [
    "# List Insert"
   ]
  },
  {
   "cell_type": "code",
   "execution_count": 18,
   "id": "24c4cb59",
   "metadata": {
    "execution": {
     "iopub.execute_input": "2021-09-06T15:32:32.421943Z",
     "iopub.status.busy": "2021-09-06T15:32:32.421271Z",
     "iopub.status.idle": "2021-09-06T15:32:32.424431Z",
     "shell.execute_reply": "2021-09-06T15:32:32.424893Z"
    },
    "papermill": {
     "duration": 0.033952,
     "end_time": "2021-09-06T15:32:32.425090",
     "exception": false,
     "start_time": "2021-09-06T15:32:32.391138",
     "status": "completed"
    },
    "tags": []
   },
   "outputs": [],
   "source": [
    "lst = [1,3,7,9]"
   ]
  },
  {
   "cell_type": "code",
   "execution_count": 19,
   "id": "55348a91",
   "metadata": {
    "execution": {
     "iopub.execute_input": "2021-09-06T15:32:32.482744Z",
     "iopub.status.busy": "2021-09-06T15:32:32.482096Z",
     "iopub.status.idle": "2021-09-06T15:32:32.485190Z",
     "shell.execute_reply": "2021-09-06T15:32:32.484601Z"
    },
    "papermill": {
     "duration": 0.033974,
     "end_time": "2021-09-06T15:32:32.485329",
     "exception": false,
     "start_time": "2021-09-06T15:32:32.451355",
     "status": "completed"
    },
    "tags": []
   },
   "outputs": [],
   "source": [
    "lst.insert(2,5)"
   ]
  },
  {
   "cell_type": "code",
   "execution_count": 20,
   "id": "85808c67",
   "metadata": {
    "execution": {
     "iopub.execute_input": "2021-09-06T15:32:32.543157Z",
     "iopub.status.busy": "2021-09-06T15:32:32.542485Z",
     "iopub.status.idle": "2021-09-06T15:32:32.546861Z",
     "shell.execute_reply": "2021-09-06T15:32:32.546318Z"
    },
    "papermill": {
     "duration": 0.034661,
     "end_time": "2021-09-06T15:32:32.547001",
     "exception": false,
     "start_time": "2021-09-06T15:32:32.512340",
     "status": "completed"
    },
    "tags": []
   },
   "outputs": [
    {
     "name": "stdout",
     "output_type": "stream",
     "text": [
      "[1, 3, 5, 7, 9]\n"
     ]
    }
   ],
   "source": [
    "print(lst)"
   ]
  },
  {
   "cell_type": "code",
   "execution_count": 21,
   "id": "138afbd4",
   "metadata": {},
   "outputs": [
    {
     "name": "stdout",
     "output_type": "stream",
     "text": [
      "[2, 4, 6, 8, 10]\n",
      "['Hello', 2, 4, 6, 14, 8, 10]\n"
     ]
    }
   ],
   "source": [
    "List1 = [2,4,6,8,10]\n",
    "\n",
    "\n",
    "#Before Insert\n",
    "print(List1)\n",
    "List1.insert(3,14)\n",
    "List1.insert(0, \"Hello\")\n",
    "\n",
    "\n",
    "#After insert item in List\n",
    "print(List1)"
   ]
  },
  {
   "cell_type": "markdown",
   "id": "b9c2742b",
   "metadata": {
    "papermill": {
     "duration": 0.02829,
     "end_time": "2021-09-06T15:32:32.603104",
     "exception": false,
     "start_time": "2021-09-06T15:32:32.574814",
     "status": "completed"
    },
    "tags": []
   },
   "source": [
    "# Remove item in List"
   ]
  },
  {
   "cell_type": "markdown",
   "id": "9d1eae8c",
   "metadata": {},
   "source": [
    "# Remove() method use to remove element"
   ]
  },
  {
   "cell_type": "code",
   "execution_count": 22,
   "id": "bd70c0ab",
   "metadata": {
    "execution": {
     "iopub.execute_input": "2021-09-06T15:32:32.662593Z",
     "iopub.status.busy": "2021-09-06T15:32:32.661700Z",
     "iopub.status.idle": "2021-09-06T15:32:32.665204Z",
     "shell.execute_reply": "2021-09-06T15:32:32.664543Z"
    },
    "papermill": {
     "duration": 0.034842,
     "end_time": "2021-09-06T15:32:32.665353",
     "exception": false,
     "start_time": "2021-09-06T15:32:32.630511",
     "status": "completed"
    },
    "tags": []
   },
   "outputs": [],
   "source": [
    "lst = [1,2,3,4,6]"
   ]
  },
  {
   "cell_type": "code",
   "execution_count": 23,
   "id": "8e26cf6d",
   "metadata": {
    "execution": {
     "iopub.execute_input": "2021-09-06T15:32:32.723709Z",
     "iopub.status.busy": "2021-09-06T15:32:32.723032Z",
     "iopub.status.idle": "2021-09-06T15:32:32.725701Z",
     "shell.execute_reply": "2021-09-06T15:32:32.725096Z"
    },
    "papermill": {
     "duration": 0.033309,
     "end_time": "2021-09-06T15:32:32.725837",
     "exception": false,
     "start_time": "2021-09-06T15:32:32.692528",
     "status": "completed"
    },
    "tags": []
   },
   "outputs": [],
   "source": [
    "lst.remove(3)"
   ]
  },
  {
   "cell_type": "code",
   "execution_count": 24,
   "id": "f3b2bf7c",
   "metadata": {
    "execution": {
     "iopub.execute_input": "2021-09-06T15:32:32.782983Z",
     "iopub.status.busy": "2021-09-06T15:32:32.782406Z",
     "iopub.status.idle": "2021-09-06T15:32:32.787549Z",
     "shell.execute_reply": "2021-09-06T15:32:32.788047Z"
    },
    "papermill": {
     "duration": 0.0353,
     "end_time": "2021-09-06T15:32:32.788261",
     "exception": false,
     "start_time": "2021-09-06T15:32:32.752961",
     "status": "completed"
    },
    "tags": []
   },
   "outputs": [
    {
     "name": "stdout",
     "output_type": "stream",
     "text": [
      "[1, 2, 4, 6]\n"
     ]
    }
   ],
   "source": [
    "print(lst)"
   ]
  },
  {
   "cell_type": "code",
   "execution_count": 25,
   "id": "78bd69cf",
   "metadata": {
    "execution": {
     "iopub.execute_input": "2021-09-06T15:32:32.850076Z",
     "iopub.status.busy": "2021-09-06T15:32:32.849401Z",
     "iopub.status.idle": "2021-09-06T15:32:32.853032Z",
     "shell.execute_reply": "2021-09-06T15:32:32.852386Z"
    },
    "papermill": {
     "duration": 0.037409,
     "end_time": "2021-09-06T15:32:32.853216",
     "exception": false,
     "start_time": "2021-09-06T15:32:32.815807",
     "status": "completed"
    },
    "tags": []
   },
   "outputs": [],
   "source": [
    "lst = [1,2,3,4,2,6]"
   ]
  },
  {
   "cell_type": "code",
   "execution_count": 26,
   "id": "db0014c4",
   "metadata": {
    "execution": {
     "iopub.execute_input": "2021-09-06T15:32:32.914197Z",
     "iopub.status.busy": "2021-09-06T15:32:32.913505Z",
     "iopub.status.idle": "2021-09-06T15:32:32.916822Z",
     "shell.execute_reply": "2021-09-06T15:32:32.917352Z"
    },
    "papermill": {
     "duration": 0.036003,
     "end_time": "2021-09-06T15:32:32.917523",
     "exception": false,
     "start_time": "2021-09-06T15:32:32.881520",
     "status": "completed"
    },
    "tags": []
   },
   "outputs": [],
   "source": [
    "lst.remove(2)"
   ]
  },
  {
   "cell_type": "code",
   "execution_count": 27,
   "id": "1fd216cc",
   "metadata": {
    "execution": {
     "iopub.execute_input": "2021-09-06T15:32:32.979832Z",
     "iopub.status.busy": "2021-09-06T15:32:32.979156Z",
     "iopub.status.idle": "2021-09-06T15:32:32.982660Z",
     "shell.execute_reply": "2021-09-06T15:32:32.983120Z"
    },
    "papermill": {
     "duration": 0.037543,
     "end_time": "2021-09-06T15:32:32.983292",
     "exception": false,
     "start_time": "2021-09-06T15:32:32.945749",
     "status": "completed"
    },
    "tags": []
   },
   "outputs": [
    {
     "name": "stdout",
     "output_type": "stream",
     "text": [
      "[1, 3, 4, 2, 6]\n"
     ]
    }
   ],
   "source": [
    "print(lst)"
   ]
  },
  {
   "cell_type": "code",
   "execution_count": 28,
   "id": "d55fa3af",
   "metadata": {},
   "outputs": [
    {
     "name": "stdout",
     "output_type": "stream",
     "text": [
      "[10, 20, 30, 40, 50, 60, 30]\n",
      "[20, 30, 40, 50, 60, 30]\n",
      "[30, 40, 50, 60, 30]\n"
     ]
    }
   ],
   "source": [
    "List1 = [10,20,30, 40, 50, 60, 30]\n",
    "\n",
    "#Before Remove element\n",
    "print(List1)\n",
    "\n",
    "List1.remove(10)\n",
    "\n",
    "#After Remove element\n",
    "print(List1)\n",
    "\n",
    "#The remove method in the list will only remove the first occurrence of the search element.\n",
    "List1.remove(20)\n",
    "\n",
    "print(List1)\n"
   ]
  },
  {
   "cell_type": "markdown",
   "id": "8424cbc4",
   "metadata": {},
   "source": [
    "# Pop() method use to remove element"
   ]
  },
  {
   "cell_type": "code",
   "execution_count": 29,
   "id": "2b4b1f24",
   "metadata": {},
   "outputs": [
    {
     "name": "stdout",
     "output_type": "stream",
     "text": [
      "30\n",
      "[10, 20, 40, 50]\n",
      "50\n",
      "[10, 20, 40]\n"
     ]
    }
   ],
   "source": [
    "List1 = [10,20,30, 40, 50]\n",
    "\n",
    "#Passing index to remove item in list\n",
    "print(List1.pop(2))\n",
    "print(List1)\n",
    "\n",
    "#Without argument to remove item in list, It will remove last item in List\n",
    "print(List1.pop())\n",
    "print(List1)"
   ]
  },
  {
   "cell_type": "markdown",
   "id": "fdf950a3",
   "metadata": {},
   "source": [
    "# Clear() method use to remove element"
   ]
  },
  {
   "cell_type": "code",
   "execution_count": 30,
   "id": "a7b15244",
   "metadata": {},
   "outputs": [
    {
     "name": "stdout",
     "output_type": "stream",
     "text": [
      "[10, 20, 30, 40, 50]\n",
      "[]\n"
     ]
    }
   ],
   "source": [
    "List1 = [10,20,30, 40, 50]\n",
    "\n",
    "#Before Clear the List in Python\n",
    "print(List1)\n",
    "\n",
    "# clearing the list\n",
    "List1.clear()\n",
    "\n",
    "\n",
    "#After Clear the list in python\n",
    "print(List1)"
   ]
  },
  {
   "cell_type": "markdown",
   "id": "53877749",
   "metadata": {
    "papermill": {
     "duration": 0.027755,
     "end_time": "2021-09-06T15:32:33.039217",
     "exception": false,
     "start_time": "2021-09-06T15:32:33.011462",
     "status": "completed"
    },
    "tags": []
   },
   "source": [
    "# Merge the list"
   ]
  },
  {
   "cell_type": "code",
   "execution_count": 31,
   "id": "faac8892",
   "metadata": {
    "execution": {
     "iopub.execute_input": "2021-09-06T15:32:33.102931Z",
     "iopub.status.busy": "2021-09-06T15:32:33.102012Z",
     "iopub.status.idle": "2021-09-06T15:32:33.105496Z",
     "shell.execute_reply": "2021-09-06T15:32:33.104769Z"
    },
    "papermill": {
     "duration": 0.038415,
     "end_time": "2021-09-06T15:32:33.105689",
     "exception": false,
     "start_time": "2021-09-06T15:32:33.067274",
     "status": "completed"
    },
    "tags": []
   },
   "outputs": [],
   "source": [
    "lst1 = [1,2,3]\n",
    "lst2 = [\"one\",\"Two\",\"Three\"]"
   ]
  },
  {
   "cell_type": "code",
   "execution_count": 32,
   "id": "39cbbdf4",
   "metadata": {
    "execution": {
     "iopub.execute_input": "2021-09-06T15:32:33.186106Z",
     "iopub.status.busy": "2021-09-06T15:32:33.185095Z",
     "iopub.status.idle": "2021-09-06T15:32:33.187901Z",
     "shell.execute_reply": "2021-09-06T15:32:33.187077Z"
    },
    "papermill": {
     "duration": 0.04143,
     "end_time": "2021-09-06T15:32:33.188134",
     "exception": false,
     "start_time": "2021-09-06T15:32:33.146704",
     "status": "completed"
    },
    "tags": []
   },
   "outputs": [],
   "source": [
    "lst1.append(lst2)"
   ]
  },
  {
   "cell_type": "code",
   "execution_count": 33,
   "id": "2db08fb1",
   "metadata": {
    "execution": {
     "iopub.execute_input": "2021-09-06T15:32:33.252419Z",
     "iopub.status.busy": "2021-09-06T15:32:33.251719Z",
     "iopub.status.idle": "2021-09-06T15:32:33.255706Z",
     "shell.execute_reply": "2021-09-06T15:32:33.254638Z"
    },
    "papermill": {
     "duration": 0.036288,
     "end_time": "2021-09-06T15:32:33.255902",
     "exception": false,
     "start_time": "2021-09-06T15:32:33.219614",
     "status": "completed"
    },
    "tags": []
   },
   "outputs": [
    {
     "name": "stdout",
     "output_type": "stream",
     "text": [
      "[1, 2, 3, ['one', 'Two', 'Three']]\n"
     ]
    }
   ],
   "source": [
    "print(lst1)"
   ]
  },
  {
   "cell_type": "code",
   "execution_count": 34,
   "id": "3e995fdc",
   "metadata": {
    "execution": {
     "iopub.execute_input": "2021-09-06T15:32:33.317519Z",
     "iopub.status.busy": "2021-09-06T15:32:33.316901Z",
     "iopub.status.idle": "2021-09-06T15:32:33.320117Z",
     "shell.execute_reply": "2021-09-06T15:32:33.320677Z"
    },
    "papermill": {
     "duration": 0.034891,
     "end_time": "2021-09-06T15:32:33.320836",
     "exception": false,
     "start_time": "2021-09-06T15:32:33.285945",
     "status": "completed"
    },
    "tags": []
   },
   "outputs": [],
   "source": [
    "# Append is used to add a item in list So lst2 added as item in lst1"
   ]
  },
  {
   "cell_type": "code",
   "execution_count": 35,
   "id": "abb279c7",
   "metadata": {
    "execution": {
     "iopub.execute_input": "2021-09-06T15:32:33.382095Z",
     "iopub.status.busy": "2021-09-06T15:32:33.381479Z",
     "iopub.status.idle": "2021-09-06T15:32:33.385236Z",
     "shell.execute_reply": "2021-09-06T15:32:33.385754Z"
    },
    "papermill": {
     "duration": 0.035939,
     "end_time": "2021-09-06T15:32:33.385919",
     "exception": false,
     "start_time": "2021-09-06T15:32:33.349980",
     "status": "completed"
    },
    "tags": []
   },
   "outputs": [],
   "source": [
    "lst1 = [1,2,3]\n",
    "lst2 = [\"one\",\"Two\",\"Three\"]"
   ]
  },
  {
   "cell_type": "code",
   "execution_count": 36,
   "id": "7f679150",
   "metadata": {
    "execution": {
     "iopub.execute_input": "2021-09-06T15:32:33.447907Z",
     "iopub.status.busy": "2021-09-06T15:32:33.447254Z",
     "iopub.status.idle": "2021-09-06T15:32:33.450456Z",
     "shell.execute_reply": "2021-09-06T15:32:33.451016Z"
    },
    "papermill": {
     "duration": 0.035519,
     "end_time": "2021-09-06T15:32:33.451197",
     "exception": false,
     "start_time": "2021-09-06T15:32:33.415678",
     "status": "completed"
    },
    "tags": []
   },
   "outputs": [],
   "source": [
    "#Extend is used to merge the list item into one list\n",
    "lst1.extend(lst2)"
   ]
  },
  {
   "cell_type": "code",
   "execution_count": 37,
   "id": "68f7d2b7",
   "metadata": {
    "execution": {
     "iopub.execute_input": "2021-09-06T15:32:33.512537Z",
     "iopub.status.busy": "2021-09-06T15:32:33.511905Z",
     "iopub.status.idle": "2021-09-06T15:32:33.516919Z",
     "shell.execute_reply": "2021-09-06T15:32:33.517813Z"
    },
    "papermill": {
     "duration": 0.037843,
     "end_time": "2021-09-06T15:32:33.518171",
     "exception": false,
     "start_time": "2021-09-06T15:32:33.480328",
     "status": "completed"
    },
    "tags": []
   },
   "outputs": [
    {
     "name": "stdout",
     "output_type": "stream",
     "text": [
      "[1, 2, 3, 'one', 'Two', 'Three']\n"
     ]
    }
   ],
   "source": [
    "print(lst1)"
   ]
  },
  {
   "cell_type": "markdown",
   "id": "ae1729f5",
   "metadata": {},
   "source": [
    "# Index() in List"
   ]
  },
  {
   "cell_type": "code",
   "execution_count": 38,
   "id": "42b00112",
   "metadata": {},
   "outputs": [
    {
     "name": "stdout",
     "output_type": "stream",
     "text": [
      "2\n",
      "7\n",
      "5\n"
     ]
    }
   ],
   "source": [
    "List1 = [10,20,30, 40, 50, 60, 70, 80]\n",
    "\n",
    "print(List1.index(30))\n",
    "\n",
    "print(List1.index(80, 1))\n",
    "\n",
    "print(List1.index(60, 1, 7))"
   ]
  },
  {
   "cell_type": "code",
   "execution_count": 39,
   "id": "675a0f7c",
   "metadata": {},
   "outputs": [
    {
     "name": "stdout",
     "output_type": "stream",
     "text": [
      "2\n"
     ]
    }
   ],
   "source": [
    "List1 = [10,20,30, 40, 50, 30, 60, 70, 30]\n",
    "\n",
    "#It will return only first element index\n",
    "print(List1.index(30))"
   ]
  },
  {
   "cell_type": "code",
   "execution_count": 40,
   "id": "c7ff67e3",
   "metadata": {},
   "outputs": [
    {
     "ename": "ValueError",
     "evalue": "14 is not in list",
     "output_type": "error",
     "traceback": [
      "\u001b[1;31m---------------------------------------------------------------------------\u001b[0m",
      "\u001b[1;31mValueError\u001b[0m                                Traceback (most recent call last)",
      "\u001b[1;32m<ipython-input-40-31a3d766e80e>\u001b[0m in \u001b[0;36m<module>\u001b[1;34m\u001b[0m\n\u001b[0;32m      2\u001b[0m \u001b[1;33m\u001b[0m\u001b[0m\n\u001b[0;32m      3\u001b[0m \u001b[1;31m#It will return only first element index\u001b[0m\u001b[1;33m\u001b[0m\u001b[1;33m\u001b[0m\u001b[1;33m\u001b[0m\u001b[0m\n\u001b[1;32m----> 4\u001b[1;33m \u001b[0mprint\u001b[0m\u001b[1;33m(\u001b[0m\u001b[0mList1\u001b[0m\u001b[1;33m.\u001b[0m\u001b[0mindex\u001b[0m\u001b[1;33m(\u001b[0m\u001b[1;36m14\u001b[0m\u001b[1;33m)\u001b[0m\u001b[1;33m)\u001b[0m\u001b[1;33m\u001b[0m\u001b[1;33m\u001b[0m\u001b[0m\n\u001b[0m",
      "\u001b[1;31mValueError\u001b[0m: 14 is not in list"
     ]
    }
   ],
   "source": [
    "List1 = [10,20,30, 40, 50, 30, 60, 70, 30]\n",
    "\n",
    "#It will return only first element index\n",
    "print(List1.index(14))"
   ]
  },
  {
   "cell_type": "markdown",
   "id": "792701b2",
   "metadata": {},
   "source": [
    "# Count() in List"
   ]
  },
  {
   "cell_type": "code",
   "execution_count": 41,
   "id": "c4b835d1",
   "metadata": {},
   "outputs": [
    {
     "name": "stdout",
     "output_type": "stream",
     "text": [
      "1\n",
      "3\n",
      "0\n"
     ]
    }
   ],
   "source": [
    "List1 = [10,20,30, 40, 50, 30, 60, 70, 30]\n",
    "\n",
    "#Counting the match item in List\n",
    "print(List1.count(10))\n",
    "print(List1.count(30))\n",
    "\n",
    "#If item is not available in List then it will return Zero\n",
    "print(List1.count(100))"
   ]
  },
  {
   "cell_type": "markdown",
   "id": "a0f023f4",
   "metadata": {},
   "source": [
    "# Sort() method in List"
   ]
  },
  {
   "cell_type": "code",
   "execution_count": 42,
   "id": "cda54cd9",
   "metadata": {},
   "outputs": [
    {
     "name": "stdout",
     "output_type": "stream",
     "text": [
      "[6, 23, 34, 43, 94, 95]\n"
     ]
    }
   ],
   "source": [
    "List1 = [23, 6, 34, 95, 43, 94]\n",
    "\n",
    "List1.sort()\n",
    "\n",
    "#Sorted List in Python\n",
    "print(List1)"
   ]
  },
  {
   "cell_type": "code",
   "execution_count": 43,
   "id": "8c368e8f",
   "metadata": {},
   "outputs": [
    {
     "name": "stdout",
     "output_type": "stream",
     "text": [
      "['Delhi', 'Dubai', 'Jakarta', 'London', 'Shanghai', 'Tokyo']\n"
     ]
    }
   ],
   "source": [
    "List1 = ['Tokyo', 'London', 'Dubai', 'Jakarta', 'Delhi', 'Shanghai']\n",
    "\n",
    "List1.sort()\n",
    "\n",
    "#Sorted List in Python\n",
    "print(List1)"
   ]
  },
  {
   "cell_type": "code",
   "execution_count": 44,
   "id": "86a8b0f9",
   "metadata": {},
   "outputs": [
    {
     "name": "stdout",
     "output_type": "stream",
     "text": [
      "[95, 94, 43, 34, 23, 6]\n"
     ]
    }
   ],
   "source": [
    "List1 = [23, 6, 34, 95, 43, 94]\n",
    "\n",
    "List1.sort(reverse=True)\n",
    "\n",
    "#Sorted List in Python\n",
    "print(List1)"
   ]
  },
  {
   "cell_type": "code",
   "execution_count": 45,
   "id": "6d0ff6ed",
   "metadata": {},
   "outputs": [
    {
     "name": "stdout",
     "output_type": "stream",
     "text": [
      "[6, 23, 34, 43, 94, 95]\n",
      "[95, 94, 43, 34, 23, 6]\n"
     ]
    }
   ],
   "source": [
    "List1 = [23, 6, 34, 95, 43, 94]\n",
    "#Sort List in Python using sorted method\n",
    "print(sorted(List1))\n",
    "print(sorted(List1, reverse=True))\n"
   ]
  },
  {
   "cell_type": "markdown",
   "id": "b5213fca",
   "metadata": {},
   "source": [
    "# Reverse() method in List"
   ]
  },
  {
   "cell_type": "code",
   "execution_count": 46,
   "id": "af136427",
   "metadata": {},
   "outputs": [
    {
     "name": "stdout",
     "output_type": "stream",
     "text": [
      "['Shanghai', 'Delhi', 'Jakarta', 'Dubai', 'London', 'Tokyo']\n"
     ]
    }
   ],
   "source": [
    "List1 = ['Tokyo', 'London', 'Dubai', 'Jakarta', 'Delhi', 'Shanghai']\n",
    "\n",
    "List1.reverse()\n",
    "\n",
    "#Reverse List item in Python\n",
    "print(List1)"
   ]
  },
  {
   "cell_type": "markdown",
   "id": "72b9d5c1",
   "metadata": {},
   "source": [
    "# Copy method in List"
   ]
  },
  {
   "cell_type": "code",
   "execution_count": 47,
   "id": "9378ce8b",
   "metadata": {},
   "outputs": [
    {
     "name": "stdout",
     "output_type": "stream",
     "text": [
      "[10, 20, 30, 40, 50]\n"
     ]
    }
   ],
   "source": [
    "myList = [10,20,30, 40, 50]\n",
    "\n",
    "#Copy the list in Python\n",
    "newList = myList.copy();\n",
    "\n",
    "print(newList)"
   ]
  },
  {
   "cell_type": "markdown",
   "id": "7edcd97d",
   "metadata": {},
   "source": [
    "# Len() method in List"
   ]
  },
  {
   "cell_type": "code",
   "execution_count": 48,
   "id": "8fdec341",
   "metadata": {},
   "outputs": [
    {
     "name": "stdout",
     "output_type": "stream",
     "text": [
      "5\n"
     ]
    }
   ],
   "source": [
    "list5 = [2,4,6,8,10]\n",
    "#Length of List\n",
    "print(len(list5))"
   ]
  }
 ],
 "metadata": {
  "kernelspec": {
   "display_name": "Python 3",
   "language": "python",
   "name": "python3"
  },
  "language_info": {
   "codemirror_mode": {
    "name": "ipython",
    "version": 3
   },
   "file_extension": ".py",
   "mimetype": "text/x-python",
   "name": "python",
   "nbconvert_exporter": "python",
   "pygments_lexer": "ipython3",
   "version": "3.8.8"
  },
  "papermill": {
   "default_parameters": {},
   "duration": 11.818325,
   "end_time": "2021-09-06T15:32:34.982545",
   "environment_variables": {},
   "exception": null,
   "input_path": "__notebook__.ipynb",
   "output_path": "__notebook__.ipynb",
   "parameters": {},
   "start_time": "2021-09-06T15:32:23.164220",
   "version": "2.3.3"
  }
 },
 "nbformat": 4,
 "nbformat_minor": 5
}
