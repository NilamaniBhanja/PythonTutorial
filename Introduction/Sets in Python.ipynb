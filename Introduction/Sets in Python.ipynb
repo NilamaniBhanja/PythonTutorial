{
 "cells": [
  {
   "cell_type": "markdown",
   "id": "a4ee8cbb",
   "metadata": {
    "papermill": {
     "duration": 0.034847,
     "end_time": "2021-09-22T13:54:29.856883",
     "exception": false,
     "start_time": "2021-09-22T13:54:29.822036",
     "status": "completed"
    },
    "tags": []
   },
   "source": [
    "<strong>Sets</strong> are an unordered collection of *unique* elements. We can construct them by using the set() function. <br/>\n",
    "Every set element is unique (no duplicates) and must be immutable (cannot be changed).However, a set itself is mutable. We can add or remove items from it. <br/>\n",
    "\n",
    "Sets can also be used to perform mathematical set operations like union, intersection, symmetric difference, etc. <br/>\n",
    "\n",
    "Let's go ahead and make a set to see how it works"
   ]
  },
  {
   "cell_type": "markdown",
   "id": "5605f92d",
   "metadata": {
    "papermill": {
     "duration": 0.033163,
     "end_time": "2021-09-22T13:54:29.924967",
     "exception": false,
     "start_time": "2021-09-22T13:54:29.891804",
     "status": "completed"
    },
    "tags": []
   },
   "source": [
    "# Creating Python Sets"
   ]
  },
  {
   "cell_type": "markdown",
   "id": "c482365e",
   "metadata": {
    "papermill": {
     "duration": 0.032411,
     "end_time": "2021-09-22T13:54:29.990053",
     "exception": false,
     "start_time": "2021-09-22T13:54:29.957642",
     "status": "completed"
    },
    "tags": []
   },
   "source": [
    "A set is created by placing all the items (elements) inside curly braces {}, separated by comma, or by using the built-in set() function.\n",
    "\n",
    "It can have any number of items and they may be of different types (integer, float, tuple, string etc.). But a set cannot have mutable elements like lists, sets or dictionaries as its elements."
   ]
  },
  {
   "cell_type": "markdown",
   "id": "104dcd31",
   "metadata": {
    "papermill": {
     "duration": 0.032903,
     "end_time": "2021-09-22T13:54:30.055703",
     "exception": false,
     "start_time": "2021-09-22T13:54:30.022800",
     "status": "completed"
    },
    "tags": []
   },
   "source": [
    "Empty curly braces {} will make an empty dictionary in Python. To make a set without any elements, we use the set() function without any argument."
   ]
  },
  {
   "cell_type": "code",
   "execution_count": 1,
   "id": "07f491c1",
   "metadata": {
    "execution": {
     "iopub.execute_input": "2021-09-22T13:54:30.135678Z",
     "iopub.status.busy": "2021-09-22T13:54:30.134984Z",
     "iopub.status.idle": "2021-09-22T13:54:30.141292Z",
     "shell.execute_reply": "2021-09-22T13:54:30.140619Z"
    },
    "papermill": {
     "duration": 0.052968,
     "end_time": "2021-09-22T13:54:30.141466",
     "exception": false,
     "start_time": "2021-09-22T13:54:30.088498",
     "status": "completed"
    },
    "tags": []
   },
   "outputs": [
    {
     "name": "stdout",
     "output_type": "stream",
     "text": [
      "set()\n",
      "<class 'set'>\n",
      "{}\n",
      "<class 'dict'>\n",
      "{1, 'World', 'Hello'}\n",
      "<class 'set'>\n"
     ]
    }
   ],
   "source": [
    "# Empty Set\n",
    "# Intialize a set with set() method\n",
    "mySet = set()\n",
    "print(mySet)\n",
    "print(type(mySet))\n",
    "\n",
    "\n",
    "# Assigned empty acurly braces {} -- It will consider as Dictionary\n",
    "myData = {}\n",
    "print(myData)\n",
    "print(type(myData))\n",
    "\n",
    "mySet = {1, \"Hello\", \"World\"}\n",
    "print(mySet)\n",
    "print(type(mySet))"
   ]
  },
  {
   "cell_type": "code",
   "execution_count": 2,
   "id": "1243f2d6",
   "metadata": {
    "execution": {
     "iopub.execute_input": "2021-09-22T13:54:30.229076Z",
     "iopub.status.busy": "2021-09-22T13:54:30.228397Z",
     "iopub.status.idle": "2021-09-22T13:54:30.231104Z",
     "shell.execute_reply": "2021-09-22T13:54:30.231820Z"
    },
    "papermill": {
     "duration": 0.05212,
     "end_time": "2021-09-22T13:54:30.232043",
     "exception": false,
     "start_time": "2021-09-22T13:54:30.179923",
     "status": "completed"
    },
    "tags": []
   },
   "outputs": [
    {
     "name": "stdout",
     "output_type": "stream",
     "text": [
      "{1, 2, 3}\n",
      "{'Infosyntax', (10, 20, 30), 3.4}\n"
     ]
    }
   ],
   "source": [
    "# set of integers\n",
    "mySet = {1, 2, 3}\n",
    "print(mySet)\n",
    "\n",
    "# set of mixed datatypes\n",
    "mySet = {3.4, \"Infosyntax\", (10, 20, 30)}\n",
    "print(mySet)\n"
   ]
  },
  {
   "cell_type": "code",
   "execution_count": 3,
   "id": "ddadd1e5",
   "metadata": {
    "execution": {
     "iopub.execute_input": "2021-09-22T13:54:30.306970Z",
     "iopub.status.busy": "2021-09-22T13:54:30.306280Z",
     "iopub.status.idle": "2021-09-22T13:54:30.309731Z",
     "shell.execute_reply": "2021-09-22T13:54:30.309100Z"
    },
    "papermill": {
     "duration": 0.041235,
     "end_time": "2021-09-22T13:54:30.309872",
     "exception": false,
     "start_time": "2021-09-22T13:54:30.268637",
     "status": "completed"
    },
    "tags": []
   },
   "outputs": [
    {
     "name": "stdout",
     "output_type": "stream",
     "text": [
      "<class 'set'>\n"
     ]
    }
   ],
   "source": [
    "print(type(mySet))"
   ]
  },
  {
   "cell_type": "code",
   "execution_count": 4,
   "id": "d4f56d47",
   "metadata": {
    "execution": {
     "iopub.execute_input": "2021-09-22T13:54:30.390655Z",
     "iopub.status.busy": "2021-09-22T13:54:30.389834Z",
     "iopub.status.idle": "2021-09-22T13:54:30.393014Z",
     "shell.execute_reply": "2021-09-22T13:54:30.393613Z"
    },
    "papermill": {
     "duration": 0.049679,
     "end_time": "2021-09-22T13:54:30.393833",
     "exception": false,
     "start_time": "2021-09-22T13:54:30.344154",
     "status": "completed"
    },
    "tags": []
   },
   "outputs": [
    {
     "name": "stdout",
     "output_type": "stream",
     "text": [
      "{10, 50, 20, 25, 60, 30}\n"
     ]
    }
   ],
   "source": [
    "# Every set element is unique (no duplicates) \n",
    "\n",
    "mySet = {10, 30, 10, 20, 50, 60, 25, 20}\n",
    "print(mySet)"
   ]
  },
  {
   "cell_type": "code",
   "execution_count": 5,
   "id": "f8f27c54",
   "metadata": {
    "execution": {
     "iopub.execute_input": "2021-09-22T13:54:30.473745Z",
     "iopub.status.busy": "2021-09-22T13:54:30.473041Z",
     "iopub.status.idle": "2021-09-22T13:54:30.477132Z",
     "shell.execute_reply": "2021-09-22T13:54:30.476323Z"
    },
    "papermill": {
     "duration": 0.046911,
     "end_time": "2021-09-22T13:54:30.477323",
     "exception": false,
     "start_time": "2021-09-22T13:54:30.430412",
     "status": "completed"
    },
    "tags": []
   },
   "outputs": [
    {
     "name": "stdout",
     "output_type": "stream",
     "text": [
      "{10, 20, 30}\n"
     ]
    }
   ],
   "source": [
    "#Create Sets from List\n",
    "mySet = set([10, 20, 10, 30])\n",
    "print(mySet)"
   ]
  },
  {
   "cell_type": "markdown",
   "id": "43c32d5f",
   "metadata": {
    "papermill": {
     "duration": 0.034931,
     "end_time": "2021-09-22T13:54:30.548735",
     "exception": false,
     "start_time": "2021-09-22T13:54:30.513804",
     "status": "completed"
    },
    "tags": []
   },
   "source": [
    "Set cannot have mutable items. If you add mutable item in set's element then it will raise the error."
   ]
  },
  {
   "cell_type": "code",
   "execution_count": 6,
   "id": "7e1efdcc",
   "metadata": {
    "execution": {
     "iopub.execute_input": "2021-09-22T13:54:30.639390Z",
     "iopub.status.busy": "2021-09-22T13:54:30.638701Z",
     "iopub.status.idle": "2021-09-22T13:54:30.702021Z",
     "shell.execute_reply": "2021-09-22T13:54:30.701171Z"
    },
    "papermill": {
     "duration": 0.113987,
     "end_time": "2021-09-22T13:54:30.702286",
     "exception": true,
     "start_time": "2021-09-22T13:54:30.588299",
     "status": "failed"
    },
    "tags": []
   },
   "outputs": [
    {
     "ename": "TypeError",
     "evalue": "unhashable type: 'list'",
     "output_type": "error",
     "traceback": [
      "\u001b[0;31m---------------------------------------------------------------------------\u001b[0m",
      "\u001b[0;31mTypeError\u001b[0m                                 Traceback (most recent call last)",
      "\u001b[0;32m/tmp/ipykernel_19/3068360996.py\u001b[0m in \u001b[0;36m<module>\u001b[0;34m\u001b[0m\n\u001b[0;32m----> 1\u001b[0;31m \u001b[0mmy_set\u001b[0m \u001b[0;34m=\u001b[0m \u001b[0;34m{\u001b[0m\u001b[0;36m89\u001b[0m\u001b[0;34m,\u001b[0m \u001b[0;36m76\u001b[0m\u001b[0;34m,\u001b[0m \u001b[0;34m[\u001b[0m\u001b[0;36m10\u001b[0m\u001b[0;34m,\u001b[0m \u001b[0;36m20\u001b[0m\u001b[0;34m]\u001b[0m\u001b[0;34m}\u001b[0m\u001b[0;34m\u001b[0m\u001b[0;34m\u001b[0m\u001b[0m\n\u001b[0m",
      "\u001b[0;31mTypeError\u001b[0m: unhashable type: 'list'"
     ]
    }
   ],
   "source": [
    "my_set = {89, 76, [10, 20]}"
   ]
  },
  {
   "cell_type": "markdown",
   "id": "c9a31af8",
   "metadata": {
    "papermill": {
     "duration": null,
     "end_time": null,
     "exception": null,
     "start_time": null,
     "status": "pending"
    },
    "tags": []
   },
   "source": [
    "# Modifying a Sets in Python"
   ]
  },
  {
   "cell_type": "markdown",
   "id": "fb67935f",
   "metadata": {
    "papermill": {
     "duration": null,
     "end_time": null,
     "exception": null,
     "start_time": null,
     "status": "pending"
    },
    "tags": []
   },
   "source": [
    "We can add single item using add() method and add multiple items using update method.The update() method can take tuples, lists, strings or other sets as its argument.<br/>\n",
    "Sets in python are unordered, indexing has no meaning. We cannot access or change an element of a set using indexing or slicing. Set data type does not support it."
   ]
  },
  {
   "cell_type": "code",
   "execution_count": null,
   "id": "f44eaaa1",
   "metadata": {
    "papermill": {
     "duration": null,
     "end_time": null,
     "exception": null,
     "start_time": null,
     "status": "pending"
    },
    "tags": []
   },
   "outputs": [],
   "source": [
    "mySet = {10, 20, 30}\n",
    "\n",
    "#Try access item using index\n",
    "print(mySet(mySet[1]))"
   ]
  },
  {
   "cell_type": "code",
   "execution_count": null,
   "id": "d760de20",
   "metadata": {
    "papermill": {
     "duration": null,
     "end_time": null,
     "exception": null,
     "start_time": null,
     "status": "pending"
    },
    "tags": []
   },
   "outputs": [],
   "source": [
    "# Add single element in Set\n",
    "mySet = {10, 20, 30}\n",
    "\n",
    "# Before Add\n",
    "print(mySet)\n",
    "\n",
    "mySet.add(40)\n",
    "mySet.add(20)\n",
    "\n",
    "# After add\n",
    "print(mySet)"
   ]
  },
  {
   "cell_type": "code",
   "execution_count": null,
   "id": "ea4b2305",
   "metadata": {
    "papermill": {
     "duration": null,
     "end_time": null,
     "exception": null,
     "start_time": null,
     "status": "pending"
    },
    "tags": []
   },
   "outputs": [],
   "source": [
    "# Add multiple element in Set\n",
    "mySet = {10, 20, 30}\n",
    "\n",
    "# Before Add\n",
    "print(mySet)\n",
    "\n",
    "mySet.update([20, 40, 50])\n",
    "\n",
    "# After add\n",
    "print(mySet)\n",
    "\n",
    "# Multiple object\n",
    "mySet.update([100, 80, 90], {60, 70 })\n",
    "\n",
    "# After add\n",
    "print(mySet)"
   ]
  },
  {
   "cell_type": "markdown",
   "id": "456f91d0",
   "metadata": {
    "papermill": {
     "duration": null,
     "end_time": null,
     "exception": null,
     "start_time": null,
     "status": "pending"
    },
    "tags": []
   },
   "source": [
    "# Remove element from Set"
   ]
  },
  {
   "cell_type": "markdown",
   "id": "dce2c4ab",
   "metadata": {
    "papermill": {
     "duration": null,
     "end_time": null,
     "exception": null,
     "start_time": null,
     "status": "pending"
    },
    "tags": []
   },
   "source": [
    "### Remove()"
   ]
  },
  {
   "cell_type": "markdown",
   "id": "f716d6fc",
   "metadata": {
    "papermill": {
     "duration": null,
     "end_time": null,
     "exception": null,
     "start_time": null,
     "status": "pending"
    },
    "tags": []
   },
   "source": [
    "This function removes it element from the set.<br/>\n",
    "KeyError occurs if the value is not in the set."
   ]
  },
  {
   "cell_type": "code",
   "execution_count": null,
   "id": "23a4247c",
   "metadata": {
    "papermill": {
     "duration": null,
     "end_time": null,
     "exception": null,
     "start_time": null,
     "status": "pending"
    },
    "tags": []
   },
   "outputs": [],
   "source": [
    "mySet = {10, 30, 10, 20, 50, 60, 25, 20}\n",
    "\n",
    "print(mySet)\n",
    "\n",
    "mySet.remove(30)\n",
    "\n",
    "print(mySet)"
   ]
  },
  {
   "cell_type": "code",
   "execution_count": null,
   "id": "f3cba292",
   "metadata": {
    "papermill": {
     "duration": null,
     "end_time": null,
     "exception": null,
     "start_time": null,
     "status": "pending"
    },
    "tags": []
   },
   "outputs": [],
   "source": [
    "mySet.remove(35)"
   ]
  },
  {
   "cell_type": "markdown",
   "id": "bd521d14",
   "metadata": {
    "papermill": {
     "duration": null,
     "end_time": null,
     "exception": null,
     "start_time": null,
     "status": "pending"
    },
    "tags": []
   },
   "source": [
    "### Discard()"
   ]
  },
  {
   "cell_type": "markdown",
   "id": "f4e82e2d",
   "metadata": {
    "papermill": {
     "duration": null,
     "end_time": null,
     "exception": null,
     "start_time": null,
     "status": "pending"
    },
    "tags": []
   },
   "source": [
    "It is also used to removes the element from srt in python but it does not cause an exception if the value is not in the set.\n"
   ]
  },
  {
   "cell_type": "code",
   "execution_count": null,
   "id": "a6dca547",
   "metadata": {
    "papermill": {
     "duration": null,
     "end_time": null,
     "exception": null,
     "start_time": null,
     "status": "pending"
    },
    "tags": []
   },
   "outputs": [],
   "source": [
    "mySet = {10, 30, 10, 20, 50, 60, 25, 20}\n",
    "\n",
    "print(mySet)\n",
    "\n",
    "mySet.discard(30)\n",
    "\n",
    "#35 is not in the set and it's not raised the error.\n",
    "mySet.discard(35)\n",
    "\n",
    "print(mySet)"
   ]
  },
  {
   "cell_type": "markdown",
   "id": "38f9082a",
   "metadata": {
    "papermill": {
     "duration": null,
     "end_time": null,
     "exception": null,
     "start_time": null,
     "status": "pending"
    },
    "tags": []
   },
   "source": [
    "### Pop()"
   ]
  },
  {
   "cell_type": "markdown",
   "id": "d00ee967",
   "metadata": {
    "papermill": {
     "duration": null,
     "end_time": null,
     "exception": null,
     "start_time": null,
     "status": "pending"
    },
    "tags": []
   },
   "source": [
    "You can also can remove an arbitrary set element and return it with pop method, but Sets are unordered so you do not know which element will be returnd.<br/>\n",
    "KeyError occurs if the set empty when you call pop method."
   ]
  },
  {
   "cell_type": "code",
   "execution_count": null,
   "id": "ea3d38b6",
   "metadata": {
    "papermill": {
     "duration": null,
     "end_time": null,
     "exception": null,
     "start_time": null,
     "status": "pending"
    },
    "tags": []
   },
   "outputs": [],
   "source": [
    "mySet = {10, 30, 10, 20, 50, 60, 25, 20}\n",
    "\n",
    "print(mySet)\n",
    "\n",
    "print(mySet.pop())\n",
    "\n",
    "print(mySet)"
   ]
  },
  {
   "cell_type": "markdown",
   "id": "5b8f61cc",
   "metadata": {
    "papermill": {
     "duration": null,
     "end_time": null,
     "exception": null,
     "start_time": null,
     "status": "pending"
    },
    "tags": []
   },
   "source": [
    "### Clear()"
   ]
  },
  {
   "cell_type": "markdown",
   "id": "76ef780d",
   "metadata": {
    "papermill": {
     "duration": null,
     "end_time": null,
     "exception": null,
     "start_time": null,
     "status": "pending"
    },
    "tags": []
   },
   "source": [
    "It will remove all the item of the set"
   ]
  },
  {
   "cell_type": "code",
   "execution_count": null,
   "id": "a5b0db56",
   "metadata": {
    "papermill": {
     "duration": null,
     "end_time": null,
     "exception": null,
     "start_time": null,
     "status": "pending"
    },
    "tags": []
   },
   "outputs": [],
   "source": [
    "mySet = {10, 30, 10, 20, 50, 60, 25, 20}\n",
    "\n",
    "print(mySet)\n",
    "\n",
    "mySet.clear()\n",
    "\n",
    "print(mySet)"
   ]
  },
  {
   "cell_type": "markdown",
   "id": "eb7ce1c1",
   "metadata": {
    "papermill": {
     "duration": null,
     "end_time": null,
     "exception": null,
     "start_time": null,
     "status": "pending"
    },
    "tags": []
   },
   "source": [
    "# Set Membership"
   ]
  },
  {
   "cell_type": "markdown",
   "id": "08617283",
   "metadata": {
    "papermill": {
     "duration": null,
     "end_time": null,
     "exception": null,
     "start_time": null,
     "status": "pending"
    },
    "tags": []
   },
   "source": [
    "We can check if a value is in a set or not by using the keyword in. Notice that the membership test is only for the value is present and not."
   ]
  },
  {
   "cell_type": "code",
   "execution_count": null,
   "id": "70aa285c",
   "metadata": {
    "papermill": {
     "duration": null,
     "end_time": null,
     "exception": null,
     "start_time": null,
     "status": "pending"
    },
    "tags": []
   },
   "outputs": [],
   "source": [
    "mySet = {10, 30, 10, 20, 50, 60, 25, 20}\n",
    "\n",
    "print( 20 in mySet)\n",
    "print( 32 in mySet)"
   ]
  },
  {
   "cell_type": "markdown",
   "id": "b5d18207",
   "metadata": {
    "papermill": {
     "duration": null,
     "end_time": null,
     "exception": null,
     "start_time": null,
     "status": "pending"
    },
    "tags": []
   },
   "source": [
    "# Iterating Through a Sets in Python"
   ]
  },
  {
   "cell_type": "markdown",
   "id": "bbea2de3",
   "metadata": {
    "papermill": {
     "duration": null,
     "end_time": null,
     "exception": null,
     "start_time": null,
     "status": "pending"
    },
    "tags": []
   },
   "source": [
    "Set are iteratable, so you can process each set element with a for loop."
   ]
  },
  {
   "cell_type": "code",
   "execution_count": null,
   "id": "591d3aa2",
   "metadata": {
    "papermill": {
     "duration": null,
     "end_time": null,
     "exception": null,
     "start_time": null,
     "status": "pending"
    },
    "tags": []
   },
   "outputs": [],
   "source": [
    "mySet = {10, 30, 10, 20, 50, 60, 25, 20}\n",
    "\n",
    "for value in mySet:\n",
    "    print(value)"
   ]
  },
  {
   "cell_type": "markdown",
   "id": "c260df40",
   "metadata": {
    "papermill": {
     "duration": null,
     "end_time": null,
     "exception": null,
     "start_time": null,
     "status": "pending"
    },
    "tags": []
   },
   "source": [
    "# Comparing Sets in Python"
   ]
  },
  {
   "cell_type": "markdown",
   "id": "f1bc9c07",
   "metadata": {
    "papermill": {
     "duration": null,
     "end_time": null,
     "exception": null,
     "start_time": null,
     "status": "pending"
    },
    "tags": []
   },
   "source": [
    "<b>==</b> Return true if two set's element are equal, else false.<br/>\n",
    "<b>!=</b> Return true if two set's element are not equal, else false.<br/>\n",
    "\n",
    "<b> < </b> Left set is proper subset of right side set.<br/>\n",
    "<b><=</b> Wheter the set to it's left is an improper.<br/>\n",
    "    \n",
    "<b>issubset()</b> Left set is subset of the one to it's right set </b>\n",
    "\n",
    "\n",
    "<b> > </b> LWhether the set ti it's left is a proper superset of the one to it's right.<br/>\n",
    "<b>>=</b> Wheter the set to it's right is an improper.<br/>\n",
    "    \n",
    "<b>issuperset()</b> Left set is superset of the one to it's right set </b>\n"
   ]
  },
  {
   "cell_type": "code",
   "execution_count": null,
   "id": "db8aca17",
   "metadata": {
    "papermill": {
     "duration": null,
     "end_time": null,
     "exception": null,
     "start_time": null,
     "status": "pending"
    },
    "tags": []
   },
   "outputs": [],
   "source": [
    "set1 = {1,2,3} \n",
    "set2 = {2, 3, 4}\n",
    "\n",
    "print(set1 == set2)\n",
    "print(set1 != set2)"
   ]
  },
  {
   "cell_type": "code",
   "execution_count": null,
   "id": "8163414b",
   "metadata": {
    "papermill": {
     "duration": null,
     "end_time": null,
     "exception": null,
     "start_time": null,
     "status": "pending"
    },
    "tags": []
   },
   "outputs": [],
   "source": [
    "set1 = {1,2,3} \n",
    "set2 = {1, 2, 3, 4}\n",
    "\n",
    "print(set1 < set2)\n",
    "print(set1 <= set2)\n",
    "\n",
    "print(set1.issubset(set2))"
   ]
  },
  {
   "cell_type": "code",
   "execution_count": null,
   "id": "d9098bcf",
   "metadata": {
    "papermill": {
     "duration": null,
     "end_time": null,
     "exception": null,
     "start_time": null,
     "status": "pending"
    },
    "tags": []
   },
   "outputs": [],
   "source": [
    "set1 = {1, 2, 4, 5, 6} \n",
    "set2 = {1, 2, 3, 4}\n",
    "\n",
    "print(set1 > set2)\n",
    "print(set1 >= set2)\n",
    "\n",
    "print(set1.issuperset(set2))"
   ]
  },
  {
   "cell_type": "markdown",
   "id": "3db3593d",
   "metadata": {
    "papermill": {
     "duration": null,
     "end_time": null,
     "exception": null,
     "start_time": null,
     "status": "pending"
    },
    "tags": []
   },
   "source": [
    "# Mathematical Operation in Set"
   ]
  },
  {
   "cell_type": "markdown",
   "id": "80c7d705",
   "metadata": {
    "papermill": {
     "duration": null,
     "end_time": null,
     "exception": null,
     "start_time": null,
     "status": "pending"
    },
    "tags": []
   },
   "source": [
    "### Union"
   ]
  },
  {
   "cell_type": "markdown",
   "id": "478103df",
   "metadata": {
    "papermill": {
     "duration": null,
     "end_time": null,
     "exception": null,
     "start_time": null,
     "status": "pending"
    },
    "tags": []
   },
   "source": [
    "The union of two sets consisting of all the elements from both the sets."
   ]
  },
  {
   "cell_type": "code",
   "execution_count": null,
   "id": "a15c303e",
   "metadata": {
    "papermill": {
     "duration": null,
     "end_time": null,
     "exception": null,
     "start_time": null,
     "status": "pending"
    },
    "tags": []
   },
   "outputs": [],
   "source": [
    "set1 = {1, 2, 3} \n",
    "set2 = {2, 3, 4}\n",
    "\n",
    "# | using for union\n",
    "print(set1 | set2)\n",
    "\n",
    "# union method \n",
    "print(set1.union(set2))"
   ]
  },
  {
   "cell_type": "markdown",
   "id": "65f53427",
   "metadata": {
    "papermill": {
     "duration": null,
     "end_time": null,
     "exception": null,
     "start_time": null,
     "status": "pending"
    },
    "tags": []
   },
   "source": [
    "### Intersection"
   ]
  },
  {
   "cell_type": "markdown",
   "id": "6ba431b4",
   "metadata": {
    "papermill": {
     "duration": null,
     "end_time": null,
     "exception": null,
     "start_time": null,
     "status": "pending"
    },
    "tags": []
   },
   "source": [
    "The intersection of two sets is a set consisting of all the unique elements that the two sets have common."
   ]
  },
  {
   "cell_type": "code",
   "execution_count": null,
   "id": "78043a38",
   "metadata": {
    "papermill": {
     "duration": null,
     "end_time": null,
     "exception": null,
     "start_time": null,
     "status": "pending"
    },
    "tags": []
   },
   "outputs": [],
   "source": [
    "set1 = {1, 2, 3} \n",
    "set2 = {2, 3, 4}\n",
    "\n",
    "# | using for Intersection\n",
    "print(set1 & set2)\n",
    "\n",
    "# Intersection method \n",
    "print(set1.intersection(set2))"
   ]
  },
  {
   "cell_type": "markdown",
   "id": "b31b3554",
   "metadata": {
    "papermill": {
     "duration": null,
     "end_time": null,
     "exception": null,
     "start_time": null,
     "status": "pending"
    },
    "tags": []
   },
   "source": [
    "### Difference"
   ]
  },
  {
   "cell_type": "markdown",
   "id": "e2a57d17",
   "metadata": {
    "papermill": {
     "duration": null,
     "end_time": null,
     "exception": null,
     "start_time": null,
     "status": "pending"
    },
    "tags": []
   },
   "source": [
    "The difference between two sets is a set consisting of the element in the left operand that are not in the right oprand"
   ]
  },
  {
   "cell_type": "code",
   "execution_count": null,
   "id": "548aadce",
   "metadata": {
    "papermill": {
     "duration": null,
     "end_time": null,
     "exception": null,
     "start_time": null,
     "status": "pending"
    },
    "tags": []
   },
   "outputs": [],
   "source": [
    "set1 = {1, 2, 3} \n",
    "set2 = {2, 3, 4}\n",
    "\n",
    "# | using for difference\n",
    "print(set1 - set2)\n",
    "\n",
    "# Intersection method \n",
    "print(set1.difference(set2))"
   ]
  },
  {
   "cell_type": "markdown",
   "id": "14c73d66",
   "metadata": {
    "papermill": {
     "duration": null,
     "end_time": null,
     "exception": null,
     "start_time": null,
     "status": "pending"
    },
    "tags": []
   },
   "source": [
    "### Symmetric Difference"
   ]
  },
  {
   "cell_type": "markdown",
   "id": "9cfccfc9",
   "metadata": {
    "papermill": {
     "duration": null,
     "end_time": null,
     "exception": null,
     "start_time": null,
     "status": "pending"
    },
    "tags": []
   },
   "source": [
    "The symmetric difference between two sets is a set consisting of the both sets that are not in common with one another."
   ]
  },
  {
   "cell_type": "code",
   "execution_count": null,
   "id": "0f73380f",
   "metadata": {
    "papermill": {
     "duration": null,
     "end_time": null,
     "exception": null,
     "start_time": null,
     "status": "pending"
    },
    "tags": []
   },
   "outputs": [],
   "source": [
    "set1 = {1, 2, 3} \n",
    "set2 = {2, 3, 4}\n",
    "\n",
    "# ^ using for symmetric difference\n",
    "print(set1 ^ set2)\n",
    "\n",
    "# symmetric_difference method \n",
    "print(set1.symmetric_difference(set2))"
   ]
  },
  {
   "cell_type": "markdown",
   "id": "6b1c6be9",
   "metadata": {
    "papermill": {
     "duration": null,
     "end_time": null,
     "exception": null,
     "start_time": null,
     "status": "pending"
    },
    "tags": []
   },
   "source": [
    "### Disjoint"
   ]
  },
  {
   "cell_type": "markdown",
   "id": "0857847e",
   "metadata": {
    "papermill": {
     "duration": null,
     "end_time": null,
     "exception": null,
     "start_time": null,
     "status": "pending"
    },
    "tags": []
   },
   "source": [
    "The isdisjoint() method will automatically convert iterables to set and checks whether the sets are disjoint or not.<br/>\n",
    "<ul>\n",
    "    <li>returns True - if the two sets are disjoint. </li>\n",
    "    <li>returns False - if the twos sets are not disjoint.</li>\n",
    "</ul>"
   ]
  },
  {
   "cell_type": "code",
   "execution_count": null,
   "id": "198c67ee",
   "metadata": {
    "papermill": {
     "duration": null,
     "end_time": null,
     "exception": null,
     "start_time": null,
     "status": "pending"
    },
    "tags": []
   },
   "outputs": [],
   "source": [
    "set1 = {10, 20, 30} \n",
    "set2 = {40, 50, 60}\n",
    "set3 = {30, 40}\n",
    "\n",
    "\n",
    "print(\"set1 and set2 are disjoint?\", set1.isdisjoint(set2))\n",
    "  \n",
    "print(\"set1 and set3 are disjoint?\", set1.isdisjoint(set3))"
   ]
  },
  {
   "cell_type": "markdown",
   "id": "6a4bb177",
   "metadata": {
    "papermill": {
     "duration": null,
     "end_time": null,
     "exception": null,
     "start_time": null,
     "status": "pending"
    },
    "tags": []
   },
   "source": [
    "# Frozenset in Python"
   ]
  },
  {
   "cell_type": "markdown",
   "id": "030d6869",
   "metadata": {
    "papermill": {
     "duration": null,
     "end_time": null,
     "exception": null,
     "start_time": null,
     "status": "pending"
    },
    "tags": []
   },
   "source": [
    "FrozenSet is a new class that has the characteristics of a set, but its elements cannot be changed once assigned. While tuples are immutable lists, frozen sets are immutable sets.<br/>\n",
    "Sets being mutable are unhashable, so they can't be used as dictionary keys. On the other hand, frozensets are hashable and can be used as keys to a dictionary.<br/>\n",
    "\n",
    "Frozensets can be created using the frozenset() function."
   ]
  },
  {
   "cell_type": "code",
   "execution_count": null,
   "id": "83e817b0",
   "metadata": {
    "papermill": {
     "duration": null,
     "end_time": null,
     "exception": null,
     "start_time": null,
     "status": "pending"
    },
    "tags": []
   },
   "outputs": [],
   "source": [
    "# Frozensets\n",
    "myFrozenset = frozenset([10, 20, 30, 40])\n",
    "print(myFrozenset)"
   ]
  },
  {
   "cell_type": "code",
   "execution_count": null,
   "id": "5479fae6",
   "metadata": {
    "papermill": {
     "duration": null,
     "end_time": null,
     "exception": null,
     "start_time": null,
     "status": "pending"
    },
    "tags": []
   },
   "outputs": [],
   "source": [
    "myFrozenset.add(50)"
   ]
  }
 ],
 "metadata": {
  "kernelspec": {
   "display_name": "Python 3",
   "language": "python",
   "name": "python3"
  },
  "language_info": {
   "codemirror_mode": {
    "name": "ipython",
    "version": 3
   },
   "file_extension": ".py",
   "mimetype": "text/x-python",
   "name": "python",
   "nbconvert_exporter": "python",
   "pygments_lexer": "ipython3",
   "version": "3.7.10"
  },
  "papermill": {
   "default_parameters": {},
   "duration": 9.720233,
   "end_time": "2021-09-22T13:54:32.023907",
   "environment_variables": {},
   "exception": true,
   "input_path": "__notebook__.ipynb",
   "output_path": "__notebook__.ipynb",
   "parameters": {},
   "start_time": "2021-09-22T13:54:22.303674",
   "version": "2.3.3"
  }
 },
 "nbformat": 4,
 "nbformat_minor": 5
}
