{
 "cells": [
  {
   "cell_type": "markdown",
   "id": "b734e34b",
   "metadata": {
    "papermill": {
     "duration": 0.069764,
     "end_time": "2021-09-13T18:38:05.136441",
     "exception": false,
     "start_time": "2021-09-13T18:38:05.066677",
     "status": "completed"
    },
    "tags": []
   },
   "source": [
    "# Dictionary in Python"
   ]
  },
  {
   "cell_type": "markdown",
   "id": "0d9d6708",
   "metadata": {
    "papermill": {
     "duration": 0.067676,
     "end_time": "2021-09-13T18:38:05.272136",
     "exception": false,
     "start_time": "2021-09-13T18:38:05.204460",
     "status": "completed"
    },
    "tags": []
   },
   "source": [
    "A dictionary is an unordered collection which stores key -value pairs that map immatable keys to values, just as a conventional dictionary maps words to defination.\n",
    "\n",
    "Keys of dictionary must be unique and of immutable data type such as string, integer and truple but key - value can be repeated and be of any type."
   ]
  },
  {
   "cell_type": "code",
   "execution_count": 1,
   "id": "40d5497a",
   "metadata": {
    "execution": {
     "iopub.execute_input": "2021-09-13T18:38:05.422843Z",
     "iopub.status.busy": "2021-09-13T18:38:05.421861Z",
     "iopub.status.idle": "2021-09-13T18:38:05.427898Z",
     "shell.execute_reply": "2021-09-13T18:38:05.427287Z",
     "shell.execute_reply.started": "2021-09-13T18:37:31.211355Z"
    },
    "papermill": {
     "duration": 0.088131,
     "end_time": "2021-09-13T18:38:05.428063",
     "exception": false,
     "start_time": "2021-09-13T18:38:05.339932",
     "status": "completed"
    },
    "tags": []
   },
   "outputs": [
    {
     "name": "stdout",
     "output_type": "stream",
     "text": [
      "{}\n",
      "{}\n",
      "{1: 'Hello', 2: 'World'}\n",
      "{1: 'Hello', 'Name': 'Lipsha'}\n"
     ]
    }
   ],
   "source": [
    "#Empty Dictionary\n",
    "Dict = {} \n",
    "print(Dict)\n",
    "\n",
    "Dict = dict()\n",
    "print(Dict)\n",
    "\n",
    "# With integer Keys\n",
    "Dict = {1: \"Hello\", 2 : \"World\"} \n",
    "print(Dict)\n",
    "\n",
    "# With mix Keys\n",
    "Dict = {1: \"Hello\", \"Name\" : \"Lipsha\"} \n",
    "print(Dict)"
   ]
  },
  {
   "cell_type": "markdown",
   "id": "af428901",
   "metadata": {
    "papermill": {
     "duration": 0.067946,
     "end_time": "2021-09-13T18:38:05.567129",
     "exception": false,
     "start_time": "2021-09-13T18:38:05.499183",
     "status": "completed"
    },
    "tags": []
   },
   "source": [
    "<b>Create a dictionary from list of tuple</b>"
   ]
  },
  {
   "cell_type": "code",
   "execution_count": 2,
   "id": "5a08b3df",
   "metadata": {
    "execution": {
     "iopub.execute_input": "2021-09-13T18:38:05.708053Z",
     "iopub.status.busy": "2021-09-13T18:38:05.707428Z",
     "iopub.status.idle": "2021-09-13T18:38:05.709824Z",
     "shell.execute_reply": "2021-09-13T18:38:05.710262Z",
     "shell.execute_reply.started": "2021-09-13T18:37:31.324304Z"
    },
    "papermill": {
     "duration": 0.074922,
     "end_time": "2021-09-13T18:38:05.710428",
     "exception": false,
     "start_time": "2021-09-13T18:38:05.635506",
     "status": "completed"
    },
    "tags": []
   },
   "outputs": [],
   "source": [
    "Dict = dict([(1,'India'), (2, 'USA'), (3, 'UK')])"
   ]
  },
  {
   "cell_type": "code",
   "execution_count": 3,
   "id": "48b409a5",
   "metadata": {
    "execution": {
     "iopub.execute_input": "2021-09-13T18:38:05.850858Z",
     "iopub.status.busy": "2021-09-13T18:38:05.850194Z",
     "iopub.status.idle": "2021-09-13T18:38:05.854190Z",
     "shell.execute_reply": "2021-09-13T18:38:05.853734Z",
     "shell.execute_reply.started": "2021-09-13T18:37:31.330756Z"
    },
    "papermill": {
     "duration": 0.075997,
     "end_time": "2021-09-13T18:38:05.854318",
     "exception": false,
     "start_time": "2021-09-13T18:38:05.778321",
     "status": "completed"
    },
    "tags": []
   },
   "outputs": [
    {
     "name": "stdout",
     "output_type": "stream",
     "text": [
      "{1: 'India', 2: 'USA', 3: 'UK'}\n",
      "<class 'dict'>\n"
     ]
    }
   ],
   "source": [
    "print(Dict)\n",
    "print(type(Dict))"
   ]
  },
  {
   "cell_type": "markdown",
   "id": "c6bb0a38",
   "metadata": {
    "papermill": {
     "duration": 0.068563,
     "end_time": "2021-09-13T18:38:05.990676",
     "exception": false,
     "start_time": "2021-09-13T18:38:05.922113",
     "status": "completed"
    },
    "tags": []
   },
   "source": [
    "<b>Diction in python always mappings of unique keys to values.</b>"
   ]
  },
  {
   "cell_type": "code",
   "execution_count": 4,
   "id": "5563f15b",
   "metadata": {
    "execution": {
     "iopub.execute_input": "2021-09-13T18:38:06.133711Z",
     "iopub.status.busy": "2021-09-13T18:38:06.132809Z",
     "iopub.status.idle": "2021-09-13T18:38:06.135290Z",
     "shell.execute_reply": "2021-09-13T18:38:06.134807Z",
     "shell.execute_reply.started": "2021-09-13T18:37:31.345069Z"
    },
    "papermill": {
     "duration": 0.075907,
     "end_time": "2021-09-13T18:38:06.135438",
     "exception": false,
     "start_time": "2021-09-13T18:38:06.059531",
     "status": "completed"
    },
    "tags": []
   },
   "outputs": [],
   "source": [
    "Dict= {1 : 'India', 2 : 'USA', 1 : 'UK'}"
   ]
  },
  {
   "cell_type": "code",
   "execution_count": 5,
   "id": "71316734",
   "metadata": {
    "execution": {
     "iopub.execute_input": "2021-09-13T18:38:06.279371Z",
     "iopub.status.busy": "2021-09-13T18:38:06.278765Z",
     "iopub.status.idle": "2021-09-13T18:38:06.281179Z",
     "shell.execute_reply": "2021-09-13T18:38:06.281692Z",
     "shell.execute_reply.started": "2021-09-13T18:37:31.358518Z"
    },
    "papermill": {
     "duration": 0.076878,
     "end_time": "2021-09-13T18:38:06.281850",
     "exception": false,
     "start_time": "2021-09-13T18:38:06.204972",
     "status": "completed"
    },
    "tags": []
   },
   "outputs": [
    {
     "name": "stdout",
     "output_type": "stream",
     "text": [
      "{1: 'UK', 2: 'USA'}\n",
      "UK\n"
     ]
    }
   ],
   "source": [
    "print(Dict)\n",
    "print(Dict[1])"
   ]
  },
  {
   "cell_type": "markdown",
   "id": "3bebede9",
   "metadata": {
    "papermill": {
     "duration": 0.068964,
     "end_time": "2021-09-13T18:38:06.420220",
     "exception": false,
     "start_time": "2021-09-13T18:38:06.351256",
     "status": "completed"
    },
    "tags": []
   },
   "source": [
    "## Nested Dictionary"
   ]
  },
  {
   "cell_type": "markdown",
   "id": "90ad8b03",
   "metadata": {
    "papermill": {
     "duration": 0.090317,
     "end_time": "2021-09-13T18:38:06.590181",
     "exception": false,
     "start_time": "2021-09-13T18:38:06.499864",
     "status": "completed"
    },
    "tags": []
   },
   "source": [
    "Dictionary can able to hold another dictionary inside value."
   ]
  },
  {
   "cell_type": "code",
   "execution_count": 6,
   "id": "dee09939",
   "metadata": {
    "execution": {
     "iopub.execute_input": "2021-09-13T18:38:06.737207Z",
     "iopub.status.busy": "2021-09-13T18:38:06.736601Z",
     "iopub.status.idle": "2021-09-13T18:38:06.739067Z",
     "shell.execute_reply": "2021-09-13T18:38:06.739769Z",
     "shell.execute_reply.started": "2021-09-13T18:37:31.420070Z"
    },
    "papermill": {
     "duration": 0.077959,
     "end_time": "2021-09-13T18:38:06.739979",
     "exception": false,
     "start_time": "2021-09-13T18:38:06.662020",
     "status": "completed"
    },
    "tags": []
   },
   "outputs": [
    {
     "name": "stdout",
     "output_type": "stream",
     "text": [
      "{1: 'Lipsha', 2: {1: 'Hello', 2: 'World'}}\n"
     ]
    }
   ],
   "source": [
    "Dict = {1: 'Lipsha', 2: { 1: 'Hello', 2: 'World'}}\n",
    "\n",
    "print(Dict)"
   ]
  },
  {
   "cell_type": "markdown",
   "id": "0c9e1e17",
   "metadata": {
    "papermill": {
     "duration": 0.068905,
     "end_time": "2021-09-13T18:38:06.879225",
     "exception": false,
     "start_time": "2021-09-13T18:38:06.810320",
     "status": "completed"
    },
    "tags": []
   },
   "source": [
    "# Accessing Elements in Dictionary"
   ]
  },
  {
   "cell_type": "markdown",
   "id": "94562dcd",
   "metadata": {
    "papermill": {
     "duration": 0.070079,
     "end_time": "2021-09-13T18:38:07.018478",
     "exception": false,
     "start_time": "2021-09-13T18:38:06.948399",
     "status": "completed"
    },
    "tags": []
   },
   "source": [
    "Access the items of dictionary refer to its key name. Key can be used inside [] Square brackets or get() method will also help in accessing the element from a dictionary."
   ]
  },
  {
   "cell_type": "markdown",
   "id": "4299cbfb",
   "metadata": {
    "papermill": {
     "duration": 0.069152,
     "end_time": "2021-09-13T18:38:07.156742",
     "exception": false,
     "start_time": "2021-09-13T18:38:07.087590",
     "status": "completed"
    },
    "tags": []
   },
   "source": [
    "Nested dictionary is an unordered collection of dictionary. So we can not apply index and slicing to access the element in dictionary in python."
   ]
  },
  {
   "cell_type": "code",
   "execution_count": 7,
   "id": "68a7ef4b",
   "metadata": {
    "execution": {
     "iopub.execute_input": "2021-09-13T18:38:07.300136Z",
     "iopub.status.busy": "2021-09-13T18:38:07.299485Z",
     "iopub.status.idle": "2021-09-13T18:38:07.303687Z",
     "shell.execute_reply": "2021-09-13T18:38:07.304172Z",
     "shell.execute_reply.started": "2021-09-13T18:37:31.553605Z"
    },
    "papermill": {
     "duration": 0.077183,
     "end_time": "2021-09-13T18:38:07.304325",
     "exception": false,
     "start_time": "2021-09-13T18:38:07.227142",
     "status": "completed"
    },
    "tags": []
   },
   "outputs": [
    {
     "name": "stdout",
     "output_type": "stream",
     "text": [
      "{1: 'Hello', 2: 'World'}\n"
     ]
    }
   ],
   "source": [
    "Dict = {1: \"Hello\", 2 : \"World\"} \n",
    "print(Dict)\n"
   ]
  },
  {
   "cell_type": "code",
   "execution_count": 8,
   "id": "04fe95cd",
   "metadata": {
    "execution": {
     "iopub.execute_input": "2021-09-13T18:38:07.447601Z",
     "iopub.status.busy": "2021-09-13T18:38:07.446619Z",
     "iopub.status.idle": "2021-09-13T18:38:07.450911Z",
     "shell.execute_reply": "2021-09-13T18:38:07.451435Z",
     "shell.execute_reply.started": "2021-09-13T18:37:31.561003Z"
    },
    "papermill": {
     "duration": 0.0778,
     "end_time": "2021-09-13T18:38:07.451606",
     "exception": false,
     "start_time": "2021-09-13T18:38:07.373806",
     "status": "completed"
    },
    "tags": []
   },
   "outputs": [
    {
     "name": "stdout",
     "output_type": "stream",
     "text": [
      "World\n"
     ]
    }
   ],
   "source": [
    "#Access element in Dictionary\n",
    "\n",
    "print(Dict[2])"
   ]
  },
  {
   "cell_type": "code",
   "execution_count": 9,
   "id": "4cc7d593",
   "metadata": {
    "execution": {
     "iopub.execute_input": "2021-09-13T18:38:07.595925Z",
     "iopub.status.busy": "2021-09-13T18:38:07.593728Z",
     "iopub.status.idle": "2021-09-13T18:38:07.599876Z",
     "shell.execute_reply": "2021-09-13T18:38:07.599187Z",
     "shell.execute_reply.started": "2021-09-13T18:37:31.573409Z"
    },
    "papermill": {
     "duration": 0.07854,
     "end_time": "2021-09-13T18:38:07.600068",
     "exception": false,
     "start_time": "2021-09-13T18:38:07.521528",
     "status": "completed"
    },
    "tags": []
   },
   "outputs": [
    {
     "name": "stdout",
     "output_type": "stream",
     "text": [
      "{'Name': 'Rio', 'Company': 'Microsoft'}\n"
     ]
    }
   ],
   "source": [
    "Dict = {\"Name\":\"Rio\", \"Company\":\"Microsoft\"}\n",
    "print(Dict)"
   ]
  },
  {
   "cell_type": "code",
   "execution_count": 10,
   "id": "4b5806cd",
   "metadata": {
    "execution": {
     "iopub.execute_input": "2021-09-13T18:38:07.745362Z",
     "iopub.status.busy": "2021-09-13T18:38:07.744337Z",
     "iopub.status.idle": "2021-09-13T18:38:07.749137Z",
     "shell.execute_reply": "2021-09-13T18:38:07.749642Z",
     "shell.execute_reply.started": "2021-09-13T18:37:31.586970Z"
    },
    "papermill": {
     "duration": 0.078756,
     "end_time": "2021-09-13T18:38:07.749814",
     "exception": false,
     "start_time": "2021-09-13T18:38:07.671058",
     "status": "completed"
    },
    "tags": []
   },
   "outputs": [
    {
     "name": "stdout",
     "output_type": "stream",
     "text": [
      "Rio\n"
     ]
    }
   ],
   "source": [
    "#Access dictionary element from dictionary by using string key \n",
    "print(Dict[\"Name\"])"
   ]
  },
  {
   "cell_type": "code",
   "execution_count": 11,
   "id": "06ac041c",
   "metadata": {
    "execution": {
     "iopub.execute_input": "2021-09-13T18:38:07.896245Z",
     "iopub.status.busy": "2021-09-13T18:38:07.895432Z",
     "iopub.status.idle": "2021-09-13T18:38:07.898226Z",
     "shell.execute_reply": "2021-09-13T18:38:07.898688Z",
     "shell.execute_reply.started": "2021-09-13T18:37:31.670533Z"
    },
    "papermill": {
     "duration": 0.078536,
     "end_time": "2021-09-13T18:38:07.898839",
     "exception": false,
     "start_time": "2021-09-13T18:38:07.820303",
     "status": "completed"
    },
    "tags": []
   },
   "outputs": [
    {
     "name": "stdout",
     "output_type": "stream",
     "text": [
      "Rio is working in Microsoft\n"
     ]
    }
   ],
   "source": [
    "print(Dict[\"Name\"]+\" is working in \"+ Dict[\"Company\"])"
   ]
  },
  {
   "cell_type": "markdown",
   "id": "2e0b6ed7",
   "metadata": {
    "papermill": {
     "duration": 0.072325,
     "end_time": "2021-09-13T18:38:08.042365",
     "exception": false,
     "start_time": "2021-09-13T18:38:07.970040",
     "status": "completed"
    },
    "tags": []
   },
   "source": [
    "<b>Try to index and sciling on dictionary in python</b>"
   ]
  },
  {
   "cell_type": "code",
   "execution_count": 12,
   "id": "27f38e3b",
   "metadata": {
    "execution": {
     "iopub.execute_input": "2021-09-13T18:38:08.188908Z",
     "iopub.status.busy": "2021-09-13T18:38:08.188175Z",
     "iopub.status.idle": "2021-09-13T18:38:08.190970Z",
     "shell.execute_reply": "2021-09-13T18:38:08.190415Z",
     "shell.execute_reply.started": "2021-09-13T18:37:31.775832Z"
    },
    "papermill": {
     "duration": 0.078247,
     "end_time": "2021-09-13T18:38:08.191102",
     "exception": false,
     "start_time": "2021-09-13T18:38:08.112855",
     "status": "completed"
    },
    "tags": []
   },
   "outputs": [],
   "source": [
    "Dict = {\"Name\":\"Elizabeth\", \"Company\":\"Google\"}"
   ]
  },
  {
   "cell_type": "code",
   "execution_count": 13,
   "id": "c24f5625",
   "metadata": {
    "execution": {
     "iopub.execute_input": "2021-09-13T18:38:08.335068Z",
     "iopub.status.busy": "2021-09-13T18:38:08.334439Z",
     "iopub.status.idle": "2021-09-13T18:38:08.395920Z",
     "shell.execute_reply": "2021-09-13T18:38:08.395164Z",
     "shell.execute_reply.started": "2021-09-13T18:37:31.830093Z"
    },
    "papermill": {
     "duration": 0.134915,
     "end_time": "2021-09-13T18:38:08.396189",
     "exception": true,
     "start_time": "2021-09-13T18:38:08.261274",
     "status": "failed"
    },
    "tags": []
   },
   "outputs": [
    {
     "ename": "KeyError",
     "evalue": "1",
     "output_type": "error",
     "traceback": [
      "\u001b[0;31m---------------------------------------------------------------------------\u001b[0m",
      "\u001b[0;31mKeyError\u001b[0m                                  Traceback (most recent call last)",
      "\u001b[0;32m/tmp/ipykernel_19/2680374297.py\u001b[0m in \u001b[0;36m<module>\u001b[0;34m\u001b[0m\n\u001b[1;32m      1\u001b[0m \u001b[0;31m# Indexing\u001b[0m\u001b[0;34m\u001b[0m\u001b[0;34m\u001b[0m\u001b[0;34m\u001b[0m\u001b[0m\n\u001b[0;32m----> 2\u001b[0;31m \u001b[0mprint\u001b[0m\u001b[0;34m(\u001b[0m\u001b[0mDict\u001b[0m\u001b[0;34m[\u001b[0m\u001b[0;36m1\u001b[0m\u001b[0;34m]\u001b[0m\u001b[0;34m)\u001b[0m\u001b[0;34m\u001b[0m\u001b[0;34m\u001b[0m\u001b[0m\n\u001b[0m",
      "\u001b[0;31mKeyError\u001b[0m: 1"
     ]
    }
   ],
   "source": [
    "# Indexing\n",
    "print(Dict[1])"
   ]
  },
  {
   "cell_type": "code",
   "execution_count": null,
   "id": "1f90379e",
   "metadata": {
    "execution": {
     "iopub.status.busy": "2021-09-13T18:37:31.889198Z",
     "iopub.status.idle": "2021-09-13T18:37:31.889722Z",
     "shell.execute_reply": "2021-09-13T18:37:31.889460Z",
     "shell.execute_reply.started": "2021-09-13T18:37:31.889436Z"
    },
    "papermill": {
     "duration": null,
     "end_time": null,
     "exception": null,
     "start_time": null,
     "status": "pending"
    },
    "tags": []
   },
   "outputs": [],
   "source": [
    "#Sciling\n",
    "\n",
    "print(Dict[0:1])"
   ]
  },
  {
   "cell_type": "markdown",
   "id": "4ae6daab",
   "metadata": {
    "papermill": {
     "duration": null,
     "end_time": null,
     "exception": null,
     "start_time": null,
     "status": "pending"
    },
    "tags": []
   },
   "source": [
    "<b>No existing key in dictionary If key is not exist in dictionary and try to retrive the data then we will get error.</b>"
   ]
  },
  {
   "cell_type": "code",
   "execution_count": null,
   "id": "4c13ee0f",
   "metadata": {
    "execution": {
     "iopub.status.busy": "2021-09-13T18:37:31.891338Z",
     "iopub.status.idle": "2021-09-13T18:37:31.891842Z",
     "shell.execute_reply": "2021-09-13T18:37:31.891583Z",
     "shell.execute_reply.started": "2021-09-13T18:37:31.891558Z"
    },
    "papermill": {
     "duration": null,
     "end_time": null,
     "exception": null,
     "start_time": null,
     "status": "pending"
    },
    "tags": []
   },
   "outputs": [],
   "source": [
    "print(Dict[\"Address\"])"
   ]
  },
  {
   "cell_type": "markdown",
   "id": "4601edc1",
   "metadata": {
    "papermill": {
     "duration": null,
     "end_time": null,
     "exception": null,
     "start_time": null,
     "status": "pending"
    },
    "tags": []
   },
   "source": [
    "### Access element from Nested Dictionary"
   ]
  },
  {
   "cell_type": "markdown",
   "id": "e5a7ba95",
   "metadata": {
    "papermill": {
     "duration": null,
     "end_time": null,
     "exception": null,
     "start_time": null,
     "status": "pending"
    },
    "tags": []
   },
   "source": [
    "We are using the below code to access the element from nested dictionary in python.\n",
    "\n",
    "Syntax to access value from nested dictionary\n",
    "<br/><br/><b>\n",
    "Dict = { 'Key1': {'NestKey': {'SubNestKey': 'Value'}}}\n",
    "\n",
    "Dict['key1']['NestKey']['SubNestKey']</b>"
   ]
  },
  {
   "cell_type": "code",
   "execution_count": null,
   "id": "f7759c27",
   "metadata": {
    "execution": {
     "iopub.execute_input": "2021-09-13T18:37:31.926574Z",
     "iopub.status.busy": "2021-09-13T18:37:31.925864Z",
     "iopub.status.idle": "2021-09-13T18:37:31.932699Z",
     "shell.execute_reply": "2021-09-13T18:37:31.931618Z",
     "shell.execute_reply.started": "2021-09-13T18:37:31.926532Z"
    },
    "papermill": {
     "duration": null,
     "end_time": null,
     "exception": null,
     "start_time": null,
     "status": "pending"
    },
    "tags": []
   },
   "outputs": [],
   "source": [
    "Dict = {1: 'Lipsha', 2: { 1: 'Hello', 2: 'World'}}\n",
    "\n",
    "print(Dict)"
   ]
  },
  {
   "cell_type": "code",
   "execution_count": null,
   "id": "4f2d9b03",
   "metadata": {
    "execution": {
     "iopub.execute_input": "2021-09-13T18:37:31.939450Z",
     "iopub.status.busy": "2021-09-13T18:37:31.939061Z",
     "iopub.status.idle": "2021-09-13T18:37:31.948441Z",
     "shell.execute_reply": "2021-09-13T18:37:31.947385Z",
     "shell.execute_reply.started": "2021-09-13T18:37:31.939411Z"
    },
    "papermill": {
     "duration": null,
     "end_time": null,
     "exception": null,
     "start_time": null,
     "status": "pending"
    },
    "tags": []
   },
   "outputs": [],
   "source": [
    "Dict[2][2]"
   ]
  },
  {
   "cell_type": "markdown",
   "id": "3d3ad459",
   "metadata": {
    "papermill": {
     "duration": null,
     "end_time": null,
     "exception": null,
     "start_time": null,
     "status": "pending"
    },
    "tags": []
   },
   "source": [
    "## Access the element by using get method"
   ]
  },
  {
   "cell_type": "markdown",
   "id": "2cedfa7b",
   "metadata": {
    "papermill": {
     "duration": null,
     "end_time": null,
     "exception": null,
     "start_time": null,
     "status": "pending"
    },
    "tags": []
   },
   "source": [
    "You can prevent this error by using dictionary method get, Which normally returns it's arguments corresponding value . If that is not found, get returns none"
   ]
  },
  {
   "cell_type": "code",
   "execution_count": null,
   "id": "28e75573",
   "metadata": {
    "execution": {
     "iopub.execute_input": "2021-09-13T18:37:31.991195Z",
     "iopub.status.busy": "2021-09-13T18:37:31.990895Z",
     "iopub.status.idle": "2021-09-13T18:37:31.995525Z",
     "shell.execute_reply": "2021-09-13T18:37:31.994157Z",
     "shell.execute_reply.started": "2021-09-13T18:37:31.991167Z"
    },
    "papermill": {
     "duration": null,
     "end_time": null,
     "exception": null,
     "start_time": null,
     "status": "pending"
    },
    "tags": []
   },
   "outputs": [],
   "source": [
    "Dict = {\"Name\":\"Elizabeth\", \"Company\":\"Google\"}"
   ]
  },
  {
   "cell_type": "code",
   "execution_count": null,
   "id": "fa55b7f9",
   "metadata": {
    "execution": {
     "iopub.execute_input": "2021-09-13T18:37:32.015590Z",
     "iopub.status.busy": "2021-09-13T18:37:32.015301Z",
     "iopub.status.idle": "2021-09-13T18:37:32.019988Z",
     "shell.execute_reply": "2021-09-13T18:37:32.019374Z",
     "shell.execute_reply.started": "2021-09-13T18:37:32.015563Z"
    },
    "papermill": {
     "duration": null,
     "end_time": null,
     "exception": null,
     "start_time": null,
     "status": "pending"
    },
    "tags": []
   },
   "outputs": [],
   "source": [
    "print(Dict.get(\"Name\"))"
   ]
  },
  {
   "cell_type": "code",
   "execution_count": null,
   "id": "53c28efd",
   "metadata": {
    "execution": {
     "iopub.execute_input": "2021-09-13T18:37:32.021553Z",
     "iopub.status.busy": "2021-09-13T18:37:32.021201Z",
     "iopub.status.idle": "2021-09-13T18:37:32.032102Z",
     "shell.execute_reply": "2021-09-13T18:37:32.031283Z",
     "shell.execute_reply.started": "2021-09-13T18:37:32.021514Z"
    },
    "papermill": {
     "duration": null,
     "end_time": null,
     "exception": null,
     "start_time": null,
     "status": "pending"
    },
    "tags": []
   },
   "outputs": [],
   "source": [
    "#Not getting any error but it's return None.\n",
    "print(Dict.get(\"Address\"))"
   ]
  },
  {
   "cell_type": "markdown",
   "id": "c4693815",
   "metadata": {
    "papermill": {
     "duration": null,
     "end_time": null,
     "exception": null,
     "start_time": null,
     "status": "pending"
    },
    "tags": []
   },
   "source": [
    "# Updating and Adding Dictionary elements"
   ]
  },
  {
   "cell_type": "markdown",
   "id": "9c6d649f",
   "metadata": {
    "papermill": {
     "duration": null,
     "end_time": null,
     "exception": null,
     "start_time": null,
     "status": "pending"
    },
    "tags": []
   },
   "source": [
    "Directly update value in dictionary by its key.You can update a key's associated value in an assignment\n"
   ]
  },
  {
   "cell_type": "code",
   "execution_count": null,
   "id": "7e21a8f4",
   "metadata": {
    "execution": {
     "iopub.execute_input": "2021-09-13T18:37:32.054218Z",
     "iopub.status.busy": "2021-09-13T18:37:32.053870Z",
     "iopub.status.idle": "2021-09-13T18:37:32.059125Z",
     "shell.execute_reply": "2021-09-13T18:37:32.058254Z",
     "shell.execute_reply.started": "2021-09-13T18:37:32.054187Z"
    },
    "papermill": {
     "duration": null,
     "end_time": null,
     "exception": null,
     "start_time": null,
     "status": "pending"
    },
    "tags": []
   },
   "outputs": [],
   "source": [
    "Dict = {\"Name\":\"Elizabeth\", \"Company\":\"Google\"}"
   ]
  },
  {
   "cell_type": "code",
   "execution_count": null,
   "id": "463df466",
   "metadata": {
    "execution": {
     "iopub.execute_input": "2021-09-13T18:37:32.061846Z",
     "iopub.status.busy": "2021-09-13T18:37:32.061480Z",
     "iopub.status.idle": "2021-09-13T18:37:32.069980Z",
     "shell.execute_reply": "2021-09-13T18:37:32.069129Z",
     "shell.execute_reply.started": "2021-09-13T18:37:32.061802Z"
    },
    "papermill": {
     "duration": null,
     "end_time": null,
     "exception": null,
     "start_time": null,
     "status": "pending"
    },
    "tags": []
   },
   "outputs": [],
   "source": [
    "Dict[\"Name\"] = \"Lipsa\""
   ]
  },
  {
   "cell_type": "code",
   "execution_count": null,
   "id": "9b8d38d6",
   "metadata": {
    "execution": {
     "iopub.execute_input": "2021-09-13T18:37:32.071549Z",
     "iopub.status.busy": "2021-09-13T18:37:32.071324Z",
     "iopub.status.idle": "2021-09-13T18:37:32.079749Z",
     "shell.execute_reply": "2021-09-13T18:37:32.079076Z",
     "shell.execute_reply.started": "2021-09-13T18:37:32.071525Z"
    },
    "papermill": {
     "duration": null,
     "end_time": null,
     "exception": null,
     "start_time": null,
     "status": "pending"
    },
    "tags": []
   },
   "outputs": [],
   "source": [
    "print(Dict)"
   ]
  },
  {
   "cell_type": "markdown",
   "id": "1bf762b5",
   "metadata": {
    "papermill": {
     "duration": null,
     "end_time": null,
     "exception": null,
     "start_time": null,
     "status": "pending"
    },
    "tags": []
   },
   "source": [
    "<b>Update value by using update method in Dictionary</b>"
   ]
  },
  {
   "cell_type": "code",
   "execution_count": null,
   "id": "3a9d2c90",
   "metadata": {
    "execution": {
     "iopub.execute_input": "2021-09-13T18:37:32.101190Z",
     "iopub.status.busy": "2021-09-13T18:37:32.100878Z",
     "iopub.status.idle": "2021-09-13T18:37:32.105581Z",
     "shell.execute_reply": "2021-09-13T18:37:32.104847Z",
     "shell.execute_reply.started": "2021-09-13T18:37:32.101161Z"
    },
    "papermill": {
     "duration": null,
     "end_time": null,
     "exception": null,
     "start_time": null,
     "status": "pending"
    },
    "tags": []
   },
   "outputs": [],
   "source": [
    "Dict.update({\"Name\" : \"Neil\"})"
   ]
  },
  {
   "cell_type": "code",
   "execution_count": null,
   "id": "46bb9c64",
   "metadata": {
    "execution": {
     "iopub.execute_input": "2021-09-13T18:37:32.107549Z",
     "iopub.status.busy": "2021-09-13T18:37:32.107303Z",
     "iopub.status.idle": "2021-09-13T18:37:32.117479Z",
     "shell.execute_reply": "2021-09-13T18:37:32.116462Z",
     "shell.execute_reply.started": "2021-09-13T18:37:32.107523Z"
    },
    "papermill": {
     "duration": null,
     "end_time": null,
     "exception": null,
     "start_time": null,
     "status": "pending"
    },
    "tags": []
   },
   "outputs": [],
   "source": [
    "print(Dict)"
   ]
  },
  {
   "cell_type": "code",
   "execution_count": null,
   "id": "413c950c",
   "metadata": {
    "execution": {
     "iopub.execute_input": "2021-09-13T18:37:32.119257Z",
     "iopub.status.busy": "2021-09-13T18:37:32.118967Z",
     "iopub.status.idle": "2021-09-13T18:37:32.128659Z",
     "shell.execute_reply": "2021-09-13T18:37:32.127748Z",
     "shell.execute_reply.started": "2021-09-13T18:37:32.119226Z"
    },
    "papermill": {
     "duration": null,
     "end_time": null,
     "exception": null,
     "start_time": null,
     "status": "pending"
    },
    "tags": []
   },
   "outputs": [],
   "source": [
    "# We can write the below code to update value in Dictionary\n",
    "\n",
    "Dict.update(Name = \"Ethan\")\n"
   ]
  },
  {
   "cell_type": "code",
   "execution_count": null,
   "id": "efdbf7b7",
   "metadata": {
    "execution": {
     "iopub.execute_input": "2021-09-13T18:37:32.136801Z",
     "iopub.status.busy": "2021-09-13T18:37:32.136495Z",
     "iopub.status.idle": "2021-09-13T18:37:32.141851Z",
     "shell.execute_reply": "2021-09-13T18:37:32.140814Z",
     "shell.execute_reply.started": "2021-09-13T18:37:32.136768Z"
    },
    "papermill": {
     "duration": null,
     "end_time": null,
     "exception": null,
     "start_time": null,
     "status": "pending"
    },
    "tags": []
   },
   "outputs": [],
   "source": [
    "print(Dict)"
   ]
  },
  {
   "cell_type": "markdown",
   "id": "46764b83",
   "metadata": {
    "papermill": {
     "duration": null,
     "end_time": null,
     "exception": null,
     "start_time": null,
     "status": "pending"
    },
    "tags": []
   },
   "source": [
    "<b>You can insert key-value pair in existing dictionary by using the above technique.</b>"
   ]
  },
  {
   "cell_type": "code",
   "execution_count": null,
   "id": "cdc6376f",
   "metadata": {
    "execution": {
     "iopub.execute_input": "2021-09-13T18:37:32.151583Z",
     "iopub.status.busy": "2021-09-13T18:37:32.151251Z",
     "iopub.status.idle": "2021-09-13T18:37:32.155905Z",
     "shell.execute_reply": "2021-09-13T18:37:32.155208Z",
     "shell.execute_reply.started": "2021-09-13T18:37:32.151547Z"
    },
    "papermill": {
     "duration": null,
     "end_time": null,
     "exception": null,
     "start_time": null,
     "status": "pending"
    },
    "tags": []
   },
   "outputs": [],
   "source": [
    "Dict = {\"Name\":\"Elizabeth\", \"Company\":\"Google\"}"
   ]
  },
  {
   "cell_type": "code",
   "execution_count": null,
   "id": "a745b250",
   "metadata": {
    "execution": {
     "iopub.execute_input": "2021-09-13T18:37:32.188789Z",
     "iopub.status.busy": "2021-09-13T18:37:32.188472Z",
     "iopub.status.idle": "2021-09-13T18:37:32.192912Z",
     "shell.execute_reply": "2021-09-13T18:37:32.191972Z",
     "shell.execute_reply.started": "2021-09-13T18:37:32.188760Z"
    },
    "papermill": {
     "duration": null,
     "end_time": null,
     "exception": null,
     "start_time": null,
     "status": "pending"
    },
    "tags": []
   },
   "outputs": [],
   "source": [
    "Dict[\"Country\"] = \"USA\""
   ]
  },
  {
   "cell_type": "code",
   "execution_count": null,
   "id": "813fe1ca",
   "metadata": {
    "execution": {
     "iopub.execute_input": "2021-09-13T18:37:32.195523Z",
     "iopub.status.busy": "2021-09-13T18:37:32.194880Z",
     "iopub.status.idle": "2021-09-13T18:37:32.203539Z",
     "shell.execute_reply": "2021-09-13T18:37:32.202706Z",
     "shell.execute_reply.started": "2021-09-13T18:37:32.195477Z"
    },
    "papermill": {
     "duration": null,
     "end_time": null,
     "exception": null,
     "start_time": null,
     "status": "pending"
    },
    "tags": []
   },
   "outputs": [],
   "source": [
    "print(Dict)"
   ]
  },
  {
   "cell_type": "code",
   "execution_count": null,
   "id": "307c36e6",
   "metadata": {
    "execution": {
     "iopub.execute_input": "2021-09-13T18:37:32.205629Z",
     "iopub.status.busy": "2021-09-13T18:37:32.205162Z",
     "iopub.status.idle": "2021-09-13T18:37:32.210960Z",
     "shell.execute_reply": "2021-09-13T18:37:32.210132Z",
     "shell.execute_reply.started": "2021-09-13T18:37:32.205597Z"
    },
    "papermill": {
     "duration": null,
     "end_time": null,
     "exception": null,
     "start_time": null,
     "status": "pending"
    },
    "tags": []
   },
   "outputs": [],
   "source": [
    "#Add the element by using update method\n",
    "Dict.update({\"Designation\" : \"Developer\"})"
   ]
  },
  {
   "cell_type": "code",
   "execution_count": null,
   "id": "4f9ddb00",
   "metadata": {
    "execution": {
     "iopub.execute_input": "2021-09-13T18:37:32.212881Z",
     "iopub.status.busy": "2021-09-13T18:37:32.212479Z",
     "iopub.status.idle": "2021-09-13T18:37:32.223436Z",
     "shell.execute_reply": "2021-09-13T18:37:32.222493Z",
     "shell.execute_reply.started": "2021-09-13T18:37:32.212844Z"
    },
    "papermill": {
     "duration": null,
     "end_time": null,
     "exception": null,
     "start_time": null,
     "status": "pending"
    },
    "tags": []
   },
   "outputs": [],
   "source": [
    "print(Dict)"
   ]
  },
  {
   "cell_type": "markdown",
   "id": "0e1ae4fc",
   "metadata": {
    "papermill": {
     "duration": null,
     "end_time": null,
     "exception": null,
     "start_time": null,
     "status": "pending"
    },
    "tags": []
   },
   "source": [
    "###### Note:-"
   ]
  },
  {
   "cell_type": "markdown",
   "id": "149bc76e",
   "metadata": {
    "papermill": {
     "duration": null,
     "end_time": null,
     "exception": null,
     "start_time": null,
     "status": "pending"
    },
    "tags": []
   },
   "source": [
    "<b>The update() method adds element(s) to the dictionary if the key is not in the dictionary. If the key is in the dictionary, it updates the key with the new value.</b>"
   ]
  },
  {
   "cell_type": "markdown",
   "id": "be6c7abf",
   "metadata": {
    "papermill": {
     "duration": null,
     "end_time": null,
     "exception": null,
     "start_time": null,
     "status": "pending"
    },
    "tags": []
   },
   "source": [
    "# Delete in Dictionary"
   ]
  },
  {
   "cell_type": "markdown",
   "id": "3d32eed8",
   "metadata": {
    "papermill": {
     "duration": null,
     "end_time": null,
     "exception": null,
     "start_time": null,
     "status": "pending"
    },
    "tags": []
   },
   "source": [
    "<ul>\n",
    "    <li>del Deletion of keys can be done by using the del keywords and item in nested dictionary can also be deleted by using del keywords.</li>\n",
    "    <li>pop()/popitem() These can also be used for deleting specific value and arbitary value from a dictionary. </li>\n",
    "    <li>Clear() All items from a dictionary can be deleted at once by using clear().</li>\n",
    "</ul>    "
   ]
  },
  {
   "cell_type": "code",
   "execution_count": null,
   "id": "500e712b",
   "metadata": {
    "execution": {
     "iopub.execute_input": "2021-09-13T18:37:32.240246Z",
     "iopub.status.busy": "2021-09-13T18:37:32.239207Z",
     "iopub.status.idle": "2021-09-13T18:37:32.245163Z",
     "shell.execute_reply": "2021-09-13T18:37:32.244437Z",
     "shell.execute_reply.started": "2021-09-13T18:37:32.240200Z"
    },
    "papermill": {
     "duration": null,
     "end_time": null,
     "exception": null,
     "start_time": null,
     "status": "pending"
    },
    "tags": []
   },
   "outputs": [],
   "source": [
    "D = {'Name': 'Elizabeth', 'Company': 'Google', 'Country': 'USA', 'Designation': 'Developer'}\n",
    "print(D)"
   ]
  },
  {
   "cell_type": "markdown",
   "id": "2f23dd54",
   "metadata": {
    "papermill": {
     "duration": null,
     "end_time": null,
     "exception": null,
     "start_time": null,
     "status": "pending"
    },
    "tags": []
   },
   "source": [
    "### del Keyword"
   ]
  },
  {
   "cell_type": "code",
   "execution_count": null,
   "id": "ca06ff2e",
   "metadata": {
    "execution": {
     "iopub.execute_input": "2021-09-13T18:37:32.269854Z",
     "iopub.status.busy": "2021-09-13T18:37:32.268597Z",
     "iopub.status.idle": "2021-09-13T18:37:32.275354Z",
     "shell.execute_reply": "2021-09-13T18:37:32.274329Z",
     "shell.execute_reply.started": "2021-09-13T18:37:32.269792Z"
    },
    "papermill": {
     "duration": null,
     "end_time": null,
     "exception": null,
     "start_time": null,
     "status": "pending"
    },
    "tags": []
   },
   "outputs": [],
   "source": [
    "#Delect element by using del keyword\n",
    "\n",
    "del D[\"Country\"]\n",
    "print(D)"
   ]
  },
  {
   "cell_type": "code",
   "execution_count": null,
   "id": "b46a5c7b",
   "metadata": {
    "execution": {
     "iopub.execute_input": "2021-09-13T18:37:32.289620Z",
     "iopub.status.busy": "2021-09-13T18:37:32.289290Z",
     "iopub.status.idle": "2021-09-13T18:37:32.306905Z",
     "shell.execute_reply": "2021-09-13T18:37:32.305846Z",
     "shell.execute_reply.started": "2021-09-13T18:37:32.289588Z"
    },
    "papermill": {
     "duration": null,
     "end_time": null,
     "exception": null,
     "start_time": null,
     "status": "pending"
    },
    "tags": []
   },
   "outputs": [],
   "source": [
    "#If key is not exist in Dictionary then it raised the error.\n",
    "del D[\"PhoneNo\"]"
   ]
  },
  {
   "cell_type": "code",
   "execution_count": null,
   "id": "0e445583",
   "metadata": {
    "execution": {
     "iopub.execute_input": "2021-09-13T18:37:32.320273Z",
     "iopub.status.busy": "2021-09-13T18:37:32.319415Z",
     "iopub.status.idle": "2021-09-13T18:37:32.324012Z",
     "shell.execute_reply": "2021-09-13T18:37:32.322990Z",
     "shell.execute_reply.started": "2021-09-13T18:37:32.320226Z"
    },
    "papermill": {
     "duration": null,
     "end_time": null,
     "exception": null,
     "start_time": null,
     "status": "pending"
    },
    "tags": []
   },
   "outputs": [],
   "source": [
    "#Delete entirely dictionary in python.\n",
    "del D"
   ]
  },
  {
   "cell_type": "code",
   "execution_count": null,
   "id": "79d509e1",
   "metadata": {
    "execution": {
     "iopub.execute_input": "2021-09-13T18:37:32.326564Z",
     "iopub.status.busy": "2021-09-13T18:37:32.325921Z",
     "iopub.status.idle": "2021-09-13T18:37:32.348975Z",
     "shell.execute_reply": "2021-09-13T18:37:32.347829Z",
     "shell.execute_reply.started": "2021-09-13T18:37:32.326525Z"
    },
    "papermill": {
     "duration": null,
     "end_time": null,
     "exception": null,
     "start_time": null,
     "status": "pending"
    },
    "tags": []
   },
   "outputs": [],
   "source": [
    "print(D)"
   ]
  },
  {
   "cell_type": "markdown",
   "id": "71423fd0",
   "metadata": {
    "papermill": {
     "duration": null,
     "end_time": null,
     "exception": null,
     "start_time": null,
     "status": "pending"
    },
    "tags": []
   },
   "source": [
    "### <b>pop()/popitem()</b>"
   ]
  },
  {
   "cell_type": "code",
   "execution_count": null,
   "id": "bb944655",
   "metadata": {
    "execution": {
     "iopub.execute_input": "2021-09-13T18:37:32.358446Z",
     "iopub.status.busy": "2021-09-13T18:37:32.358101Z",
     "iopub.status.idle": "2021-09-13T18:37:32.364241Z",
     "shell.execute_reply": "2021-09-13T18:37:32.363178Z",
     "shell.execute_reply.started": "2021-09-13T18:37:32.358417Z"
    },
    "papermill": {
     "duration": null,
     "end_time": null,
     "exception": null,
     "start_time": null,
     "status": "pending"
    },
    "tags": []
   },
   "outputs": [],
   "source": [
    "D = {'Name': 'Elizabeth', 'Company': 'Google', 'Country': 'USA', 'Designation': 'Developer'}\n",
    "print(D)"
   ]
  },
  {
   "cell_type": "code",
   "execution_count": null,
   "id": "dabc35dc",
   "metadata": {
    "execution": {
     "iopub.execute_input": "2021-09-13T18:37:32.366261Z",
     "iopub.status.busy": "2021-09-13T18:37:32.366019Z",
     "iopub.status.idle": "2021-09-13T18:37:32.377568Z",
     "shell.execute_reply": "2021-09-13T18:37:32.376764Z",
     "shell.execute_reply.started": "2021-09-13T18:37:32.366234Z"
    },
    "papermill": {
     "duration": null,
     "end_time": null,
     "exception": null,
     "start_time": null,
     "status": "pending"
    },
    "tags": []
   },
   "outputs": [],
   "source": [
    "#Return deleting element's value\n",
    "D.pop(\"Country\")"
   ]
  },
  {
   "cell_type": "code",
   "execution_count": null,
   "id": "ffd10df7",
   "metadata": {
    "execution": {
     "iopub.execute_input": "2021-09-13T18:37:32.379779Z",
     "iopub.status.busy": "2021-09-13T18:37:32.379045Z",
     "iopub.status.idle": "2021-09-13T18:37:32.391069Z",
     "shell.execute_reply": "2021-09-13T18:37:32.390038Z",
     "shell.execute_reply.started": "2021-09-13T18:37:32.379744Z"
    },
    "papermill": {
     "duration": null,
     "end_time": null,
     "exception": null,
     "start_time": null,
     "status": "pending"
    },
    "tags": []
   },
   "outputs": [],
   "source": [
    "print(D)"
   ]
  },
  {
   "cell_type": "code",
   "execution_count": null,
   "id": "fdc1c4bc",
   "metadata": {
    "execution": {
     "iopub.execute_input": "2021-09-13T18:37:32.398100Z",
     "iopub.status.busy": "2021-09-13T18:37:32.396981Z",
     "iopub.status.idle": "2021-09-13T18:37:32.417598Z",
     "shell.execute_reply": "2021-09-13T18:37:32.416029Z",
     "shell.execute_reply.started": "2021-09-13T18:37:32.397996Z"
    },
    "papermill": {
     "duration": null,
     "end_time": null,
     "exception": null,
     "start_time": null,
     "status": "pending"
    },
    "tags": []
   },
   "outputs": [],
   "source": [
    "# Respective key is not exist\n",
    "D.pop(\"Address\")"
   ]
  },
  {
   "cell_type": "code",
   "execution_count": null,
   "id": "53e67e41",
   "metadata": {
    "execution": {
     "iopub.status.busy": "2021-09-13T18:37:32.419423Z",
     "iopub.status.idle": "2021-09-13T18:37:32.420227Z",
     "shell.execute_reply": "2021-09-13T18:37:32.419963Z",
     "shell.execute_reply.started": "2021-09-13T18:37:32.419934Z"
    },
    "papermill": {
     "duration": null,
     "end_time": null,
     "exception": null,
     "start_time": null,
     "status": "pending"
    },
    "tags": []
   },
   "outputs": [],
   "source": [
    "D = {'Name': 'Elizabeth', 'Company': 'Google', 'Country': 'USA', 'Designation': 'Developer'}\n",
    "print(D)"
   ]
  },
  {
   "cell_type": "code",
   "execution_count": null,
   "id": "fe3fab26",
   "metadata": {
    "execution": {
     "iopub.status.busy": "2021-09-13T18:37:32.421558Z",
     "iopub.status.idle": "2021-09-13T18:37:32.422227Z",
     "shell.execute_reply": "2021-09-13T18:37:32.421868Z",
     "shell.execute_reply.started": "2021-09-13T18:37:32.421842Z"
    },
    "papermill": {
     "duration": null,
     "end_time": null,
     "exception": null,
     "start_time": null,
     "status": "pending"
    },
    "tags": []
   },
   "outputs": [],
   "source": [
    "D.popitem()"
   ]
  },
  {
   "cell_type": "code",
   "execution_count": null,
   "id": "e5c03dc3",
   "metadata": {
    "execution": {
     "iopub.execute_input": "2021-09-13T18:37:32.425897Z",
     "iopub.status.busy": "2021-09-13T18:37:32.424883Z",
     "iopub.status.idle": "2021-09-13T18:37:32.430510Z",
     "shell.execute_reply": "2021-09-13T18:37:32.429852Z",
     "shell.execute_reply.started": "2021-09-13T18:37:32.425861Z"
    },
    "papermill": {
     "duration": null,
     "end_time": null,
     "exception": null,
     "start_time": null,
     "status": "pending"
    },
    "tags": []
   },
   "outputs": [],
   "source": [
    "print(D)"
   ]
  },
  {
   "cell_type": "code",
   "execution_count": null,
   "id": "bb0ee087",
   "metadata": {
    "execution": {
     "iopub.execute_input": "2021-09-13T18:37:32.445803Z",
     "iopub.status.busy": "2021-09-13T18:37:32.445140Z",
     "iopub.status.idle": "2021-09-13T18:37:32.463357Z",
     "shell.execute_reply": "2021-09-13T18:37:32.462161Z",
     "shell.execute_reply.started": "2021-09-13T18:37:32.445755Z"
    },
    "papermill": {
     "duration": null,
     "end_time": null,
     "exception": null,
     "start_time": null,
     "status": "pending"
    },
    "tags": []
   },
   "outputs": [],
   "source": [
    "D.popitem(\"Country\")"
   ]
  },
  {
   "cell_type": "markdown",
   "id": "a9cd4cb8",
   "metadata": {
    "papermill": {
     "duration": null,
     "end_time": null,
     "exception": null,
     "start_time": null,
     "status": "pending"
    },
    "tags": []
   },
   "source": [
    "### Clear()"
   ]
  },
  {
   "cell_type": "code",
   "execution_count": null,
   "id": "c7fb61b2",
   "metadata": {
    "execution": {
     "iopub.status.busy": "2021-09-13T18:37:32.464425Z",
     "iopub.status.idle": "2021-09-13T18:37:32.464817Z",
     "shell.execute_reply": "2021-09-13T18:37:32.464619Z",
     "shell.execute_reply.started": "2021-09-13T18:37:32.464601Z"
    },
    "papermill": {
     "duration": null,
     "end_time": null,
     "exception": null,
     "start_time": null,
     "status": "pending"
    },
    "tags": []
   },
   "outputs": [],
   "source": [
    "Dict = {1: \"Hello\", 2 : \"World\"} \n",
    "print(Dict)\n",
    "\n",
    "Dict.clear()\n",
    "\n",
    "#After Clear\n",
    "print(Dict)"
   ]
  },
  {
   "cell_type": "markdown",
   "id": "c0706c36",
   "metadata": {
    "papermill": {
     "duration": null,
     "end_time": null,
     "exception": null,
     "start_time": null,
     "status": "pending"
    },
    "tags": []
   },
   "source": [
    "# Dictionary Membership"
   ]
  },
  {
   "cell_type": "markdown",
   "id": "bd079022",
   "metadata": {
    "papermill": {
     "duration": null,
     "end_time": null,
     "exception": null,
     "start_time": null,
     "status": "pending"
    },
    "tags": []
   },
   "source": [
    "We can check if a key is in a dictionary or not using the keyword in. Notice that the membership test is only for the keys and not for the values."
   ]
  },
  {
   "cell_type": "code",
   "execution_count": null,
   "id": "c8f98471",
   "metadata": {
    "execution": {
     "iopub.execute_input": "2021-09-13T18:37:32.478586Z",
     "iopub.status.busy": "2021-09-13T18:37:32.478263Z",
     "iopub.status.idle": "2021-09-13T18:37:32.484507Z",
     "shell.execute_reply": "2021-09-13T18:37:32.483707Z",
     "shell.execute_reply.started": "2021-09-13T18:37:32.478555Z"
    },
    "papermill": {
     "duration": null,
     "end_time": null,
     "exception": null,
     "start_time": null,
     "status": "pending"
    },
    "tags": []
   },
   "outputs": [],
   "source": [
    "Dict = {1: \"Hello\", 4 : \"World\"} \n",
    "\n",
    "print(1 in Dict)\n",
    "\n",
    "print(2 not in Dict)"
   ]
  },
  {
   "cell_type": "code",
   "execution_count": null,
   "id": "a0dcfa26",
   "metadata": {
    "execution": {
     "iopub.execute_input": "2021-09-13T18:37:32.496127Z",
     "iopub.status.busy": "2021-09-13T18:37:32.494774Z",
     "iopub.status.idle": "2021-09-13T18:37:32.501497Z",
     "shell.execute_reply": "2021-09-13T18:37:32.500789Z",
     "shell.execute_reply.started": "2021-09-13T18:37:32.496074Z"
    },
    "papermill": {
     "duration": null,
     "end_time": null,
     "exception": null,
     "start_time": null,
     "status": "pending"
    },
    "tags": []
   },
   "outputs": [],
   "source": [
    "print(1 not in Dict)\n",
    "\n",
    "print(20 in Dict)"
   ]
  },
  {
   "cell_type": "markdown",
   "id": "4b7125e4",
   "metadata": {
    "papermill": {
     "duration": null,
     "end_time": null,
     "exception": null,
     "start_time": null,
     "status": "pending"
    },
    "tags": []
   },
   "source": [
    "# Iterating Through a Dictionary"
   ]
  },
  {
   "cell_type": "markdown",
   "id": "a43a6ee5",
   "metadata": {
    "papermill": {
     "duration": null,
     "end_time": null,
     "exception": null,
     "start_time": null,
     "status": "pending"
    },
    "tags": []
   },
   "source": [
    "We can iterate through each key in a dictionary using a for loop."
   ]
  },
  {
   "cell_type": "code",
   "execution_count": null,
   "id": "2c1ed3f1",
   "metadata": {
    "execution": {
     "iopub.execute_input": "2021-09-13T18:37:32.562798Z",
     "iopub.status.busy": "2021-09-13T18:37:32.562150Z",
     "iopub.status.idle": "2021-09-13T18:37:32.569372Z",
     "shell.execute_reply": "2021-09-13T18:37:32.568251Z",
     "shell.execute_reply.started": "2021-09-13T18:37:32.562759Z"
    },
    "papermill": {
     "duration": null,
     "end_time": null,
     "exception": null,
     "start_time": null,
     "status": "pending"
    },
    "tags": []
   },
   "outputs": [],
   "source": [
    "EmpDetails = {'Name': 'Elizabeth', 'Company': 'Google', 'Country': 'USA', 'Designation': 'Developer'}\n",
    "for i in EmpDetails:\n",
    "    print(EmpDetails[i])"
   ]
  },
  {
   "cell_type": "markdown",
   "id": "3c0bb667",
   "metadata": {
    "papermill": {
     "duration": null,
     "end_time": null,
     "exception": null,
     "start_time": null,
     "status": "pending"
    },
    "tags": []
   },
   "source": [
    "The above iteration using the index base. Now we will see some built-in function for iteration."
   ]
  },
  {
   "cell_type": "markdown",
   "id": "b6456b2f",
   "metadata": {
    "papermill": {
     "duration": null,
     "end_time": null,
     "exception": null,
     "start_time": null,
     "status": "pending"
    },
    "tags": []
   },
   "source": [
    "<b>item() method is used to return each Key-Value pair as a tuple</b>"
   ]
  },
  {
   "cell_type": "code",
   "execution_count": null,
   "id": "48d4f9ea",
   "metadata": {
    "execution": {
     "iopub.execute_input": "2021-09-13T18:37:32.614635Z",
     "iopub.status.busy": "2021-09-13T18:37:32.614315Z",
     "iopub.status.idle": "2021-09-13T18:37:32.622515Z",
     "shell.execute_reply": "2021-09-13T18:37:32.621346Z",
     "shell.execute_reply.started": "2021-09-13T18:37:32.614605Z"
    },
    "papermill": {
     "duration": null,
     "end_time": null,
     "exception": null,
     "start_time": null,
     "status": "pending"
    },
    "tags": []
   },
   "outputs": [],
   "source": [
    "EmpDetails = {'Name': 'Elizabeth', 'Company': 'Google', 'Country': 'USA', 'Designation': 'Developer'}\n",
    "\n",
    "for k, v in EmpDetails.items():\n",
    "    print(f'{k} : {v}')"
   ]
  },
  {
   "cell_type": "markdown",
   "id": "1e9bfee3",
   "metadata": {
    "papermill": {
     "duration": null,
     "end_time": null,
     "exception": null,
     "start_time": null,
     "status": "pending"
    },
    "tags": []
   },
   "source": [
    "<b>Similarly Keys and values can used to iterate only a dictionary's key or value respectively</b>"
   ]
  },
  {
   "cell_type": "code",
   "execution_count": null,
   "id": "23c593e9",
   "metadata": {
    "execution": {
     "iopub.execute_input": "2021-09-13T18:37:32.645348Z",
     "iopub.status.busy": "2021-09-13T18:37:32.644203Z",
     "iopub.status.idle": "2021-09-13T18:37:32.651472Z",
     "shell.execute_reply": "2021-09-13T18:37:32.650504Z",
     "shell.execute_reply.started": "2021-09-13T18:37:32.645287Z"
    },
    "papermill": {
     "duration": null,
     "end_time": null,
     "exception": null,
     "start_time": null,
     "status": "pending"
    },
    "tags": []
   },
   "outputs": [],
   "source": [
    "for k in EmpDetails.keys():\n",
    "    print(f'{k}')"
   ]
  },
  {
   "cell_type": "code",
   "execution_count": null,
   "id": "9c6d9baf",
   "metadata": {
    "execution": {
     "iopub.execute_input": "2021-09-13T18:37:32.663619Z",
     "iopub.status.busy": "2021-09-13T18:37:32.663289Z",
     "iopub.status.idle": "2021-09-13T18:37:32.668648Z",
     "shell.execute_reply": "2021-09-13T18:37:32.667976Z",
     "shell.execute_reply.started": "2021-09-13T18:37:32.663585Z"
    },
    "papermill": {
     "duration": null,
     "end_time": null,
     "exception": null,
     "start_time": null,
     "status": "pending"
    },
    "tags": []
   },
   "outputs": [],
   "source": [
    "for v in EmpDetails.values():\n",
    "    print(f'{v}')"
   ]
  },
  {
   "cell_type": "markdown",
   "id": "19aaa650",
   "metadata": {
    "papermill": {
     "duration": null,
     "end_time": null,
     "exception": null,
     "start_time": null,
     "status": "pending"
    },
    "tags": []
   },
   "source": [
    "# Dictionary Methods"
   ]
  },
  {
   "cell_type": "markdown",
   "id": "312c338f",
   "metadata": {
    "papermill": {
     "duration": null,
     "end_time": null,
     "exception": null,
     "start_time": null,
     "status": "pending"
    },
    "tags": []
   },
   "source": [
    "### Copy Method"
   ]
  },
  {
   "cell_type": "markdown",
   "id": "ee8ce48c",
   "metadata": {
    "papermill": {
     "duration": null,
     "end_time": null,
     "exception": null,
     "start_time": null,
     "status": "pending"
    },
    "tags": []
   },
   "source": [
    "It return a shallow copy of the dictionary."
   ]
  },
  {
   "cell_type": "code",
   "execution_count": null,
   "id": "3709e238",
   "metadata": {
    "execution": {
     "iopub.execute_input": "2021-09-13T18:37:32.721585Z",
     "iopub.status.busy": "2021-09-13T18:37:32.720914Z",
     "iopub.status.idle": "2021-09-13T18:37:32.727140Z",
     "shell.execute_reply": "2021-09-13T18:37:32.726235Z",
     "shell.execute_reply.started": "2021-09-13T18:37:32.721546Z"
    },
    "papermill": {
     "duration": null,
     "end_time": null,
     "exception": null,
     "start_time": null,
     "status": "pending"
    },
    "tags": []
   },
   "outputs": [],
   "source": [
    "D1 = {1: \"Hello\", 2 : \"World\"} \n",
    "\n",
    "D2 = D1.copy()\n",
    "\n",
    "print(D2)"
   ]
  },
  {
   "cell_type": "markdown",
   "id": "80925b30",
   "metadata": {
    "papermill": {
     "duration": null,
     "end_time": null,
     "exception": null,
     "start_time": null,
     "status": "pending"
    },
    "tags": []
   },
   "source": [
    "### Len() Method"
   ]
  },
  {
   "cell_type": "markdown",
   "id": "4450b962",
   "metadata": {
    "papermill": {
     "duration": null,
     "end_time": null,
     "exception": null,
     "start_time": null,
     "status": "pending"
    },
    "tags": []
   },
   "source": [
    "This function the count of key enties of the dictionary elements."
   ]
  },
  {
   "cell_type": "code",
   "execution_count": null,
   "id": "a9a518dd",
   "metadata": {
    "execution": {
     "iopub.execute_input": "2021-09-13T18:37:32.755366Z",
     "iopub.status.busy": "2021-09-13T18:37:32.755008Z",
     "iopub.status.idle": "2021-09-13T18:37:32.760301Z",
     "shell.execute_reply": "2021-09-13T18:37:32.759734Z",
     "shell.execute_reply.started": "2021-09-13T18:37:32.755331Z"
    },
    "papermill": {
     "duration": null,
     "end_time": null,
     "exception": null,
     "start_time": null,
     "status": "pending"
    },
    "tags": []
   },
   "outputs": [],
   "source": [
    "D1 = {1: \"Hello\", 2 : \"World\"} \n",
    "\n",
    "print(len(D1))"
   ]
  },
  {
   "cell_type": "markdown",
   "id": "d9acb786",
   "metadata": {
    "papermill": {
     "duration": null,
     "end_time": null,
     "exception": null,
     "start_time": null,
     "status": "pending"
    },
    "tags": []
   },
   "source": [
    "### fromkeys"
   ]
  },
  {
   "cell_type": "markdown",
   "id": "d61e5267",
   "metadata": {
    "papermill": {
     "duration": null,
     "end_time": null,
     "exception": null,
     "start_time": null,
     "status": "pending"
    },
    "tags": []
   },
   "source": [
    "It return a new dictionary with keys from sequence and value"
   ]
  },
  {
   "cell_type": "code",
   "execution_count": null,
   "id": "c1a8a665",
   "metadata": {
    "execution": {
     "iopub.execute_input": "2021-09-13T18:37:32.803460Z",
     "iopub.status.busy": "2021-09-13T18:37:32.802538Z",
     "iopub.status.idle": "2021-09-13T18:37:32.808323Z",
     "shell.execute_reply": "2021-09-13T18:37:32.807265Z",
     "shell.execute_reply.started": "2021-09-13T18:37:32.803414Z"
    },
    "papermill": {
     "duration": null,
     "end_time": null,
     "exception": null,
     "start_time": null,
     "status": "pending"
    },
    "tags": []
   },
   "outputs": [],
   "source": [
    "Drinks = {}.fromkeys(['Tea', 'Coffee', 'Cappuccino'], 30)"
   ]
  },
  {
   "cell_type": "code",
   "execution_count": null,
   "id": "80075b03",
   "metadata": {
    "execution": {
     "iopub.execute_input": "2021-09-13T18:37:32.823076Z",
     "iopub.status.busy": "2021-09-13T18:37:32.822679Z",
     "iopub.status.idle": "2021-09-13T18:37:32.829355Z",
     "shell.execute_reply": "2021-09-13T18:37:32.828116Z",
     "shell.execute_reply.started": "2021-09-13T18:37:32.823041Z"
    },
    "papermill": {
     "duration": null,
     "end_time": null,
     "exception": null,
     "start_time": null,
     "status": "pending"
    },
    "tags": []
   },
   "outputs": [],
   "source": [
    "print(Drinks)"
   ]
  },
  {
   "cell_type": "markdown",
   "id": "20d07aed",
   "metadata": {
    "papermill": {
     "duration": null,
     "end_time": null,
     "exception": null,
     "start_time": null,
     "status": "pending"
    },
    "tags": []
   },
   "source": [
    "# Dictionary Comprehension"
   ]
  },
  {
   "cell_type": "markdown",
   "id": "34cc819c",
   "metadata": {
    "papermill": {
     "duration": null,
     "end_time": null,
     "exception": null,
     "start_time": null,
     "status": "pending"
    },
    "tags": []
   },
   "source": [
    "Dictionary comprehesions are just like list comprehensions <br/>\n",
    "Dictionary comprehension is an elegant and concise way to create dictionaries.<br/>\n",
    "\n",
    "<b>Advantages</b><br/>\n",
    "Using dictionary comprehension in our code can shorten the lines of code while keeping the logic intact.<br/>\n",
    "<b>Disadvantages</b><br/>\n",
    "It can sometimes make the code run slower and consume more memory.<br/>\n",
    "It can also decrease the readability of the code."
   ]
  },
  {
   "cell_type": "markdown",
   "id": "cd28513d",
   "metadata": {
    "papermill": {
     "duration": null,
     "end_time": null,
     "exception": null,
     "start_time": null,
     "status": "pending"
    },
    "tags": []
   },
   "source": [
    "<b>Question -</b> Create a dictionary for cube of number to 10"
   ]
  },
  {
   "cell_type": "code",
   "execution_count": null,
   "id": "b1e9de6a",
   "metadata": {
    "execution": {
     "iopub.execute_input": "2021-09-13T18:37:32.888853Z",
     "iopub.status.busy": "2021-09-13T18:37:32.888114Z",
     "iopub.status.idle": "2021-09-13T18:37:32.894522Z",
     "shell.execute_reply": "2021-09-13T18:37:32.893446Z",
     "shell.execute_reply.started": "2021-09-13T18:37:32.888809Z"
    },
    "papermill": {
     "duration": null,
     "end_time": null,
     "exception": null,
     "start_time": null,
     "status": "pending"
    },
    "scrolled": true,
    "tags": []
   },
   "outputs": [],
   "source": [
    "cube_dict = dict()\n",
    "for num in range(1, 11):\n",
    "    cube_dict[num] = num*num*num\n",
    "print(cube_dict)"
   ]
  },
  {
   "cell_type": "markdown",
   "id": "c9a0f0af",
   "metadata": {
    "papermill": {
     "duration": null,
     "end_time": null,
     "exception": null,
     "start_time": null,
     "status": "pending"
    },
    "tags": []
   },
   "source": [
    "The above code is normal process now we will write it by dictionary comprehension."
   ]
  },
  {
   "cell_type": "code",
   "execution_count": null,
   "id": "71a9740f",
   "metadata": {
    "execution": {
     "iopub.execute_input": "2021-09-13T18:37:32.961238Z",
     "iopub.status.busy": "2021-09-13T18:37:32.960927Z",
     "iopub.status.idle": "2021-09-13T18:37:32.967068Z",
     "shell.execute_reply": "2021-09-13T18:37:32.966213Z",
     "shell.execute_reply.started": "2021-09-13T18:37:32.961209Z"
    },
    "papermill": {
     "duration": null,
     "end_time": null,
     "exception": null,
     "start_time": null,
     "status": "pending"
    },
    "tags": []
   },
   "outputs": [],
   "source": [
    "cube_dict = {num: num*num*num for num in range(1, 11)}\n",
    "print(cube_dict)"
   ]
  },
  {
   "cell_type": "markdown",
   "id": "e0cdfb6d",
   "metadata": {
    "papermill": {
     "duration": null,
     "end_time": null,
     "exception": null,
     "start_time": null,
     "status": "pending"
    },
    "tags": []
   },
   "source": [
    "Using dictionary comprehension allowed us to create a dictionary in a single line.<br/>\n",
    "We can see that dictionary comprehension should be written in a specific pattern.<br/>\n",
    "The minimal syntax for dictionary comprehension is:\n",
    "\n",
    "<b>dictionary = {key: value for vars in iterable}</b>"
   ]
  },
  {
   "cell_type": "markdown",
   "id": "6809dcff",
   "metadata": {
    "papermill": {
     "duration": null,
     "end_time": null,
     "exception": null,
     "start_time": null,
     "status": "pending"
    },
    "tags": []
   },
   "source": [
    "<b>Question - </b>Create a new dictionary with only pairs where the key is larger than 100"
   ]
  },
  {
   "cell_type": "code",
   "execution_count": null,
   "id": "93e1cd2c",
   "metadata": {
    "execution": {
     "iopub.execute_input": "2021-09-13T18:37:32.987045Z",
     "iopub.status.busy": "2021-09-13T18:37:32.986751Z",
     "iopub.status.idle": "2021-09-13T18:37:32.993448Z",
     "shell.execute_reply": "2021-09-13T18:37:32.992279Z",
     "shell.execute_reply.started": "2021-09-13T18:37:32.987018Z"
    },
    "papermill": {
     "duration": null,
     "end_time": null,
     "exception": null,
     "start_time": null,
     "status": "pending"
    },
    "tags": []
   },
   "outputs": [],
   "source": [
    "d = {104: \"Naresh\", 89 : \"Rio\", 432: \"Vikash\", 23 : \"Ethan\"}\n",
    "\n",
    "new_dict = {k:v for k,v in d.items() if k >100}\n",
    "print(new_dict)"
   ]
  },
  {
   "cell_type": "markdown",
   "id": "964e21e0",
   "metadata": {
    "papermill": {
     "duration": null,
     "end_time": null,
     "exception": null,
     "start_time": null,
     "status": "pending"
    },
    "tags": []
   },
   "source": [
    "Example"
   ]
  },
  {
   "cell_type": "code",
   "execution_count": null,
   "id": "c16d2464",
   "metadata": {
    "execution": {
     "iopub.execute_input": "2021-09-13T18:37:33.008483Z",
     "iopub.status.busy": "2021-09-13T18:37:33.007498Z",
     "iopub.status.idle": "2021-09-13T18:37:33.014860Z",
     "shell.execute_reply": "2021-09-13T18:37:33.013790Z",
     "shell.execute_reply.started": "2021-09-13T18:37:33.008436Z"
    },
    "papermill": {
     "duration": null,
     "end_time": null,
     "exception": null,
     "start_time": null,
     "status": "pending"
    },
    "tags": []
   },
   "outputs": [],
   "source": [
    "dictionary = dict()\n",
    "for k1 in range(20, 23):\n",
    "    dictionary[k1] = {k2: k1*k2 for k2 in range(1, 3)}\n",
    "print(dictionary)"
   ]
  },
  {
   "cell_type": "code",
   "execution_count": null,
   "id": "0a887853",
   "metadata": {
    "papermill": {
     "duration": null,
     "end_time": null,
     "exception": null,
     "start_time": null,
     "status": "pending"
    },
    "tags": []
   },
   "outputs": [],
   "source": []
  }
 ],
 "metadata": {
  "kernelspec": {
   "display_name": "Python 3",
   "language": "python",
   "name": "python3"
  },
  "language_info": {
   "codemirror_mode": {
    "name": "ipython",
    "version": 3
   },
   "file_extension": ".py",
   "mimetype": "text/x-python",
   "name": "python",
   "nbconvert_exporter": "python",
   "pygments_lexer": "ipython3",
   "version": "3.7.10"
  },
  "papermill": {
   "default_parameters": {},
   "duration": 11.789273,
   "end_time": "2021-09-13T18:38:08.977015",
   "environment_variables": {},
   "exception": true,
   "input_path": "__notebook__.ipynb",
   "output_path": "__notebook__.ipynb",
   "parameters": {},
   "start_time": "2021-09-13T18:37:57.187742",
   "version": "2.3.3"
  }
 },
 "nbformat": 4,
 "nbformat_minor": 5
}
