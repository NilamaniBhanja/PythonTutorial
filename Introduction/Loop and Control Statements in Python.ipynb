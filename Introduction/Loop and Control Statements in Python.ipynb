{
 "cells": [
  {
   "cell_type": "markdown",
   "id": "1fd9bf86",
   "metadata": {},
   "source": [
    "# Loop and Control Statements in Python"
   ]
  },
  {
   "cell_type": "markdown",
   "id": "3c5f2584",
   "metadata": {},
   "source": [
    "# If Else Control Statements"
   ]
  },
  {
   "cell_type": "code",
   "execution_count": 1,
   "id": "bc486b7f",
   "metadata": {},
   "outputs": [
    {
     "name": "stdout",
     "output_type": "stream",
     "text": [
      "x is greater than y\n",
      "x is greater than y\n",
      "x is greater than y\n"
     ]
    }
   ],
   "source": [
    "# if statement\n",
    "x = 23\n",
    "y = 17\n",
    "if x > y:\n",
    "  print(\"x is greater than y\")\n",
    "\n",
    "# if-else statement\n",
    "if y > x:\n",
    "  print(\"y is greater than x\")\n",
    "else:\n",
    "  print(\"x is greater than y\")\n",
    "\n",
    "# if-elif-else statement\n",
    "if y > x:\n",
    "  print(\"x is less than y\")\n",
    "elif y > x:\n",
    "  print(\"y is equal to x\")\n",
    "else:\n",
    "  print(\"x is greater than y\")\n"
   ]
  },
  {
   "cell_type": "markdown",
   "id": "2bd437ac",
   "metadata": {},
   "source": [
    "# Ternary Operators"
   ]
  },
  {
   "cell_type": "code",
   "execution_count": 2,
   "id": "06f5e104",
   "metadata": {},
   "outputs": [
    {
     "name": "stdout",
     "output_type": "stream",
     "text": [
      "-1\n",
      "1\n"
     ]
    }
   ],
   "source": [
    "a = 10\n",
    "b = 20\n",
    "\n",
    "print(1) if a > b else print(-1) \n",
    "\n",
    "b = 8\n",
    "print(1) if a > b else print(-1) if a < b else print(0)"
   ]
  },
  {
   "cell_type": "markdown",
   "id": "dff9f37f",
   "metadata": {},
   "source": [
    "# For Loop Statement"
   ]
  },
  {
   "cell_type": "code",
   "execution_count": 3,
   "id": "45b12351",
   "metadata": {},
   "outputs": [
    {
     "name": "stdout",
     "output_type": "stream",
     "text": [
      "H\n",
      "e\n",
      "l\n",
      "l\n",
      "o\n",
      "Hello\n",
      "World\n"
     ]
    }
   ],
   "source": [
    "# Loop statement over a String\n",
    "s = \"Hello\"\n",
    "for i in s :\n",
    "    print(i)\n",
    "# Loop statement over a List\n",
    "list = [\"Hello\", \"World\"]\n",
    "for i in list:\n",
    "    print(i)"
   ]
  },
  {
   "cell_type": "markdown",
   "id": "9f94431f",
   "metadata": {},
   "source": [
    "# While Loop Statement\n"
   ]
  },
  {
   "cell_type": "code",
   "execution_count": 4,
   "id": "d111a4b1",
   "metadata": {},
   "outputs": [
    {
     "name": "stdout",
     "output_type": "stream",
     "text": [
      "1\n",
      "2\n",
      "3\n",
      "4\n",
      "5\n"
     ]
    }
   ],
   "source": [
    "i = 1\n",
    "while i <= 5:\n",
    "    print(i)\n",
    "    i += 1"
   ]
  },
  {
   "cell_type": "markdown",
   "id": "b2db3868",
   "metadata": {},
   "source": [
    "# Break Satement in Python"
   ]
  },
  {
   "cell_type": "code",
   "execution_count": 5,
   "id": "947e62f0",
   "metadata": {},
   "outputs": [
    {
     "name": "stdout",
     "output_type": "stream",
     "text": [
      "1\n",
      "2\n",
      "3\n"
     ]
    }
   ],
   "source": [
    "i = 1\n",
    "while i <= 5:\n",
    "    if i == 4:\n",
    "        break\n",
    "    print(i)\n",
    "    i += 1"
   ]
  },
  {
   "cell_type": "markdown",
   "id": "d0980a95",
   "metadata": {},
   "source": [
    "# Continue in Python"
   ]
  },
  {
   "cell_type": "code",
   "execution_count": 6,
   "id": "660474f9",
   "metadata": {},
   "outputs": [
    {
     "name": "stdout",
     "output_type": "stream",
     "text": [
      "2\n",
      "3\n",
      "5\n",
      "6\n"
     ]
    }
   ],
   "source": [
    "i = 1\n",
    "while i <= 5:\n",
    "    i += 1\n",
    "    if i == 4:\n",
    "        continue \n",
    "    print(i)"
   ]
  },
  {
   "cell_type": "raw",
   "id": "09074b02",
   "metadata": {},
   "source": [
    "Write a Python program to check the validity of a password (input from users).\n",
    "\n",
    "Validation :\n",
    "\n",
    "At least 1 letter between [a-z] and 1 letter between [A-Z].\n",
    "At least 1 number between [0-9].\n",
    "At least 1 character from [$#@].\n",
    "Minimum length 6 characters.\n",
    "Maximum length 16 characters."
   ]
  },
  {
   "cell_type": "code",
   "execution_count": 7,
   "id": "e5f56005",
   "metadata": {},
   "outputs": [
    {
     "name": "stdout",
     "output_type": "stream",
     "text": [
      "Input your passwordTest@dsd\n",
      "Not a Valid Password\n"
     ]
    }
   ],
   "source": [
    "import re\n",
    "p= input(\"Input your password\")\n",
    "x = True\n",
    "while x:  \n",
    "    if (len(p)<6 or len(p)>12):\n",
    "        break\n",
    "    elif not re.search(\"[a-z]\",p):\n",
    "        break\n",
    "    elif not re.search(\"[0-9]\",p):\n",
    "        break\n",
    "    elif not re.search(\"[A-Z]\",p):\n",
    "        break\n",
    "    elif not re.search(\"[$#@]\",p):\n",
    "        break\n",
    "    elif re.search(\"\\s\",p):\n",
    "        break\n",
    "    else:\n",
    "        print(\"Valid Password\")\n",
    "        x=False\n",
    "        break\n",
    "\n",
    "if x:\n",
    "    print(\"Not a Valid Password\")\n"
   ]
  },
  {
   "cell_type": "code",
   "execution_count": null,
   "id": "cfa807e4",
   "metadata": {},
   "outputs": [],
   "source": []
  }
 ],
 "metadata": {
  "kernelspec": {
   "display_name": "Python 3",
   "language": "python",
   "name": "python3"
  },
  "language_info": {
   "codemirror_mode": {
    "name": "ipython",
    "version": 3
   },
   "file_extension": ".py",
   "mimetype": "text/x-python",
   "name": "python",
   "nbconvert_exporter": "python",
   "pygments_lexer": "ipython3",
   "version": "3.8.8"
  }
 },
 "nbformat": 4,
 "nbformat_minor": 5
}
