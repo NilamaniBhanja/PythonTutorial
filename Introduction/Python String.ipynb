{
 "cells": [
  {
   "cell_type": "code",
   "execution_count": 1,
   "id": "44591f6d",
   "metadata": {},
   "outputs": [],
   "source": [
    "string1 = 'Hello world'"
   ]
  },
  {
   "cell_type": "code",
   "execution_count": 2,
   "id": "ed8a8c47",
   "metadata": {},
   "outputs": [
    {
     "name": "stdout",
     "output_type": "stream",
     "text": [
      "Hello world\n"
     ]
    }
   ],
   "source": [
    "print(string1)"
   ]
  },
  {
   "cell_type": "code",
   "execution_count": 3,
   "id": "b6776952",
   "metadata": {},
   "outputs": [],
   "source": [
    "string2 = \"I'm a Software Engineer\""
   ]
  },
  {
   "cell_type": "code",
   "execution_count": 4,
   "id": "cc0c3bc3",
   "metadata": {},
   "outputs": [
    {
     "name": "stdout",
     "output_type": "stream",
     "text": [
      "I'm a Software Engineer\n"
     ]
    }
   ],
   "source": [
    "print(string2)"
   ]
  },
  {
   "cell_type": "code",
   "execution_count": 5,
   "id": "aea573db",
   "metadata": {},
   "outputs": [],
   "source": [
    "string3 = '''Live\n",
    "For\n",
    "        Live '''"
   ]
  },
  {
   "cell_type": "code",
   "execution_count": 6,
   "id": "1c860289",
   "metadata": {},
   "outputs": [
    {
     "name": "stdout",
     "output_type": "stream",
     "text": [
      "Live\n",
      "For\n",
      "        Live \n"
     ]
    }
   ],
   "source": [
    "print(string3)"
   ]
  },
  {
   "cell_type": "code",
   "execution_count": 7,
   "id": "9ca779ca",
   "metadata": {},
   "outputs": [
    {
     "data": {
      "text/plain": [
       "'ello World'"
      ]
     },
     "execution_count": 7,
     "metadata": {},
     "output_type": "execute_result"
    }
   ],
   "source": [
    "S = \"Hello World\"\n",
    "S[1:]"
   ]
  },
  {
   "cell_type": "code",
   "execution_count": 8,
   "id": "d7d6c98b",
   "metadata": {},
   "outputs": [
    {
     "ename": "TypeError",
     "evalue": "'str' object does not support item assignment",
     "output_type": "error",
     "traceback": [
      "\u001b[1;31m---------------------------------------------------------------------------\u001b[0m",
      "\u001b[1;31mTypeError\u001b[0m                                 Traceback (most recent call last)",
      "\u001b[1;32m<ipython-input-8-16e4b8d44d5b>\u001b[0m in \u001b[0;36m<module>\u001b[1;34m\u001b[0m\n\u001b[0;32m      1\u001b[0m \u001b[0mS\u001b[0m \u001b[1;33m=\u001b[0m \u001b[1;34m\"Hello World\"\u001b[0m\u001b[1;33m\u001b[0m\u001b[1;33m\u001b[0m\u001b[0m\n\u001b[1;32m----> 2\u001b[1;33m \u001b[0mS\u001b[0m\u001b[1;33m[\u001b[0m\u001b[1;36m2\u001b[0m\u001b[1;33m]\u001b[0m \u001b[1;33m=\u001b[0m \u001b[1;34m\"N\"\u001b[0m\u001b[1;33m\u001b[0m\u001b[1;33m\u001b[0m\u001b[0m\n\u001b[0m",
      "\u001b[1;31mTypeError\u001b[0m: 'str' object does not support item assignment"
     ]
    }
   ],
   "source": [
    "S = \"Hello World\"\n",
    "S[2] = \"N\""
   ]
  },
  {
   "cell_type": "code",
   "execution_count": 9,
   "id": "23671d88",
   "metadata": {},
   "outputs": [],
   "source": [
    "S = \"Welcome to India\""
   ]
  },
  {
   "cell_type": "code",
   "execution_count": 10,
   "id": "cb717d44",
   "metadata": {},
   "outputs": [
    {
     "ename": "TypeError",
     "evalue": "'str' object doesn't support item deletion",
     "output_type": "error",
     "traceback": [
      "\u001b[1;31m---------------------------------------------------------------------------\u001b[0m",
      "\u001b[1;31mTypeError\u001b[0m                                 Traceback (most recent call last)",
      "\u001b[1;32m<ipython-input-10-d52ba5cd525b>\u001b[0m in \u001b[0;36m<module>\u001b[1;34m\u001b[0m\n\u001b[1;32m----> 1\u001b[1;33m \u001b[1;32mdel\u001b[0m \u001b[0mS\u001b[0m\u001b[1;33m[\u001b[0m\u001b[1;36m3\u001b[0m\u001b[1;33m]\u001b[0m\u001b[1;33m\u001b[0m\u001b[1;33m\u001b[0m\u001b[0m\n\u001b[0m",
      "\u001b[1;31mTypeError\u001b[0m: 'str' object doesn't support item deletion"
     ]
    }
   ],
   "source": [
    "del S[3]"
   ]
  },
  {
   "cell_type": "code",
   "execution_count": 11,
   "id": "b8ce13b5",
   "metadata": {},
   "outputs": [],
   "source": [
    "del S"
   ]
  },
  {
   "cell_type": "code",
   "execution_count": 12,
   "id": "ddda406c",
   "metadata": {},
   "outputs": [
    {
     "ename": "NameError",
     "evalue": "name 'S' is not defined",
     "output_type": "error",
     "traceback": [
      "\u001b[1;31m---------------------------------------------------------------------------\u001b[0m",
      "\u001b[1;31mNameError\u001b[0m                                 Traceback (most recent call last)",
      "\u001b[1;32m<ipython-input-12-df23348f6d3c>\u001b[0m in \u001b[0;36m<module>\u001b[1;34m\u001b[0m\n\u001b[1;32m----> 1\u001b[1;33m \u001b[0mS\u001b[0m\u001b[1;33m\u001b[0m\u001b[1;33m\u001b[0m\u001b[0m\n\u001b[0m",
      "\u001b[1;31mNameError\u001b[0m: name 'S' is not defined"
     ]
    }
   ],
   "source": [
    "S"
   ]
  },
  {
   "cell_type": "code",
   "execution_count": 13,
   "id": "c07eca27",
   "metadata": {},
   "outputs": [],
   "source": [
    "string1 = '''I'm from \"India\" '''\n",
    "string2 = 'I\\'m from \\\"India\\\"'"
   ]
  },
  {
   "cell_type": "code",
   "execution_count": 14,
   "id": "6c91122e",
   "metadata": {},
   "outputs": [
    {
     "name": "stdout",
     "output_type": "stream",
     "text": [
      "I'm from \"India\" \n",
      "I'm from \"India\"\n"
     ]
    }
   ],
   "source": [
    "print(string1)\n",
    "print(string2)"
   ]
  },
  {
   "cell_type": "code",
   "execution_count": 15,
   "id": "05f4cb72",
   "metadata": {},
   "outputs": [
    {
     "name": "stdout",
     "output_type": "stream",
     "text": [
      "Welcome to Python\n"
     ]
    }
   ],
   "source": [
    "print('Welcome to \\\n",
    "Python')\n"
   ]
  },
  {
   "cell_type": "code",
   "execution_count": 16,
   "id": "834fa90f",
   "metadata": {},
   "outputs": [
    {
     "name": "stdout",
     "output_type": "stream",
     "text": [
      "Sum is: 15\n"
     ]
    }
   ],
   "source": [
    "print('Sum is:', 9+6)\n"
   ]
  },
  {
   "cell_type": "code",
   "execution_count": 17,
   "id": "2c24c9be",
   "metadata": {},
   "outputs": [
    {
     "name": "stdout",
     "output_type": "stream",
     "text": [
      "ZZZZZ\n"
     ]
    }
   ],
   "source": [
    "letter ='Z'\n",
    "print(letter * 5)"
   ]
  },
  {
   "cell_type": "code",
   "execution_count": 18,
   "id": "8f7d309a",
   "metadata": {},
   "outputs": [],
   "source": [
    "string1 = 'Hello world '\n",
    "string1 = string1 + 'concatenate me'"
   ]
  },
  {
   "cell_type": "code",
   "execution_count": 19,
   "id": "8fd0a6fa",
   "metadata": {},
   "outputs": [
    {
     "name": "stdout",
     "output_type": "stream",
     "text": [
      "Hello world concatenate me\n"
     ]
    }
   ],
   "source": [
    "print(string1)"
   ]
  }
 ],
 "metadata": {
  "kernelspec": {
   "display_name": "Python 3",
   "language": "python",
   "name": "python3"
  },
  "language_info": {
   "codemirror_mode": {
    "name": "ipython",
    "version": 3
   },
   "file_extension": ".py",
   "mimetype": "text/x-python",
   "name": "python",
   "nbconvert_exporter": "python",
   "pygments_lexer": "ipython3",
   "version": "3.8.8"
  }
 },
 "nbformat": 4,
 "nbformat_minor": 5
}
