{
 "cells": [
  {
   "cell_type": "markdown",
   "id": "0c974f05",
   "metadata": {
    "papermill": {
     "duration": 0.034413,
     "end_time": "2021-09-13T14:23:39.043553",
     "exception": false,
     "start_time": "2021-09-13T14:23:39.009140",
     "status": "completed"
    },
    "tags": []
   },
   "source": [
    "# Tuple in Python"
   ]
  },
  {
   "cell_type": "markdown",
   "id": "9c111123",
   "metadata": {
    "papermill": {
     "duration": 0.03118,
     "end_time": "2021-09-13T14:23:39.110413",
     "exception": false,
     "start_time": "2021-09-13T14:23:39.079233",
     "status": "completed"
    },
    "tags": []
   },
   "source": [
    "Tuple in python is very similar to lists, however, unlike lists, tuples are immutable means they can not be changed. You would use a tuple to present things that should not be changed. Tuples are a data structure that stores an ordered sequence of values. Tuples are defined with parenthesis.\n",
    "\n",
    "Constructing or Creating Tuple in Python\n",
    "The construction of a tuple use() with elements separated by commas."
   ]
  },
  {
   "cell_type": "markdown",
   "id": "83b4e80c",
   "metadata": {
    "papermill": {
     "duration": 0.033132,
     "end_time": "2021-09-13T14:23:39.176731",
     "exception": false,
     "start_time": "2021-09-13T14:23:39.143599",
     "status": "completed"
    },
    "tags": []
   },
   "source": [
    "# Constructing / Create Tuple in Python"
   ]
  },
  {
   "cell_type": "markdown",
   "id": "10c471ba",
   "metadata": {
    "papermill": {
     "duration": 0.033376,
     "end_time": "2021-09-13T14:23:39.242874",
     "exception": false,
     "start_time": "2021-09-13T14:23:39.209498",
     "status": "completed"
    },
    "tags": []
   },
   "source": [
    "The construction of a tuples use () with elements separated by commas."
   ]
  },
  {
   "cell_type": "code",
   "execution_count": 1,
   "id": "7d914074",
   "metadata": {
    "execution": {
     "iopub.execute_input": "2021-09-13T14:23:39.310926Z",
     "iopub.status.busy": "2021-09-13T14:23:39.309826Z",
     "iopub.status.idle": "2021-09-13T14:23:39.321706Z",
     "shell.execute_reply": "2021-09-13T14:23:39.322213Z"
    },
    "papermill": {
     "duration": 0.047422,
     "end_time": "2021-09-13T14:23:39.322534",
     "exception": false,
     "start_time": "2021-09-13T14:23:39.275112",
     "status": "completed"
    },
    "tags": []
   },
   "outputs": [
    {
     "name": "stdout",
     "output_type": "stream",
     "text": [
      "()\n",
      "(1, 20, 30, 40)\n",
      "('Hello', 'World')\n",
      "(10, 20, 'Hello', 'World')\n",
      "((1, 20, 30, 40), ('Hello', 'World'))\n"
     ]
    }
   ],
   "source": [
    "# Empty Tuples\n",
    "t1 = ()\n",
    "print(t1)\n",
    "\n",
    "# Tuple with integers element\n",
    "t2 = (1, 20, 30, 40)\n",
    "print(t2)\n",
    "\n",
    "# Tuple with string element\n",
    "t3 = ('Hello', 'World')\n",
    "print(t3)\n",
    "\n",
    "# Tuple with mixed element\n",
    "t4 = (10, 20, 'Hello', 'World')\n",
    "print(t4)\n",
    "\n",
    "#Nested Tuples\n",
    "T = (t2, t3)  \n",
    "print(T)\n"
   ]
  },
  {
   "cell_type": "markdown",
   "id": "26e2b35a",
   "metadata": {
    "papermill": {
     "duration": 0.031097,
     "end_time": "2021-09-13T14:23:39.386861",
     "exception": false,
     "start_time": "2021-09-13T14:23:39.355764",
     "status": "completed"
    },
    "tags": []
   },
   "source": [
    "# Check type in Tuple"
   ]
  },
  {
   "cell_type": "code",
   "execution_count": 2,
   "id": "3ec8fbb1",
   "metadata": {
    "execution": {
     "iopub.execute_input": "2021-09-13T14:23:39.454364Z",
     "iopub.status.busy": "2021-09-13T14:23:39.453385Z",
     "iopub.status.idle": "2021-09-13T14:23:39.460856Z",
     "shell.execute_reply": "2021-09-13T14:23:39.460073Z"
    },
    "papermill": {
     "duration": 0.042643,
     "end_time": "2021-09-13T14:23:39.461040",
     "exception": false,
     "start_time": "2021-09-13T14:23:39.418397",
     "status": "completed"
    },
    "tags": []
   },
   "outputs": [
    {
     "name": "stdout",
     "output_type": "stream",
     "text": [
      "<class 'tuple'>\n",
      "<class 'int'>\n",
      "<class 'tuple'>\n"
     ]
    }
   ],
   "source": [
    "# Tuple with more than one element\n",
    "t1 = (10, 20)\n",
    "print(type(t1))\n",
    "\n",
    "\n",
    "# Tuple with single element\n",
    "t2 = (10)\n",
    "print(type(t2))\n",
    "\n",
    "# the above declaration will consider as integer but you need to follow the below code to create single element tuple in python\n",
    "t3 = (10, )\n",
    "print(type(t3))\n"
   ]
  },
  {
   "cell_type": "markdown",
   "id": "fe2727b8",
   "metadata": {
    "papermill": {
     "duration": 0.033875,
     "end_time": "2021-09-13T14:23:39.527974",
     "exception": false,
     "start_time": "2021-09-13T14:23:39.494099",
     "status": "completed"
    },
    "tags": []
   },
   "source": [
    "# Convert to Tuple"
   ]
  },
  {
   "cell_type": "markdown",
   "id": "f9548011",
   "metadata": {
    "papermill": {
     "duration": 0.032618,
     "end_time": "2021-09-13T14:23:39.595696",
     "exception": false,
     "start_time": "2021-09-13T14:23:39.563078",
     "status": "completed"
    },
    "tags": []
   },
   "source": [
    "tuple method is used to convert into a tuple. This method accepts other type values as an argument and returns a tuple type value."
   ]
  },
  {
   "cell_type": "code",
   "execution_count": 3,
   "id": "13071374",
   "metadata": {
    "execution": {
     "iopub.execute_input": "2021-09-13T14:23:39.670202Z",
     "iopub.status.busy": "2021-09-13T14:23:39.669318Z",
     "iopub.status.idle": "2021-09-13T14:23:39.672603Z",
     "shell.execute_reply": "2021-09-13T14:23:39.673059Z"
    },
    "papermill": {
     "duration": 0.042854,
     "end_time": "2021-09-13T14:23:39.673234",
     "exception": false,
     "start_time": "2021-09-13T14:23:39.630380",
     "status": "completed"
    },
    "tags": []
   },
   "outputs": [
    {
     "name": "stdout",
     "output_type": "stream",
     "text": [
      "(10, 20, 30)\n"
     ]
    }
   ],
   "source": [
    "Lst = [10, 20, 30]\n",
    "T = tuple(Lst)\n",
    "print(T)"
   ]
  },
  {
   "cell_type": "code",
   "execution_count": 4,
   "id": "50c06e0d",
   "metadata": {
    "execution": {
     "iopub.execute_input": "2021-09-13T14:23:39.744651Z",
     "iopub.status.busy": "2021-09-13T14:23:39.743617Z",
     "iopub.status.idle": "2021-09-13T14:23:39.751077Z",
     "shell.execute_reply": "2021-09-13T14:23:39.752007Z"
    },
    "papermill": {
     "duration": 0.046359,
     "end_time": "2021-09-13T14:23:39.752262",
     "exception": false,
     "start_time": "2021-09-13T14:23:39.705903",
     "status": "completed"
    },
    "tags": []
   },
   "outputs": [
    {
     "name": "stdout",
     "output_type": "stream",
     "text": [
      "<class 'tuple'>\n"
     ]
    }
   ],
   "source": [
    "print(type(T))"
   ]
  },
  {
   "cell_type": "markdown",
   "id": "0e834140",
   "metadata": {
    "papermill": {
     "duration": 0.040359,
     "end_time": "2021-09-13T14:23:39.836487",
     "exception": false,
     "start_time": "2021-09-13T14:23:39.796128",
     "status": "completed"
    },
    "tags": []
   },
   "source": [
    "### Mixed Element with complex object"
   ]
  },
  {
   "cell_type": "code",
   "execution_count": 5,
   "id": "ec810145",
   "metadata": {
    "execution": {
     "iopub.execute_input": "2021-09-13T14:23:39.905793Z",
     "iopub.status.busy": "2021-09-13T14:23:39.905160Z",
     "iopub.status.idle": "2021-09-13T14:23:39.910203Z",
     "shell.execute_reply": "2021-09-13T14:23:39.910897Z"
    },
    "papermill": {
     "duration": 0.041746,
     "end_time": "2021-09-13T14:23:39.911131",
     "exception": false,
     "start_time": "2021-09-13T14:23:39.869385",
     "status": "completed"
    },
    "tags": []
   },
   "outputs": [
    {
     "name": "stdout",
     "output_type": "stream",
     "text": [
      "((10, 20, 30), [90, 80, 70])\n"
     ]
    }
   ],
   "source": [
    "L1 = [90, 80, 70]\n",
    "T1 = (10, 20, 30)\n",
    "\n",
    "T = (T1, L1)\n",
    "\n",
    "print(T)"
   ]
  },
  {
   "cell_type": "markdown",
   "id": "532be566",
   "metadata": {
    "papermill": {
     "duration": 0.032768,
     "end_time": "2021-09-13T14:23:39.977936",
     "exception": false,
     "start_time": "2021-09-13T14:23:39.945168",
     "status": "completed"
    },
    "tags": []
   },
   "source": [
    "# Repetition in Tuples"
   ]
  },
  {
   "cell_type": "markdown",
   "id": "e1c10634",
   "metadata": {
    "papermill": {
     "duration": 0.033184,
     "end_time": "2021-09-13T14:23:40.044034",
     "exception": false,
     "start_time": "2021-09-13T14:23:40.010850",
     "status": "completed"
    },
    "tags": []
   },
   "source": [
    "You can repeat the elements in a tuple for a given number of times using the * operator."
   ]
  },
  {
   "cell_type": "code",
   "execution_count": 6,
   "id": "d5af3c98",
   "metadata": {
    "execution": {
     "iopub.execute_input": "2021-09-13T14:23:40.113240Z",
     "iopub.status.busy": "2021-09-13T14:23:40.112595Z",
     "iopub.status.idle": "2021-09-13T14:23:40.118083Z",
     "shell.execute_reply": "2021-09-13T14:23:40.117644Z"
    },
    "papermill": {
     "duration": 0.041088,
     "end_time": "2021-09-13T14:23:40.118229",
     "exception": false,
     "start_time": "2021-09-13T14:23:40.077141",
     "status": "completed"
    },
    "tags": []
   },
   "outputs": [
    {
     "name": "stdout",
     "output_type": "stream",
     "text": [
      "('Hello ', 'Hello ', 'Hello ', 'Hello ')\n"
     ]
    }
   ],
   "source": [
    "t = (\"Hello \", )\n",
    "\n",
    "print(t * 4)"
   ]
  },
  {
   "cell_type": "markdown",
   "id": "050b6104",
   "metadata": {
    "papermill": {
     "duration": 0.039353,
     "end_time": "2021-09-13T14:23:40.190923",
     "exception": false,
     "start_time": "2021-09-13T14:23:40.151570",
     "status": "completed"
    },
    "tags": []
   },
   "source": [
    "# Access Tuple Elements"
   ]
  },
  {
   "cell_type": "markdown",
   "id": "d3c649ed",
   "metadata": {
    "papermill": {
     "duration": 0.038927,
     "end_time": "2021-09-13T14:23:40.275860",
     "exception": false,
     "start_time": "2021-09-13T14:23:40.236933",
     "status": "completed"
    },
    "tags": []
   },
   "source": [
    "There are various ways in which we can access the elements of a tuple like List in Python.\n",
    "\n",
    "<ul>\n",
    "    <li>Indexing (Positive and Negative Indexing)</li>\n",
    "    <li>Slicing</li>\n",
    "</ul>"
   ]
  },
  {
   "cell_type": "markdown",
   "id": "527a12ee",
   "metadata": {
    "papermill": {
     "duration": 0.034981,
     "end_time": "2021-09-13T14:23:40.347920",
     "exception": false,
     "start_time": "2021-09-13T14:23:40.312939",
     "status": "completed"
    },
    "tags": []
   },
   "source": [
    "# Indexing - Positive"
   ]
  },
  {
   "cell_type": "markdown",
   "id": "12bf77d6",
   "metadata": {
    "papermill": {
     "duration": 0.03402,
     "end_time": "2021-09-13T14:23:40.415161",
     "exception": false,
     "start_time": "2021-09-13T14:23:40.381141",
     "status": "completed"
    },
    "tags": []
   },
   "source": [
    "We can use the index operator by using square/[] bracket. The index value will be start from zero like list. <br/>\n",
    "If tuple has 4 element then index will be start from 0 to 3. If someone access outside this index then it will throw the IndexError.<br/>\n",
    "The index must be an integer, so we cannot use float or other types. This will result in TypeError.<br/>\n"
   ]
  },
  {
   "cell_type": "code",
   "execution_count": 7,
   "id": "f30abeb4",
   "metadata": {
    "execution": {
     "iopub.execute_input": "2021-09-13T14:23:40.487990Z",
     "iopub.status.busy": "2021-09-13T14:23:40.487227Z",
     "iopub.status.idle": "2021-09-13T14:23:40.491093Z",
     "shell.execute_reply": "2021-09-13T14:23:40.490511Z"
    },
    "papermill": {
     "duration": 0.041914,
     "end_time": "2021-09-13T14:23:40.491221",
     "exception": false,
     "start_time": "2021-09-13T14:23:40.449307",
     "status": "completed"
    },
    "tags": []
   },
   "outputs": [
    {
     "name": "stdout",
     "output_type": "stream",
     "text": [
      "10\n",
      "40\n",
      "20\n"
     ]
    }
   ],
   "source": [
    "T = (10, 20, 30, 40)\n",
    "\n",
    "print(T[0])\n",
    "print(T[3])\n",
    "print(T[1])"
   ]
  },
  {
   "cell_type": "code",
   "execution_count": 8,
   "id": "b3c4b45e",
   "metadata": {
    "execution": {
     "iopub.execute_input": "2021-09-13T14:23:40.562583Z",
     "iopub.status.busy": "2021-09-13T14:23:40.561975Z",
     "iopub.status.idle": "2021-09-13T14:23:40.616207Z",
     "shell.execute_reply": "2021-09-13T14:23:40.615359Z"
    },
    "papermill": {
     "duration": 0.09166,
     "end_time": "2021-09-13T14:23:40.616524",
     "exception": true,
     "start_time": "2021-09-13T14:23:40.524864",
     "status": "failed"
    },
    "tags": []
   },
   "outputs": [
    {
     "ename": "IndexError",
     "evalue": "tuple index out of range",
     "output_type": "error",
     "traceback": [
      "\u001b[0;31m---------------------------------------------------------------------------\u001b[0m",
      "\u001b[0;31mIndexError\u001b[0m                                Traceback (most recent call last)",
      "\u001b[0;32m/tmp/ipykernel_20/1254199357.py\u001b[0m in \u001b[0;36m<module>\u001b[0;34m\u001b[0m\n\u001b[1;32m      1\u001b[0m \u001b[0;31m# Try to access outside index in Tuple\u001b[0m\u001b[0;34m\u001b[0m\u001b[0;34m\u001b[0m\u001b[0;34m\u001b[0m\u001b[0m\n\u001b[1;32m      2\u001b[0m \u001b[0;34m\u001b[0m\u001b[0m\n\u001b[0;32m----> 3\u001b[0;31m \u001b[0mT\u001b[0m\u001b[0;34m[\u001b[0m\u001b[0;36m5\u001b[0m\u001b[0;34m]\u001b[0m\u001b[0;34m\u001b[0m\u001b[0;34m\u001b[0m\u001b[0m\n\u001b[0m",
      "\u001b[0;31mIndexError\u001b[0m: tuple index out of range"
     ]
    }
   ],
   "source": [
    "# Try to access outside index in Tuple\n",
    "\n",
    "T[5]"
   ]
  },
  {
   "cell_type": "markdown",
   "id": "fd1a6eab",
   "metadata": {
    "papermill": {
     "duration": null,
     "end_time": null,
     "exception": null,
     "start_time": null,
     "status": "pending"
    },
    "tags": []
   },
   "source": [
    "<b>Access element of nested Tuple in Python </b>"
   ]
  },
  {
   "cell_type": "code",
   "execution_count": null,
   "id": "589c46e8",
   "metadata": {
    "papermill": {
     "duration": null,
     "end_time": null,
     "exception": null,
     "start_time": null,
     "status": "pending"
    },
    "tags": []
   },
   "outputs": [],
   "source": [
    "T = (('Hello', 'World'), (10, 20, 30, 40))"
   ]
  },
  {
   "cell_type": "code",
   "execution_count": null,
   "id": "9307ffed",
   "metadata": {
    "papermill": {
     "duration": null,
     "end_time": null,
     "exception": null,
     "start_time": null,
     "status": "pending"
    },
    "tags": []
   },
   "outputs": [],
   "source": [
    "print(T[0][1])"
   ]
  },
  {
   "cell_type": "code",
   "execution_count": null,
   "id": "17df6a5f",
   "metadata": {
    "papermill": {
     "duration": null,
     "end_time": null,
     "exception": null,
     "start_time": null,
     "status": "pending"
    },
    "tags": []
   },
   "outputs": [],
   "source": [
    "print(T[1][3])"
   ]
  },
  {
   "cell_type": "markdown",
   "id": "661cb542",
   "metadata": {
    "papermill": {
     "duration": null,
     "end_time": null,
     "exception": null,
     "start_time": null,
     "status": "pending"
    },
    "tags": []
   },
   "source": [
    "Similarly we will get IndexError for outside the index value"
   ]
  },
  {
   "cell_type": "code",
   "execution_count": null,
   "id": "e0d54e3b",
   "metadata": {
    "papermill": {
     "duration": null,
     "end_time": null,
     "exception": null,
     "start_time": null,
     "status": "pending"
    },
    "tags": []
   },
   "outputs": [],
   "source": [
    "print(T[0][2])"
   ]
  },
  {
   "cell_type": "markdown",
   "id": "79e940ae",
   "metadata": {
    "papermill": {
     "duration": null,
     "end_time": null,
     "exception": null,
     "start_time": null,
     "status": "pending"
    },
    "tags": []
   },
   "source": [
    "# Indexing - Negative"
   ]
  },
  {
   "cell_type": "markdown",
   "id": "357a09ab",
   "metadata": {
    "papermill": {
     "duration": null,
     "end_time": null,
     "exception": null,
     "start_time": null,
     "status": "pending"
    },
    "tags": []
   },
   "source": [
    "Python allows negative indexing for its sequences.<br/>\n",
    "The index of -1 refers to the last item. "
   ]
  },
  {
   "cell_type": "code",
   "execution_count": null,
   "id": "d915c608",
   "metadata": {
    "papermill": {
     "duration": null,
     "end_time": null,
     "exception": null,
     "start_time": null,
     "status": "pending"
    },
    "tags": []
   },
   "outputs": [],
   "source": [
    "T = (10, 20, 30, 40)\n",
    "\n",
    "print(T[-1])\n",
    "print(T[-3])"
   ]
  },
  {
   "cell_type": "code",
   "execution_count": null,
   "id": "c2ea69a7",
   "metadata": {
    "papermill": {
     "duration": null,
     "end_time": null,
     "exception": null,
     "start_time": null,
     "status": "pending"
    },
    "tags": []
   },
   "outputs": [],
   "source": [
    "T = (('Hello', 'World'), (10, 20, 30, 40))\n",
    "print(T[-2][-2])"
   ]
  },
  {
   "cell_type": "code",
   "execution_count": null,
   "id": "c394a5ed",
   "metadata": {
    "papermill": {
     "duration": null,
     "end_time": null,
     "exception": null,
     "start_time": null,
     "status": "pending"
    },
    "tags": []
   },
   "outputs": [],
   "source": [
    "# Access outside index Tuple in Python\n",
    "T[-3][-2]"
   ]
  },
  {
   "cell_type": "markdown",
   "id": "eef33645",
   "metadata": {
    "papermill": {
     "duration": null,
     "end_time": null,
     "exception": null,
     "start_time": null,
     "status": "pending"
    },
    "tags": []
   },
   "source": [
    "## Slicing - Tuple in Python"
   ]
  },
  {
   "cell_type": "markdown",
   "id": "b9c51a9b",
   "metadata": {
    "papermill": {
     "duration": null,
     "end_time": null,
     "exception": null,
     "start_time": null,
     "status": "pending"
    },
    "tags": []
   },
   "source": [
    "We can access a range of items in a tuple by using the slicing operator colon :."
   ]
  },
  {
   "cell_type": "code",
   "execution_count": null,
   "id": "95823c8a",
   "metadata": {
    "papermill": {
     "duration": null,
     "end_time": null,
     "exception": null,
     "start_time": null,
     "status": "pending"
    },
    "tags": []
   },
   "outputs": [],
   "source": [
    "T = (10, 20, 30, 40)\n",
    "\n",
    "#Positive index Slicing\n",
    "print(T[0:2])\n",
    "\n",
    "print(T[0:3:2])\n",
    "\n",
    "#Negative index Slicing\n",
    "print(T[-1:-5:-1])"
   ]
  },
  {
   "cell_type": "markdown",
   "id": "cfd28804",
   "metadata": {
    "papermill": {
     "duration": null,
     "end_time": null,
     "exception": null,
     "start_time": null,
     "status": "pending"
    },
    "tags": []
   },
   "source": [
    "# Changing a Tuple in Python"
   ]
  },
  {
   "cell_type": "markdown",
   "id": "b0b8be87",
   "metadata": {
    "papermill": {
     "duration": null,
     "end_time": null,
     "exception": null,
     "start_time": null,
     "status": "pending"
    },
    "tags": []
   },
   "source": [
    "It can't be stressed enough that tuples are immutable.This means we can not change the value in element like List  But, if the element is itself a mutable data type like a list, its nested items can be changed."
   ]
  },
  {
   "cell_type": "code",
   "execution_count": null,
   "id": "f71f6b0e",
   "metadata": {
    "papermill": {
     "duration": null,
     "end_time": null,
     "exception": null,
     "start_time": null,
     "status": "pending"
    },
    "tags": []
   },
   "outputs": [],
   "source": [
    "T = (10, 20, 30, 40)\n",
    "\n",
    "t[2] = 200"
   ]
  },
  {
   "cell_type": "code",
   "execution_count": null,
   "id": "27f80aa0",
   "metadata": {
    "papermill": {
     "duration": null,
     "end_time": null,
     "exception": null,
     "start_time": null,
     "status": "pending"
    },
    "tags": []
   },
   "outputs": [],
   "source": [
    "# Created a new Tuple in Python\n",
    "T = (10, 20, 30, 40)\n",
    "print(T)\n",
    "\n",
    "# Reassigned value into Tuple\n",
    "T = (\"Welcome\", \"To\", \"InfoSyntax\")\n",
    "print(T)"
   ]
  },
  {
   "cell_type": "code",
   "execution_count": null,
   "id": "325b9420",
   "metadata": {
    "papermill": {
     "duration": null,
     "end_time": null,
     "exception": null,
     "start_time": null,
     "status": "pending"
    },
    "scrolled": true,
    "tags": []
   },
   "outputs": [],
   "source": [
    "L1 = [90, 80, 70]\n",
    "T1 = (10, 20, 30)\n",
    "\n",
    "T = (T1, L1)\n",
    "print(T)"
   ]
  },
  {
   "cell_type": "markdown",
   "id": "fdf8f164",
   "metadata": {
    "papermill": {
     "duration": null,
     "end_time": null,
     "exception": null,
     "start_time": null,
     "status": "pending"
    },
    "tags": []
   },
   "source": [
    "We can modify the element from complex tuple if the complex object has that capability.<br/>\n",
    "Please see the below example <br/>\n",
    "We one tuple and it has two element such as first one is tuple and second element is list.\n",
    "Second element is List. List has the capability to change it's element value in python so it's possible to change the value in list through tuple."
   ]
  },
  {
   "cell_type": "code",
   "execution_count": null,
   "id": "3b49576c",
   "metadata": {
    "papermill": {
     "duration": null,
     "end_time": null,
     "exception": null,
     "start_time": null,
     "status": "pending"
    },
    "tags": []
   },
   "outputs": [],
   "source": [
    "T[1][2] = 200\n",
    "\n",
    "print(T)"
   ]
  },
  {
   "cell_type": "markdown",
   "id": "cd3bb793",
   "metadata": {
    "papermill": {
     "duration": null,
     "end_time": null,
     "exception": null,
     "start_time": null,
     "status": "pending"
    },
    "tags": []
   },
   "source": [
    "# Deleting a Tuple in Python"
   ]
  },
  {
   "cell_type": "markdown",
   "id": "fbe8defe",
   "metadata": {
    "papermill": {
     "duration": null,
     "end_time": null,
     "exception": null,
     "start_time": null,
     "status": "pending"
    },
    "tags": []
   },
   "source": [
    "As discussed above, we cannot change the elements in a tuple but delete a tuple completely  by using del keyword."
   ]
  },
  {
   "cell_type": "code",
   "execution_count": null,
   "id": "7bd8f782",
   "metadata": {
    "papermill": {
     "duration": null,
     "end_time": null,
     "exception": null,
     "start_time": null,
     "status": "pending"
    },
    "tags": []
   },
   "outputs": [],
   "source": [
    "T = (10, 20, 30, 40)\n",
    "\n",
    "# Try to delete element in Tuple.\n",
    "\n",
    "del T[2]"
   ]
  },
  {
   "cell_type": "code",
   "execution_count": null,
   "id": "71b16cab",
   "metadata": {
    "papermill": {
     "duration": null,
     "end_time": null,
     "exception": null,
     "start_time": null,
     "status": "pending"
    },
    "tags": []
   },
   "outputs": [],
   "source": [
    "# Deleting tuple entirely\n",
    "del T"
   ]
  },
  {
   "cell_type": "markdown",
   "id": "03dc3431",
   "metadata": {
    "papermill": {
     "duration": null,
     "end_time": null,
     "exception": null,
     "start_time": null,
     "status": "pending"
    },
    "tags": []
   },
   "source": [
    "If you try to access to access the same tuple then we will get error."
   ]
  },
  {
   "cell_type": "code",
   "execution_count": null,
   "id": "ac0a7b76",
   "metadata": {
    "papermill": {
     "duration": null,
     "end_time": null,
     "exception": null,
     "start_time": null,
     "status": "pending"
    },
    "tags": []
   },
   "outputs": [],
   "source": [
    "print(T)"
   ]
  },
  {
   "cell_type": "markdown",
   "id": "d69e26d6",
   "metadata": {
    "papermill": {
     "duration": null,
     "end_time": null,
     "exception": null,
     "start_time": null,
     "status": "pending"
    },
    "tags": []
   },
   "source": [
    "# Methods in Tuple"
   ]
  },
  {
   "cell_type": "markdown",
   "id": "c4152603",
   "metadata": {
    "papermill": {
     "duration": null,
     "end_time": null,
     "exception": null,
     "start_time": null,
     "status": "pending"
    },
    "tags": []
   },
   "source": [
    "### Count Method"
   ]
  },
  {
   "cell_type": "markdown",
   "id": "367b1d4d",
   "metadata": {
    "papermill": {
     "duration": null,
     "end_time": null,
     "exception": null,
     "start_time": null,
     "status": "pending"
    },
    "tags": []
   },
   "source": [
    "The count() method returns the number of times a specified value appears in the tuple.<br/>\n",
    "Get the frequency of particular element in a tuple"
   ]
  },
  {
   "cell_type": "code",
   "execution_count": null,
   "id": "fa1e40d0",
   "metadata": {
    "papermill": {
     "duration": null,
     "end_time": null,
     "exception": null,
     "start_time": null,
     "status": "pending"
    },
    "tags": []
   },
   "outputs": [],
   "source": [
    "T = (10, 40, 30, 90, 30, 120)\n",
    "\n",
    "print(T.count(30))"
   ]
  },
  {
   "cell_type": "code",
   "execution_count": null,
   "id": "8a1b5907",
   "metadata": {
    "papermill": {
     "duration": null,
     "end_time": null,
     "exception": null,
     "start_time": null,
     "status": "pending"
    },
    "tags": []
   },
   "outputs": [],
   "source": [
    "print(T.count(100))"
   ]
  },
  {
   "cell_type": "markdown",
   "id": "89d1e7ef",
   "metadata": {
    "papermill": {
     "duration": null,
     "end_time": null,
     "exception": null,
     "start_time": null,
     "status": "pending"
    },
    "tags": []
   },
   "source": [
    "### Index in Tuple"
   ]
  },
  {
   "cell_type": "markdown",
   "id": "3e7f4524",
   "metadata": {
    "papermill": {
     "duration": null,
     "end_time": null,
     "exception": null,
     "start_time": null,
     "status": "pending"
    },
    "tags": []
   },
   "source": [
    "It returns index of the first element."
   ]
  },
  {
   "cell_type": "code",
   "execution_count": null,
   "id": "f8cbcf3e",
   "metadata": {
    "papermill": {
     "duration": null,
     "end_time": null,
     "exception": null,
     "start_time": null,
     "status": "pending"
    },
    "tags": []
   },
   "outputs": [],
   "source": [
    "T = (10, 40, 30, 90, 30, 120)\n",
    "\n",
    "# available item in tuple\n",
    "print(T.index(30))\n",
    "\n"
   ]
  },
  {
   "cell_type": "markdown",
   "id": "ea7b5a4b",
   "metadata": {
    "papermill": {
     "duration": null,
     "end_time": null,
     "exception": null,
     "start_time": null,
     "status": "pending"
    },
    "tags": []
   },
   "source": [
    "Item not exist in tuple then index method will raise the ValueError"
   ]
  },
  {
   "cell_type": "code",
   "execution_count": null,
   "id": "0ebfb303",
   "metadata": {
    "papermill": {
     "duration": null,
     "end_time": null,
     "exception": null,
     "start_time": null,
     "status": "pending"
    },
    "tags": []
   },
   "outputs": [],
   "source": [
    "print(T.index(100))"
   ]
  },
  {
   "cell_type": "markdown",
   "id": "4753f15a",
   "metadata": {
    "papermill": {
     "duration": null,
     "end_time": null,
     "exception": null,
     "start_time": null,
     "status": "pending"
    },
    "tags": []
   },
   "source": [
    "### Length method"
   ]
  },
  {
   "cell_type": "markdown",
   "id": "1d1c56a6",
   "metadata": {
    "papermill": {
     "duration": null,
     "end_time": null,
     "exception": null,
     "start_time": null,
     "status": "pending"
    },
    "tags": []
   },
   "source": [
    "len() is used to find out the length of tuble in python"
   ]
  },
  {
   "cell_type": "code",
   "execution_count": null,
   "id": "ca78c8a9",
   "metadata": {
    "papermill": {
     "duration": null,
     "end_time": null,
     "exception": null,
     "start_time": null,
     "status": "pending"
    },
    "tags": []
   },
   "outputs": [],
   "source": [
    "T = (10, 40, 30, 90, 30, 120)\n",
    "print(len(T))"
   ]
  },
  {
   "cell_type": "markdown",
   "id": "166cdb44",
   "metadata": {
    "papermill": {
     "duration": null,
     "end_time": null,
     "exception": null,
     "start_time": null,
     "status": "pending"
    },
    "tags": []
   },
   "source": [
    "### Sort in Tuple"
   ]
  },
  {
   "cell_type": "markdown",
   "id": "424cc22b",
   "metadata": {
    "papermill": {
     "duration": null,
     "end_time": null,
     "exception": null,
     "start_time": null,
     "status": "pending"
    },
    "tags": []
   },
   "source": [
    "It takes elements in the tuple and return a new sorted list. It does not sort the tuple itself."
   ]
  },
  {
   "cell_type": "code",
   "execution_count": null,
   "id": "dbe3ce25",
   "metadata": {
    "papermill": {
     "duration": null,
     "end_time": null,
     "exception": null,
     "start_time": null,
     "status": "pending"
    },
    "tags": []
   },
   "outputs": [],
   "source": [
    "T = (89, 12, 76, 43, 0, 23, 78)\n",
    "\n",
    "ST = sorted(T)\n",
    "\n",
    "print(T)\n",
    "print(ST)\n",
    "\n",
    "print(type(T))\n",
    "print(type(ST))\n"
   ]
  },
  {
   "cell_type": "markdown",
   "id": "da7ea202",
   "metadata": {
    "papermill": {
     "duration": null,
     "end_time": null,
     "exception": null,
     "start_time": null,
     "status": "pending"
    },
    "tags": []
   },
   "source": [
    "### Sum Method"
   ]
  },
  {
   "cell_type": "markdown",
   "id": "35471ae1",
   "metadata": {
    "papermill": {
     "duration": null,
     "end_time": null,
     "exception": null,
     "start_time": null,
     "status": "pending"
    },
    "tags": []
   },
   "source": [
    "Sum() is used to addation of all the element."
   ]
  },
  {
   "cell_type": "code",
   "execution_count": null,
   "id": "dcf4502a",
   "metadata": {
    "papermill": {
     "duration": null,
     "end_time": null,
     "exception": null,
     "start_time": null,
     "status": "pending"
    },
    "tags": []
   },
   "outputs": [],
   "source": [
    "T = (89, 12, 76, 43, 0, 23, 78)\n",
    "\n",
    "print(sum(T))"
   ]
  },
  {
   "cell_type": "markdown",
   "id": "3f0551ee",
   "metadata": {
    "papermill": {
     "duration": null,
     "end_time": null,
     "exception": null,
     "start_time": null,
     "status": "pending"
    },
    "tags": []
   },
   "source": [
    "Similarly we are using max and min methods for getting maximum and minimum value from tuple in python."
   ]
  },
  {
   "cell_type": "code",
   "execution_count": null,
   "id": "7f18bced",
   "metadata": {
    "papermill": {
     "duration": null,
     "end_time": null,
     "exception": null,
     "start_time": null,
     "status": "pending"
    },
    "tags": []
   },
   "outputs": [],
   "source": [
    "print(max(T))\n",
    "print(min(T))"
   ]
  },
  {
   "cell_type": "markdown",
   "id": "d08b43ba",
   "metadata": {
    "papermill": {
     "duration": null,
     "end_time": null,
     "exception": null,
     "start_time": null,
     "status": "pending"
    },
    "tags": []
   },
   "source": [
    "# Other Tuple Operations"
   ]
  },
  {
   "cell_type": "markdown",
   "id": "2954b6a6",
   "metadata": {
    "papermill": {
     "duration": null,
     "end_time": null,
     "exception": null,
     "start_time": null,
     "status": "pending"
    },
    "tags": []
   },
   "source": [
    "## Iterating Through a Tuple"
   ]
  },
  {
   "cell_type": "markdown",
   "id": "52dc9e44",
   "metadata": {
    "papermill": {
     "duration": null,
     "end_time": null,
     "exception": null,
     "start_time": null,
     "status": "pending"
    },
    "tags": []
   },
   "source": [
    "We can use a for loop to iterate through each item in a tuple."
   ]
  },
  {
   "cell_type": "code",
   "execution_count": null,
   "id": "bc339d1b",
   "metadata": {
    "papermill": {
     "duration": null,
     "end_time": null,
     "exception": null,
     "start_time": null,
     "status": "pending"
    },
    "tags": []
   },
   "outputs": [],
   "source": [
    "Cities = (\"Delhi\", \"San Francisco\")\n",
    "for city in Cities:\n",
    "    print(\"Welcome to \", city)"
   ]
  },
  {
   "cell_type": "markdown",
   "id": "ae34cf46",
   "metadata": {
    "papermill": {
     "duration": null,
     "end_time": null,
     "exception": null,
     "start_time": null,
     "status": "pending"
    },
    "tags": []
   },
   "source": [
    "## Tuple Membership Test"
   ]
  },
  {
   "cell_type": "markdown",
   "id": "868a2565",
   "metadata": {
    "papermill": {
     "duration": null,
     "end_time": null,
     "exception": null,
     "start_time": null,
     "status": "pending"
    },
    "tags": []
   },
   "source": [
    "If an item exists in a tuple then return the true otherwise false by using the keyword in."
   ]
  },
  {
   "cell_type": "code",
   "execution_count": null,
   "id": "15098004",
   "metadata": {
    "papermill": {
     "duration": null,
     "end_time": null,
     "exception": null,
     "start_time": null,
     "status": "pending"
    },
    "tags": []
   },
   "outputs": [],
   "source": [
    "T = (89, 12, 76, 43, 0, 23, 78)\n",
    "\n",
    "#Item exist in tuple\n",
    "print(12 in T)\n",
    "\n",
    "#Item not exist in tuple\n",
    "print(83 in T)"
   ]
  },
  {
   "cell_type": "code",
   "execution_count": null,
   "id": "033a1447",
   "metadata": {
    "papermill": {
     "duration": null,
     "end_time": null,
     "exception": null,
     "start_time": null,
     "status": "pending"
    },
    "tags": []
   },
   "outputs": [],
   "source": []
  }
 ],
 "metadata": {
  "kernelspec": {
   "display_name": "Python 3",
   "language": "python",
   "name": "python3"
  },
  "language_info": {
   "codemirror_mode": {
    "name": "ipython",
    "version": 3
   },
   "file_extension": ".py",
   "mimetype": "text/x-python",
   "name": "python",
   "nbconvert_exporter": "python",
   "pygments_lexer": "ipython3",
   "version": "3.7.10"
  },
  "papermill": {
   "default_parameters": {},
   "duration": 10.859129,
   "end_time": "2021-09-13T14:23:42.237649",
   "environment_variables": {},
   "exception": true,
   "input_path": "__notebook__.ipynb",
   "output_path": "__notebook__.ipynb",
   "parameters": {},
   "start_time": "2021-09-13T14:23:31.378520",
   "version": "2.3.3"
  }
 },
 "nbformat": 4,
 "nbformat_minor": 5
}
